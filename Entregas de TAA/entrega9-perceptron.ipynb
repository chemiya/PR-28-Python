{
 "cells": [
  {
   "cell_type": "code",
   "execution_count": 1,
   "metadata": {},
   "outputs": [],
   "source": [
    "import numpy as np\n",
    "import pandas as pd\n",
    "from sklearn.preprocessing import MinMaxScaler"
   ]
  },
  {
   "cell_type": "code",
   "execution_count": 2,
   "metadata": {},
   "outputs": [],
   "source": [
    "datos0= [[1, 1, 1],\n",
    "        [2, 1, 1],\n",
    "        [2, 2, 1],\n",
    "        [1, 3, 1],\n",
    "        [-1, 1, -1],\n",
    "        [0, 2, -1],\n",
    "        [-1, 3, -1]]\n",
    "\n",
    "datos=pd.DataFrame (datos0)\n",
    "datos.columns = ['x1', 'x2', 'd(x)']"
   ]
  },
  {
   "cell_type": "code",
   "execution_count": 3,
   "metadata": {},
   "outputs": [
    {
     "data": {
      "text/html": [
       "<div>\n",
       "<style scoped>\n",
       "    .dataframe tbody tr th:only-of-type {\n",
       "        vertical-align: middle;\n",
       "    }\n",
       "\n",
       "    .dataframe tbody tr th {\n",
       "        vertical-align: top;\n",
       "    }\n",
       "\n",
       "    .dataframe thead th {\n",
       "        text-align: right;\n",
       "    }\n",
       "</style>\n",
       "<table border=\"1\" class=\"dataframe\">\n",
       "  <thead>\n",
       "    <tr style=\"text-align: right;\">\n",
       "      <th></th>\n",
       "      <th>x1</th>\n",
       "      <th>x2</th>\n",
       "      <th>d(x)</th>\n",
       "    </tr>\n",
       "  </thead>\n",
       "  <tbody>\n",
       "    <tr>\n",
       "      <th>0</th>\n",
       "      <td>1</td>\n",
       "      <td>1</td>\n",
       "      <td>1</td>\n",
       "    </tr>\n",
       "    <tr>\n",
       "      <th>1</th>\n",
       "      <td>2</td>\n",
       "      <td>1</td>\n",
       "      <td>1</td>\n",
       "    </tr>\n",
       "    <tr>\n",
       "      <th>2</th>\n",
       "      <td>2</td>\n",
       "      <td>2</td>\n",
       "      <td>1</td>\n",
       "    </tr>\n",
       "    <tr>\n",
       "      <th>3</th>\n",
       "      <td>1</td>\n",
       "      <td>3</td>\n",
       "      <td>1</td>\n",
       "    </tr>\n",
       "    <tr>\n",
       "      <th>4</th>\n",
       "      <td>-1</td>\n",
       "      <td>1</td>\n",
       "      <td>-1</td>\n",
       "    </tr>\n",
       "    <tr>\n",
       "      <th>5</th>\n",
       "      <td>0</td>\n",
       "      <td>2</td>\n",
       "      <td>-1</td>\n",
       "    </tr>\n",
       "    <tr>\n",
       "      <th>6</th>\n",
       "      <td>-1</td>\n",
       "      <td>3</td>\n",
       "      <td>-1</td>\n",
       "    </tr>\n",
       "  </tbody>\n",
       "</table>\n",
       "</div>"
      ],
      "text/plain": [
       "   x1  x2  d(x)\n",
       "0   1   1     1\n",
       "1   2   1     1\n",
       "2   2   2     1\n",
       "3   1   3     1\n",
       "4  -1   1    -1\n",
       "5   0   2    -1\n",
       "6  -1   3    -1"
      ]
     },
     "execution_count": 3,
     "metadata": {},
     "output_type": "execute_result"
    }
   ],
   "source": [
    "datos"
   ]
  },
  {
   "cell_type": "code",
   "execution_count": 4,
   "metadata": {},
   "outputs": [
    {
     "name": "stdout",
     "output_type": "stream",
     "text": [
      "(7, 2)\n",
      "(7,)\n"
     ]
    }
   ],
   "source": [
    "X = MinMaxScaler().fit_transform (datos[['x1','x2']])\n",
    "d = datos['d(x)'].values\n",
    "print(X.shape)\n",
    "print(d.shape)\n"
   ]
  },
  {
   "cell_type": "code",
   "execution_count": 5,
   "metadata": {
    "scrolled": true
   },
   "outputs": [
    {
     "data": {
      "image/png": "[encoded data removed]",
      "text/plain": [
       "<Figure size 640x480 with 1 Axes>"
      ]
     },
     "metadata": {},
     "output_type": "display_data"
    }
   ],
   "source": [
    "import matplotlib.pyplot as plt\n",
    "plt.scatter (X[np.argwhere(d==1), 0], X[np.argwhere (d==1), 1], c='blue')#1 o -1,, 01\n",
    "plt.scatter (X[np.argwhere(d==-1), 0], X[np.argwhere (d==-1), 1], c='green')\n",
    "plt.xlabel('x1')\n",
    "plt.ylabel('x2')\n",
    "plt.grid()\n",
    "#hacer la recta\n",
    "plt.plot([0.5,0.5], [0,1], c='red')\n",
    "plt.show ()"
   ]
  },
  {
   "cell_type": "code",
   "execution_count": 6,
   "metadata": {},
   "outputs": [],
   "source": [
    "\n",
    "class perceptron_simple ():\n",
    "    def __init__ (self, n_inputs=2, n_outputs=1, W=None, b=None):\n",
    "        #autoasigno\n",
    "        self.n_inputs = n_inputs\n",
    "        self.n_output = n_outputs\n",
    "        self.W = W\n",
    "        self.b = b\n",
    "        \n",
    "        \n",
    "        if self.W is None:\n",
    "            self.W = np.random.rand (self.n_outputs, self.n_inputs) - 0.5# si es nulo aleatorio entre e/s\n",
    "        if self.b is None:\n",
    "            self.b = np.random.rand (self.n_outputs, 1) - 0.5#si es nulo aleatorio entre salidas,1\n",
    "    def predict (self, x):\n",
    "        return np.sign (self.W @ x.T + self.b).T.astype(int)# w y b con la x\n",
    "    def train (self, X, D):\n",
    "        if np.sum (self.predict (X) == D) != D.shape [0]:# si sumo las predicciones y d no es 0. sum(pred correctas)=d\n",
    "            continuar = True\n",
    "            p = 0\n",
    "            while continuar:\n",
    "                v = p % X.shape [0]#modulo\n",
    "                x = X[v].reshape (1, -1)# del sitio x posicion v con reshape\n",
    "                y = self.predict (x)#prediccion\n",
    "                d = D[v].reshape (1, -1)\n",
    "                if y != d:# si y noes igual a d\n",
    "                    self.W += d*x\n",
    "                    self.b += d\n",
    "                    # Después de ajustar los pesos, vemos si el \n",
    "                    # modelo ya es el corrrecto\n",
    "                    SalModelo=self.predict (X)#otra precidicon\n",
    "                    print (\"Iteración #{:02d}\".format(p), \"\\tTodas las Salidas producidas:\", SalModelo.T)\n",
    "                    print (\"\\t\\tTodas las Salidas deseadas:  \", D.T)\n",
    "                    if np.sum (self.predict (X) == D) == D.shape [0]:# si las predicciones es igual tamano paro\n",
    "                        continuar = False\n",
    "                p += 1\n",
    "        return\n",
    "    def get_params (self):\n",
    "        return self.W, self.b"
   ]
  },
  {
   "cell_type": "code",
   "execution_count": 7,
   "metadata": {},
   "outputs": [
    {
     "name": "stdout",
     "output_type": "stream",
     "text": [
      "[[0.75 1.  ]]\n"
     ]
    }
   ],
   "source": [
    "w = np.array ([0.75, 1.]).reshape (1,2)#aaray de 2 \n",
    "print(w)\n",
    "B = np.array ([-3]).reshape (1,1)\n",
    "ps = perceptron_simple (n_inputs=2, n_outputs = 1, W=w, b=B)"
   ]
  },
  {
   "cell_type": "code",
   "execution_count": 8,
   "metadata": {},
   "outputs": [
    {
     "name": "stdout",
     "output_type": "stream",
     "text": [
      "Iteración #00 \tTodas las Salidas producidas: [[-1 -1 -1 -1 -1 -1 -1]]\n",
      "\t\tTodas las Salidas deseadas:   [[ 1  1  1  1 -1 -1 -1]]\n",
      "Iteración #01 \tTodas las Salidas producidas: [[ 1  1  1  1 -1  1  0]]\n",
      "\t\tTodas las Salidas deseadas:   [[ 1  1  1  1 -1 -1 -1]]\n",
      "Iteración #05 \tTodas las Salidas producidas: [[-1  1  1 -1 -1 -1 -1]]\n",
      "\t\tTodas las Salidas deseadas:   [[ 1  1  1  1 -1 -1 -1]]\n",
      "Iteración #07 \tTodas las Salidas producidas: [[ 1  1  1  1 -1  1 -1]]\n",
      "\t\tTodas las Salidas deseadas:   [[ 1  1  1  1 -1 -1 -1]]\n",
      "Iteración #12 \tTodas las Salidas producidas: [[-1  1  1 -1 -1 -1 -1]]\n",
      "\t\tTodas las Salidas deseadas:   [[ 1  1  1  1 -1 -1 -1]]\n",
      "Iteración #14 \tTodas las Salidas producidas: [[ 1  1  1  1 -1  1 -1]]\n",
      "\t\tTodas las Salidas deseadas:   [[ 1  1  1  1 -1 -1 -1]]\n",
      "Iteración #19 \tTodas las Salidas producidas: [[-1  1  1 -1 -1 -1 -1]]\n",
      "\t\tTodas las Salidas deseadas:   [[ 1  1  1  1 -1 -1 -1]]\n",
      "Iteración #21 \tTodas las Salidas producidas: [[ 1  1  1  1 -1 -1 -1]]\n",
      "\t\tTodas las Salidas deseadas:   [[ 1  1  1  1 -1 -1 -1]]\n"
     ]
    }
   ],
   "source": [
    "ps.train(X, d.reshape (-1,1))"
   ]
  },
  {
   "cell_type": "code",
   "execution_count": 9,
   "metadata": {},
   "outputs": [],
   "source": [
    "pesos, bias = ps.get_params()"
   ]
  },
  {
   "cell_type": "code",
   "execution_count": 10,
   "metadata": {},
   "outputs": [
    {
     "data": {
      "image/png": "[encoded data removed]",
      "text/plain": [
       "<Figure size 640x480 with 1 Axes>"
      ]
     },
     "metadata": {},
     "output_type": "display_data"
    }
   ],
   "source": [
    "plt.scatter (X[np.argwhere(d==1), 0], X[np.argwhere(d==1), 1], c='blue')\n",
    "plt.scatter (X[np.argwhere(d==-1), 0], X[np.argwhere(d==-1), 1], c='green')\n",
    "plt.xlabel ('x1')\n",
    "plt.ylabel ('x2')\n",
    "plt.xlim=((0,1))\n",
    "plt.ylim=((0,1))\n",
    "plt.grid ()\n",
    "x1= np.array([0.0, 1.0])\n",
    "x2= np.array([-bias[0,0]/pesos[0,1], (-bias [0,0]-pesos [0,0])/pesos[0,1] ])\n",
    "plt.plot (x1, x2, c='red')\n",
    "plt.show()"
   ]
  },
  {
   "attachments": {},
   "cell_type": "markdown",
   "metadata": {},
   "source": [
    "# Adaline"
   ]
  },
  {
   "cell_type": "code",
   "execution_count": 11,
   "metadata": {},
   "outputs": [],
   "source": [
    "dataset = pd.read_csv('boston.csv')"
   ]
  },
  {
   "cell_type": "code",
   "execution_count": 12,
   "metadata": {},
   "outputs": [],
   "source": [
    "dataset=dataset.dropna(subset=[\"MEDV\"]).reset_index(drop=True)#eliminas los na"
   ]
  },
  {
   "cell_type": "code",
   "execution_count": 28,
   "metadata": {},
   "outputs": [],
   "source": [
    "y=dataset[\"MEDV\"]"
   ]
  },
  {
   "cell_type": "code",
   "execution_count": 29,
   "metadata": {},
   "outputs": [],
   "source": [
    "X=dataset.drop(columns=[\"MEDV\"])#eliminas la columnua"
   ]
  },
  {
   "cell_type": "code",
   "execution_count": 30,
   "metadata": {},
   "outputs": [],
   "source": [
    "scaler = MinMaxScaler ()"
   ]
  },
  {
   "cell_type": "code",
   "execution_count": 31,
   "metadata": {},
   "outputs": [],
   "source": [
    "X = scaler.fit_transform(X)#solo el x"
   ]
  },
  {
   "cell_type": "code",
   "execution_count": 17,
   "metadata": {},
   "outputs": [],
   "source": [
    "from sklearn.model_selection import train_test_split, StratifiedKFold\n",
    "K = 10\n",
    "skf = StratifiedKFold (n_splits=K)#validacion stratificada"
   ]
  },
  {
   "cell_type": "code",
   "execution_count": 32,
   "metadata": {},
   "outputs": [],
   "source": [
    "from sklearn.linear_model import  SGDRegressor"
   ]
  },
  {
   "cell_type": "code",
   "execution_count": 33,
   "metadata": {},
   "outputs": [],
   "source": [
    "from sklearn import preprocessing\n",
    "clase=preprocessing.LabelEncoder()\n",
    "clase.fit(np.unique(y))# guardo las etiqueitas\n",
    "y_auxiliar=clase.transform(y)#transformo\n",
    "#conviertes path, foliage a 1,2"
   ]
  },
  {
   "cell_type": "code",
   "execution_count": 35,
   "metadata": {},
   "outputs": [],
   "source": [
    "r_class = pd.DataFrame (columns=['Fold', 'aciertos',\"R2\"])# pongo las columnas estas"
   ]
  },
  {
   "cell_type": "code",
   "execution_count": 52,
   "metadata": {},
   "outputs": [
    {
     "name": "stderr",
     "output_type": "stream",
     "text": [
      "c:\\Users\\jmlozanoo\\AppData\\Local\\Programs\\Python\\Python311\\Lib\\site-packages\\sklearn\\model_selection\\_split.py:700: UserWarning: The least populated class in y has only 1 members, which is less than n_splits=10.\n",
      "  warnings.warn(\n"
     ]
    }
   ],
   "source": [
    "\n",
    "k=0\n",
    "for train_index,test_index in skf.split(X, y_auxiliar):\n",
    "    error=pd.DataFrame(columns=[\"Real\",\"Predicho\",\"Error\",\"Error relativo\"])\n",
    "\n",
    "    #SGD predicion\n",
    "    regr = SGDRegressor(max_iter=5000, tol=1e-5, random_state=20)\n",
    "    regr.fit(X[train_index],y[train_index])\n",
    "    prediciones=regr.predict(X[test_index])\n",
    "\n",
    "\n",
    "\n",
    "    #error\n",
    "    error[\"Real\"]=y[test_index]\n",
    "    error[\"Predicho\"]=prediciones\n",
    "    error[\"Error\"]=abs(error[\"Real\"]-error[\"Predicho\"])\n",
    "    error[\"Error relativo\"]=(error[\"Error\"]/error[\"Real\"])*100\n",
    "    porcentaje=error.apply(lambda x: x['Error relativo'] < 15, axis=1).sum()/len(error)#mayores de 15 los cuentas\n",
    "    \n",
    "\n",
    "    r_class.loc[k]=[k,porcentaje,regr.score(X[test_index],y[test_index])]\n",
    "    k+=1"
   ]
  },
  {
   "cell_type": "code",
   "execution_count": 53,
   "metadata": {},
   "outputs": [
    {
     "data": {
      "text/html": [
       "<div>\n",
       "<style scoped>\n",
       "    .dataframe tbody tr th:only-of-type {\n",
       "        vertical-align: middle;\n",
       "    }\n",
       "\n",
       "    .dataframe tbody tr th {\n",
       "        vertical-align: top;\n",
       "    }\n",
       "\n",
       "    .dataframe thead th {\n",
       "        text-align: right;\n",
       "    }\n",
       "</style>\n",
       "<table border=\"1\" class=\"dataframe\">\n",
       "  <thead>\n",
       "    <tr style=\"text-align: right;\">\n",
       "      <th></th>\n",
       "      <th>Fold</th>\n",
       "      <th>aciertos</th>\n",
       "      <th>R2</th>\n",
       "    </tr>\n",
       "  </thead>\n",
       "  <tbody>\n",
       "    <tr>\n",
       "      <th>0</th>\n",
       "      <td>0</td>\n",
       "      <td>0.717391</td>\n",
       "      <td>0.826068</td>\n",
       "    </tr>\n",
       "    <tr>\n",
       "      <th>1</th>\n",
       "      <td>1</td>\n",
       "      <td>0.630435</td>\n",
       "      <td>0.757883</td>\n",
       "    </tr>\n",
       "    <tr>\n",
       "      <th>2</th>\n",
       "      <td>2</td>\n",
       "      <td>0.622222</td>\n",
       "      <td>0.588573</td>\n",
       "    </tr>\n",
       "    <tr>\n",
       "      <th>3</th>\n",
       "      <td>3</td>\n",
       "      <td>0.555556</td>\n",
       "      <td>0.796888</td>\n",
       "    </tr>\n",
       "    <tr>\n",
       "      <th>4</th>\n",
       "      <td>4</td>\n",
       "      <td>0.644444</td>\n",
       "      <td>0.855750</td>\n",
       "    </tr>\n",
       "    <tr>\n",
       "      <th>5</th>\n",
       "      <td>5</td>\n",
       "      <td>0.777778</td>\n",
       "      <td>0.668170</td>\n",
       "    </tr>\n",
       "    <tr>\n",
       "      <th>6</th>\n",
       "      <td>6</td>\n",
       "      <td>0.666667</td>\n",
       "      <td>0.634983</td>\n",
       "    </tr>\n",
       "    <tr>\n",
       "      <th>7</th>\n",
       "      <td>7</td>\n",
       "      <td>0.622222</td>\n",
       "      <td>0.716296</td>\n",
       "    </tr>\n",
       "    <tr>\n",
       "      <th>8</th>\n",
       "      <td>8</td>\n",
       "      <td>0.666667</td>\n",
       "      <td>0.622011</td>\n",
       "    </tr>\n",
       "    <tr>\n",
       "      <th>9</th>\n",
       "      <td>9</td>\n",
       "      <td>0.6</td>\n",
       "      <td>0.558442</td>\n",
       "    </tr>\n",
       "  </tbody>\n",
       "</table>\n",
       "</div>"
      ],
      "text/plain": [
       "   Fold  aciertos        R2\n",
       "0     0  0.717391  0.826068\n",
       "1     1  0.630435  0.757883\n",
       "2     2  0.622222  0.588573\n",
       "3     3  0.555556  0.796888\n",
       "4     4  0.644444  0.855750\n",
       "5     5  0.777778  0.668170\n",
       "6     6  0.666667  0.634983\n",
       "7     7  0.622222  0.716296\n",
       "8     8  0.666667  0.622011\n",
       "9     9       0.6  0.558442"
      ]
     },
     "execution_count": 53,
     "metadata": {},
     "output_type": "execute_result"
    }
   ],
   "source": [
    "r_class"
   ]
  }
 ],
 "metadata": {
  "kernelspec": {
   "display_name": "Python 3 (ipykernel)",
   "language": "python",
   "name": "python3"
  },
  "language_info": {
   "codemirror_mode": {
    "name": "ipython",
    "version": 3
   },
   "file_extension": ".py",
   "mimetype": "text/x-python",
   "name": "python",
   "nbconvert_exporter": "python",
   "pygments_lexer": "ipython3",
   "version": "3.11.2"
  }
 },
 "nbformat": 4,
 "nbformat_minor": 4
}
