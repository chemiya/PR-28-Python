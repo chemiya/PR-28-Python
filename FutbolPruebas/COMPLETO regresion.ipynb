{
 "cells": [
  {
   "cell_type": "code",
   "execution_count": 1,
   "metadata": {},
   "outputs": [],
   "source": [
    "import pandas as pd\n",
    "from sklearn.metrics import accuracy_score\n",
    "from sklearn.metrics import mean_squared_error, r2_score\n",
    "from sklearn.metrics import mean_absolute_error"
   ]
  },
  {
   "cell_type": "markdown",
   "metadata": {},
   "source": [
    "<h1>Carga de datos</h1>"
   ]
  },
  {
   "cell_type": "code",
   "execution_count": 2,
   "metadata": {},
   "outputs": [
    {
     "name": "stdout",
     "output_type": "stream",
     "text": [
      "      nombre local nombre visitante  resultado local  resultado visitante  \\\n",
      "0           HamKam       Lillestrom                2                    2   \n",
      "1            Molde        Valerenga                1                    0   \n",
      "2         Aalesund     Kristiansund                1                    0   \n",
      "3        Haugesund       Sandefjord                1                    3   \n",
      "4             Jerv     Stromsgodset                1                    0   \n",
      "..             ...              ...              ...                  ...   \n",
      "855    Corinthians      Atletico MG                0                    1   \n",
      "856         Cuiaba         Coritiba                2                    1   \n",
      "857          Goias        Sao Paulo                0                    4   \n",
      "858  Internacional        Palmeiras                3                    0   \n",
      "859         Santos        Fortaleza                0                    2   \n",
      "\n",
      "     resultado mas 1,5  resultado mas 2,5  resultado menos 3,5  \\\n",
      "0                    1                  1                    0   \n",
      "1                    0                  0                    1   \n",
      "2                    0                  0                    1   \n",
      "3                    1                  1                    0   \n",
      "4                    0                  0                    1   \n",
      "..                 ...                ...                  ...   \n",
      "855                  0                  0                    1   \n",
      "856                  1                  1                    1   \n",
      "857                  1                  1                    0   \n",
      "858                  1                  1                    1   \n",
      "859                  1                  0                    1   \n",
      "\n",
      "     resultado menos 4,5  resultado mas 0,5 local  \\\n",
      "0                      1                        1   \n",
      "1                      1                        1   \n",
      "2                      1                        1   \n",
      "3                      1                        1   \n",
      "4                      1                        1   \n",
      "..                   ...                      ...   \n",
      "855                    1                        0   \n",
      "856                    1                        1   \n",
      "857                    1                        0   \n",
      "858                    1                        1   \n",
      "859                    1                        0   \n",
      "\n",
      "     resultado mas 0,5 visitante  ...  proporcion goles ambos en sitio  \\\n",
      "0                              1  ...                             0.00   \n",
      "1                              0  ...                             0.00   \n",
      "2                              0  ...                             0.00   \n",
      "3                              1  ...                             0.00   \n",
      "4                              0  ...                             0.00   \n",
      "..                           ...  ...                              ...   \n",
      "855                            1  ...                             2.00   \n",
      "856                            1  ...                             2.33   \n",
      "857                            1  ...                             2.17   \n",
      "858                            0  ...                             2.50   \n",
      "859                            1  ...                             2.53   \n",
      "\n",
      "     proporcion goles ambos en general  \\\n",
      "0                                 0.00   \n",
      "1                                 0.00   \n",
      "2                                 0.00   \n",
      "3                                 0.00   \n",
      "4                                 0.00   \n",
      "..                                 ...   \n",
      "855                               2.16   \n",
      "856                               2.24   \n",
      "857                               2.46   \n",
      "858                               2.38   \n",
      "859                               2.24   \n",
      "\n",
      "     proporcion goles ambos en ultimos 4 sitio  \\\n",
      "0                                         0.00   \n",
      "1                                         0.00   \n",
      "2                                         0.00   \n",
      "3                                         0.00   \n",
      "4                                         0.00   \n",
      "..                                         ...   \n",
      "855                                       2.00   \n",
      "856                                       2.38   \n",
      "857                                       2.00   \n",
      "858                                       3.00   \n",
      "859                                       2.62   \n",
      "\n",
      "     proporcion goles ambos en ultimos 8 general  \\\n",
      "0                                           0.00   \n",
      "1                                           0.00   \n",
      "2                                           0.00   \n",
      "3                                           0.00   \n",
      "4                                           0.00   \n",
      "..                                           ...   \n",
      "855                                         2.00   \n",
      "856                                         2.44   \n",
      "857                                         2.75   \n",
      "858                                         2.38   \n",
      "859                                         3.06   \n",
      "\n",
      "     proporcion goles ambos media  diferencia puntos en sitio  \\\n",
      "0                            0.00                        0.00   \n",
      "1                            0.00                        0.00   \n",
      "2                            0.00                        0.00   \n",
      "3                            0.00                        0.00   \n",
      "4                            0.00                        0.00   \n",
      "..                            ...                         ...   \n",
      "855                          2.04                        0.78   \n",
      "856                          2.35                        1.00   \n",
      "857                          2.34                        0.27   \n",
      "858                          2.56                        0.17   \n",
      "859                          2.61                        0.33   \n",
      "\n",
      "     diferencia puntos en general  diferencia puntos en ultimos 4 sitio  \\\n",
      "0                            0.00                                  0.00   \n",
      "1                            0.00                                  0.00   \n",
      "2                            0.00                                  0.00   \n",
      "3                            0.00                                  0.00   \n",
      "4                            0.00                                  0.00   \n",
      "..                            ...                                   ...   \n",
      "855                          0.27                                  1.00   \n",
      "856                         -0.11                                  0.25   \n",
      "857                         -0.14                                 -0.50   \n",
      "858                         -0.30                                  1.00   \n",
      "859                         -0.14                                 -0.75   \n",
      "\n",
      "     diferencia puntos en ultimos 8 general  diferencia puntos media  \n",
      "0                                      0.00                     0.00  \n",
      "1                                      0.00                     0.00  \n",
      "2                                      0.00                     0.00  \n",
      "3                                      0.00                     0.00  \n",
      "4                                      0.00                     0.00  \n",
      "..                                      ...                      ...  \n",
      "855                                    0.38                     0.61  \n",
      "856                                   -0.38                     0.19  \n",
      "857                                   -0.26                    -0.16  \n",
      "858                                   -0.13                     0.18  \n",
      "859                                   -0.63                    -0.30  \n",
      "\n",
      "[860 rows x 144 columns]\n"
     ]
    }
   ],
   "source": [
    "datos_cargados=pd.read_csv('./prueba3ligas.csv', header=0, delimiter=\";\")\n",
    "print(datos_cargados)"
   ]
  },
  {
   "cell_type": "code",
   "execution_count": 3,
   "metadata": {},
   "outputs": [
    {
     "name": "stdout",
     "output_type": "stream",
     "text": [
      "(637, 144)\n"
     ]
    }
   ],
   "source": [
    "datos_cargados=datos_cargados[datos_cargados[\"porcentaje mas 1,5 en sitio\"]!=\"no valido\"]\n",
    "print(datos_cargados.shape)"
   ]
  },
  {
   "cell_type": "code",
   "execution_count": 4,
   "metadata": {},
   "outputs": [],
   "source": [
    "dataframe_resultados=pd.DataFrame(columns=[\"Modelo\",\"equipo\",\"R^2\",\"EMA\"])"
   ]
  },
  {
   "cell_type": "markdown",
   "metadata": {},
   "source": [
    "<h1>Preparar prediccion</h1>"
   ]
  },
  {
   "cell_type": "code",
   "execution_count": 5,
   "metadata": {},
   "outputs": [],
   "source": [
    "y_local=datos_cargados[\"resultado local\"]\n",
    "y_visitante=datos_cargados[\"resultado visitante\"]\n",
    "y_ambos=datos_cargados[\"resultado local\"]+datos_cargados[\"resultado visitante\"]\n"
   ]
  },
  {
   "cell_type": "code",
   "execution_count": 6,
   "metadata": {},
   "outputs": [],
   "source": [
    "array_proporcion_goles_local=[\n",
    "    \"proporcion goles local en sitio\",\n",
    "    \"proporcion goles local en general\",\n",
    "    \"proporcion goles local en ultimos 4 sitio\",\n",
    "    \"proporcion goles local en ultimos 8 general\",\n",
    "    \"proporcion goles local media\"\n",
    "    ]\n",
    "\n",
    "array_proporcion_goles_visitante=[\n",
    "   \n",
    "\n",
    "    \"proporcion goles visitante en sitio\",\n",
    "    \"proporcion goles visitante en general\",\n",
    "    \"proporcion goles visitante en ultimos 4 sitio\",\n",
    "    \"proporcion goles visitante en ultimos 8 general\",\n",
    "    \"proporcion goles visitante media\"\n",
    "    ]\n",
    "\n",
    "array_proporcion_goles_ambos=[\n",
    "    \n",
    "\n",
    "    \"proporcion goles ambos en sitio\",\n",
    "    \"proporcion goles ambos en general\",\n",
    "    \"proporcion goles ambos en ultimos 4 sitio\",\n",
    "    \"proporcion goles ambos en ultimos 8 general\",\n",
    "    \"proporcion goles ambos media\"\n",
    "    ]\n",
    "\n"
   ]
  },
  {
   "cell_type": "code",
   "execution_count": 7,
   "metadata": {},
   "outputs": [],
   "source": [
    "array_columnas=array_proporcion_goles_local+array_proporcion_goles_visitante+array_proporcion_goles_ambos"
   ]
  },
  {
   "cell_type": "code",
   "execution_count": 8,
   "metadata": {},
   "outputs": [],
   "source": [
    "x=datos_cargados[array_columnas]"
   ]
  },
  {
   "cell_type": "markdown",
   "metadata": {},
   "source": [
    "<h1>Hold out y escalado de los datos</h1>"
   ]
  },
  {
   "cell_type": "code",
   "execution_count": 9,
   "metadata": {},
   "outputs": [],
   "source": [
    "from sklearn.preprocessing import StandardScaler\n",
    "escalar = StandardScaler()\n",
    "x = escalar.fit_transform(x)"
   ]
  },
  {
   "cell_type": "code",
   "execution_count": 10,
   "metadata": {},
   "outputs": [],
   "source": [
    "from sklearn.model_selection import train_test_split\n",
    "X_train_local, X_test_local, y_train_local, y_test_local = train_test_split(x, y_local, test_size=0.33)"
   ]
  },
  {
   "cell_type": "code",
   "execution_count": 11,
   "metadata": {},
   "outputs": [],
   "source": [
    "from sklearn.model_selection import train_test_split\n",
    "X_train_visitante, X_test_visitante, y_train_visitante, y_test_visitante = train_test_split(x, y_visitante, test_size=0.33)"
   ]
  },
  {
   "cell_type": "code",
   "execution_count": 12,
   "metadata": {},
   "outputs": [],
   "source": [
    "from sklearn.model_selection import train_test_split\n",
    "X_train_ambos, X_test_ambos, y_train_ambos, y_test_ambos = train_test_split(x, y_ambos, test_size=0.33)"
   ]
  },
  {
   "cell_type": "markdown",
   "metadata": {},
   "source": [
    "<h1>Regresion lineal</h1>"
   ]
  },
  {
   "cell_type": "code",
   "execution_count": 13,
   "metadata": {},
   "outputs": [],
   "source": [
    "from sklearn.linear_model import LinearRegression"
   ]
  },
  {
   "cell_type": "code",
   "execution_count": 14,
   "metadata": {},
   "outputs": [],
   "source": [
    "model = LinearRegression()"
   ]
  },
  {
   "cell_type": "code",
   "execution_count": 15,
   "metadata": {},
   "outputs": [
    {
     "name": "stdout",
     "output_type": "stream",
     "text": [
      "EMA: 0.9533022799095238\n",
      "Coeficiente de determinación (R2): 0.026939338137450974\n"
     ]
    }
   ],
   "source": [
    "model.fit(X_train_local, y_train_local)\n",
    "y_pred = model.predict(X_test_local)\n",
    "r2 = r2_score(y_test_local, y_pred)\n",
    "ema = mean_absolute_error(y_test_local, y_pred)\n",
    "print(\"EMA:\", ema)\n",
    "print(\"Coeficiente de determinación (R2):\", r2)\n",
    "dataframe_resultados.loc[len(dataframe_resultados)]=[\"Regresion lineal\",\"local\",round(r2, 3),round(ema,3)]"
   ]
  },
  {
   "cell_type": "code",
   "execution_count": 16,
   "metadata": {},
   "outputs": [
    {
     "name": "stdout",
     "output_type": "stream",
     "text": [
      "EMA: 0.8252349957456991\n",
      "Coeficiente de determinación (R2): 0.11489046917725376\n"
     ]
    }
   ],
   "source": [
    "model.fit(X_train_visitante, y_train_visitante)\n",
    "y_pred = model.predict(X_test_visitante)\n",
    "r2 = r2_score(y_test_visitante, y_pred)\n",
    "ema = mean_absolute_error(y_test_visitante, y_pred)\n",
    "print(\"EMA:\", ema)\n",
    "print(\"Coeficiente de determinación (R2):\", r2)\n",
    "dataframe_resultados.loc[len(dataframe_resultados)]=[\"Regresion lineal\",\"visitante\",round(r2, 3),round(ema,3)]"
   ]
  },
  {
   "cell_type": "code",
   "execution_count": 17,
   "metadata": {},
   "outputs": [
    {
     "name": "stdout",
     "output_type": "stream",
     "text": [
      "EMA: 1.267393389323041\n",
      "Coeficiente de determinación (R2): 0.08180902772522058\n"
     ]
    }
   ],
   "source": [
    "model.fit(X_train_ambos, y_train_ambos)\n",
    "y_pred = model.predict(X_test_ambos)\n",
    "r2 = r2_score(y_test_ambos, y_pred)\n",
    "ema = mean_absolute_error(y_test_ambos, y_pred)\n",
    "print(\"EMA:\", ema)\n",
    "print(\"Coeficiente de determinación (R2):\", r2)\n",
    "dataframe_resultados.loc[len(dataframe_resultados)]=[\"Regresion lineal\",\"ambos\",round(r2, 3),round(ema,3)]"
   ]
  },
  {
   "cell_type": "markdown",
   "metadata": {},
   "source": [
    "<h1>Regresion Ridge</h1>"
   ]
  },
  {
   "cell_type": "code",
   "execution_count": 18,
   "metadata": {},
   "outputs": [],
   "source": [
    "from sklearn.linear_model import Ridge"
   ]
  },
  {
   "cell_type": "code",
   "execution_count": 19,
   "metadata": {},
   "outputs": [],
   "source": [
    "model = Ridge(alpha=1.0)  "
   ]
  },
  {
   "cell_type": "code",
   "execution_count": 20,
   "metadata": {},
   "outputs": [
    {
     "name": "stdout",
     "output_type": "stream",
     "text": [
      "EMA: 0.9455266745455327\n",
      "Coeficiente de determinación (R2): 0.04606068123652618\n"
     ]
    }
   ],
   "source": [
    "model.fit(X_train_local, y_train_local)\n",
    "y_pred = model.predict(X_test_local)\n",
    "r2 = r2_score(y_test_local, y_pred)\n",
    "ema = mean_absolute_error(y_test_local, y_pred)\n",
    "print(\"EMA:\", ema)\n",
    "print(\"Coeficiente de determinación (R2):\", r2)\n",
    "dataframe_resultados.loc[len(dataframe_resultados)]=[\"Ridge\",\"local\",round(r2, 3),round(ema,3)]"
   ]
  },
  {
   "cell_type": "code",
   "execution_count": 21,
   "metadata": {},
   "outputs": [
    {
     "name": "stdout",
     "output_type": "stream",
     "text": [
      "EMA: 0.8246855436015513\n",
      "Coeficiente de determinación (R2): 0.11812608598538232\n"
     ]
    }
   ],
   "source": [
    "model.fit(X_train_visitante, y_train_visitante)\n",
    "y_pred = model.predict(X_test_visitante)\n",
    "r2 = r2_score(y_test_visitante, y_pred)\n",
    "ema = mean_absolute_error(y_test_visitante, y_pred)\n",
    "print(\"EMA:\", ema)\n",
    "print(\"Coeficiente de determinación (R2):\", r2)\n",
    "dataframe_resultados.loc[len(dataframe_resultados)]=[\"Ridge\",\"visitante\",round(r2, 3),round(ema,3)]"
   ]
  },
  {
   "cell_type": "code",
   "execution_count": 22,
   "metadata": {},
   "outputs": [
    {
     "name": "stdout",
     "output_type": "stream",
     "text": [
      "EMA: 1.2426911485416292\n",
      "Coeficiente de determinación (R2): 0.12019800081865173\n"
     ]
    }
   ],
   "source": [
    "model.fit(X_train_ambos, y_train_ambos)\n",
    "y_pred = model.predict(X_test_ambos)\n",
    "r2 = r2_score(y_test_ambos, y_pred)\n",
    "ema = mean_absolute_error(y_test_ambos, y_pred)\n",
    "print(\"EMA:\", ema)\n",
    "print(\"Coeficiente de determinación (R2):\", r2)\n",
    "dataframe_resultados.loc[len(dataframe_resultados)]=[\"Ridge\",\"ambos\",round(r2, 3),round(ema,3)]"
   ]
  },
  {
   "cell_type": "markdown",
   "metadata": {},
   "source": [
    "<h1>SGD Regresor</h1>"
   ]
  },
  {
   "cell_type": "code",
   "execution_count": 23,
   "metadata": {},
   "outputs": [],
   "source": [
    "from sklearn.linear_model import SGDRegressor"
   ]
  },
  {
   "cell_type": "code",
   "execution_count": 24,
   "metadata": {},
   "outputs": [],
   "source": [
    "model = SGDRegressor(max_iter=1000, random_state=42)"
   ]
  },
  {
   "cell_type": "code",
   "execution_count": 25,
   "metadata": {},
   "outputs": [
    {
     "name": "stdout",
     "output_type": "stream",
     "text": [
      "EMA: 0.93940040821726\n",
      "Coeficiente de determinación (R2): 0.06022958708884607\n"
     ]
    }
   ],
   "source": [
    "model.fit(X_train_local, y_train_local)\n",
    "y_pred = model.predict(X_test_local)\n",
    "r2 = r2_score(y_test_local, y_pred)\n",
    "ema = mean_absolute_error(y_test_local, y_pred)\n",
    "print(\"EMA:\", ema)\n",
    "print(\"Coeficiente de determinación (R2):\", r2)\n",
    "dataframe_resultados.loc[len(dataframe_resultados)]=[\"SGD Regresor\",\"local\",round(r2, 3),round(ema,3)]"
   ]
  },
  {
   "cell_type": "code",
   "execution_count": 26,
   "metadata": {},
   "outputs": [
    {
     "name": "stdout",
     "output_type": "stream",
     "text": [
      "EMA: 0.8222758488250896\n",
      "Coeficiente de determinación (R2): 0.11462998456167972\n"
     ]
    }
   ],
   "source": [
    "model.fit(X_train_visitante, y_train_visitante)\n",
    "y_pred = model.predict(X_test_visitante)\n",
    "r2 = r2_score(y_test_visitante, y_pred)\n",
    "ema = mean_absolute_error(y_test_visitante, y_pred)\n",
    "print(\"EMA:\", ema)\n",
    "print(\"Coeficiente de determinación (R2):\", r2)\n",
    "dataframe_resultados.loc[len(dataframe_resultados)]=[\"SGD Regresor\",\"visitante\",round(r2, 3),round(ema,3)]"
   ]
  },
  {
   "cell_type": "code",
   "execution_count": 27,
   "metadata": {},
   "outputs": [
    {
     "name": "stdout",
     "output_type": "stream",
     "text": [
      "EMA: 1.2334295209039894\n",
      "Coeficiente de determinación (R2): 0.13387919075171473\n"
     ]
    }
   ],
   "source": [
    "model.fit(X_train_ambos, y_train_ambos)\n",
    "y_pred = model.predict(X_test_ambos)\n",
    "r2 = r2_score(y_test_ambos, y_pred)\n",
    "ema = mean_absolute_error(y_test_ambos, y_pred)\n",
    "print(\"EMA:\", ema)\n",
    "print(\"Coeficiente de determinación (R2):\", r2)\n",
    "dataframe_resultados.loc[len(dataframe_resultados)]=[\"SGD Regresor\",\"ambos\",round(r2, 3),round(ema,3)]"
   ]
  },
  {
   "cell_type": "markdown",
   "metadata": {},
   "source": [
    "<h1>SVR</h1>"
   ]
  },
  {
   "cell_type": "code",
   "execution_count": 28,
   "metadata": {},
   "outputs": [],
   "source": [
    "from sklearn.svm import SVR"
   ]
  },
  {
   "cell_type": "code",
   "execution_count": 29,
   "metadata": {},
   "outputs": [],
   "source": [
    "model = SVR(kernel='poly')"
   ]
  },
  {
   "cell_type": "code",
   "execution_count": 30,
   "metadata": {},
   "outputs": [
    {
     "name": "stdout",
     "output_type": "stream",
     "text": [
      "EMA: 1.0353289773221015\n",
      "Coeficiente de determinación (R2): -0.22113833420343654\n"
     ]
    }
   ],
   "source": [
    "model.fit(X_train_local, y_train_local)\n",
    "y_pred = model.predict(X_test_local)\n",
    "r2 = r2_score(y_test_local, y_pred)\n",
    "ema = mean_absolute_error(y_test_local, y_pred)\n",
    "print(\"EMA:\", ema)\n",
    "print(\"Coeficiente de determinación (R2):\", r2)\n",
    "dataframe_resultados.loc[len(dataframe_resultados)]=[\"SVR\",\"local\",round(r2, 3),round(ema,3)]"
   ]
  },
  {
   "cell_type": "code",
   "execution_count": 31,
   "metadata": {},
   "outputs": [
    {
     "name": "stdout",
     "output_type": "stream",
     "text": [
      "EMA: 0.8133664415271272\n",
      "Coeficiente de determinación (R2): 0.06565713989853672\n"
     ]
    }
   ],
   "source": [
    "model.fit(X_train_visitante, y_train_visitante)\n",
    "y_pred = model.predict(X_test_visitante)\n",
    "r2 = r2_score(y_test_visitante, y_pred)\n",
    "ema = mean_absolute_error(y_test_visitante, y_pred)\n",
    "print(\"EMA:\", ema)\n",
    "print(\"Coeficiente de determinación (R2):\", r2)\n",
    "dataframe_resultados.loc[len(dataframe_resultados)]=[\"SVR\",\"visitante\",round(r2, 3),round(ema,3)]"
   ]
  },
  {
   "cell_type": "code",
   "execution_count": 32,
   "metadata": {},
   "outputs": [
    {
     "name": "stdout",
     "output_type": "stream",
     "text": [
      "EMA: 1.264322673623384\n",
      "Coeficiente de determinación (R2): 0.10852474714160709\n"
     ]
    }
   ],
   "source": [
    "model.fit(X_train_ambos, y_train_ambos)\n",
    "y_pred = model.predict(X_test_ambos)\n",
    "r2 = r2_score(y_test_ambos, y_pred)\n",
    "ema = mean_absolute_error(y_test_ambos, y_pred)\n",
    "print(\"EMA:\", ema)\n",
    "print(\"Coeficiente de determinación (R2):\", r2)\n",
    "dataframe_resultados.loc[len(dataframe_resultados)]=[\"SVR\",\"ambos\",round(r2, 3),round(ema,3)]"
   ]
  },
  {
   "cell_type": "markdown",
   "metadata": {},
   "source": [
    "<h1>Arbol de decision</h1>"
   ]
  },
  {
   "cell_type": "code",
   "execution_count": 33,
   "metadata": {},
   "outputs": [],
   "source": [
    "from sklearn.tree import DecisionTreeRegressor"
   ]
  },
  {
   "cell_type": "code",
   "execution_count": 34,
   "metadata": {},
   "outputs": [],
   "source": [
    "model = DecisionTreeRegressor(random_state=42)"
   ]
  },
  {
   "cell_type": "code",
   "execution_count": 35,
   "metadata": {},
   "outputs": [
    {
     "name": "stdout",
     "output_type": "stream",
     "text": [
      "EMA: 1.3744075829383886\n",
      "Coeficiente de determinación (R2): -1.0406313676591346\n"
     ]
    }
   ],
   "source": [
    "model.fit(X_train_local, y_train_local)\n",
    "y_pred = model.predict(X_test_local)\n",
    "r2 = r2_score(y_test_local, y_pred)\n",
    "ema = mean_absolute_error(y_test_local, y_pred)\n",
    "print(\"EMA:\", ema)\n",
    "print(\"Coeficiente de determinación (R2):\", r2)\n",
    "dataframe_resultados.loc[len(dataframe_resultados)]=[\"Arbol de decision\",\"local\",round(r2, 3),round(ema,3)]"
   ]
  },
  {
   "cell_type": "code",
   "execution_count": 36,
   "metadata": {},
   "outputs": [
    {
     "name": "stdout",
     "output_type": "stream",
     "text": [
      "EMA: 1.180094786729858\n",
      "Coeficiente de determinación (R2): -1.0027895308346126\n"
     ]
    }
   ],
   "source": [
    "model.fit(X_train_visitante, y_train_visitante)\n",
    "y_pred = model.predict(X_test_visitante)\n",
    "r2 = r2_score(y_test_visitante, y_pred)\n",
    "ema = mean_absolute_error(y_test_visitante, y_pred)\n",
    "print(\"EMA:\", ema)\n",
    "print(\"Coeficiente de determinación (R2):\", r2)\n",
    "dataframe_resultados.loc[len(dataframe_resultados)]=[\"Arbol de decision\",\"visitante\",round(r2, 3),round(ema,3)]"
   ]
  },
  {
   "cell_type": "code",
   "execution_count": 37,
   "metadata": {},
   "outputs": [
    {
     "name": "stdout",
     "output_type": "stream",
     "text": [
      "EMA: 1.981042654028436\n",
      "Coeficiente de determinación (R2): -1.1551487796723503\n"
     ]
    }
   ],
   "source": [
    "model.fit(X_train_ambos, y_train_ambos)\n",
    "y_pred = model.predict(X_test_ambos)\n",
    "r2 = r2_score(y_test_ambos, y_pred)\n",
    "ema = mean_absolute_error(y_test_ambos, y_pred)\n",
    "print(\"EMA:\", ema)\n",
    "print(\"Coeficiente de determinación (R2):\", r2)\n",
    "dataframe_resultados.loc[len(dataframe_resultados)]=[\"Arbol de decision\",\"ambos\",round(r2, 3),round(ema,3)]"
   ]
  },
  {
   "cell_type": "markdown",
   "metadata": {},
   "source": [
    "<h1>MLP Regresor</h1>"
   ]
  },
  {
   "cell_type": "code",
   "execution_count": 38,
   "metadata": {},
   "outputs": [],
   "source": [
    "from sklearn.neural_network import MLPRegressor"
   ]
  },
  {
   "cell_type": "code",
   "execution_count": 39,
   "metadata": {},
   "outputs": [],
   "source": [
    "model = MLPRegressor(hidden_layer_sizes=(100, 50), max_iter=1000, random_state=42)"
   ]
  },
  {
   "cell_type": "code",
   "execution_count": 40,
   "metadata": {},
   "outputs": [
    {
     "name": "stdout",
     "output_type": "stream",
     "text": [
      "EMA: 1.2143016036531868\n",
      "Coeficiente de determinación (R2): -0.5855414481292849\n"
     ]
    }
   ],
   "source": [
    "model.fit(X_train_local, y_train_local)\n",
    "y_pred = model.predict(X_test_local)\n",
    "r2 = r2_score(y_test_local, y_pred)\n",
    "ema = mean_absolute_error(y_test_local, y_pred)\n",
    "print(\"EMA:\", ema)\n",
    "print(\"Coeficiente de determinación (R2):\", r2)\n",
    "dataframe_resultados.loc[len(dataframe_resultados)]=[\"MLP Regresor\",\"local\",round(r2, 3),round(ema,3)]"
   ]
  },
  {
   "cell_type": "code",
   "execution_count": 41,
   "metadata": {},
   "outputs": [
    {
     "name": "stdout",
     "output_type": "stream",
     "text": [
      "EMA: 1.0067226261044684\n",
      "Coeficiente de determinación (R2): -0.363152116075242\n"
     ]
    }
   ],
   "source": [
    "model.fit(X_train_visitante, y_train_visitante)\n",
    "y_pred = model.predict(X_test_visitante)\n",
    "r2 = r2_score(y_test_visitante, y_pred)\n",
    "ema = mean_absolute_error(y_test_visitante, y_pred)\n",
    "print(\"EMA:\", ema)\n",
    "print(\"Coeficiente de determinación (R2):\", r2)\n",
    "dataframe_resultados.loc[len(dataframe_resultados)]=[\"MLP Regresor\",\"visitante\",round(r2, 3),round(ema,3)]"
   ]
  },
  {
   "cell_type": "code",
   "execution_count": 42,
   "metadata": {},
   "outputs": [
    {
     "name": "stdout",
     "output_type": "stream",
     "text": [
      "EMA: 1.3951967643085692\n",
      "Coeficiente de determinación (R2): -0.14962024703331234\n"
     ]
    }
   ],
   "source": [
    "model.fit(X_train_ambos, y_train_ambos)\n",
    "y_pred = model.predict(X_test_ambos)\n",
    "r2 = r2_score(y_test_ambos, y_pred)\n",
    "ema = mean_absolute_error(y_test_ambos, y_pred)\n",
    "print(\"EMA:\", ema)\n",
    "print(\"Coeficiente de determinación (R2):\", r2)\n",
    "dataframe_resultados.loc[len(dataframe_resultados)]=[\"MLP Regresor\",\"ambos\",round(r2, 3),round(ema,3)]"
   ]
  },
  {
   "cell_type": "markdown",
   "metadata": {},
   "source": [
    "<h1>Bosque aleatorio</h1>"
   ]
  },
  {
   "cell_type": "code",
   "execution_count": 43,
   "metadata": {},
   "outputs": [],
   "source": [
    "from sklearn.ensemble import RandomForestRegressor"
   ]
  },
  {
   "cell_type": "code",
   "execution_count": 44,
   "metadata": {},
   "outputs": [],
   "source": [
    "model = RandomForestRegressor(n_estimators=100, random_state=42)"
   ]
  },
  {
   "cell_type": "code",
   "execution_count": 45,
   "metadata": {},
   "outputs": [
    {
     "name": "stdout",
     "output_type": "stream",
     "text": [
      "EMA: 1.0021327014218009\n",
      "Coeficiente de determinación (R2): -0.06129675952677838\n"
     ]
    }
   ],
   "source": [
    "model.fit(X_train_local, y_train_local)\n",
    "y_pred = model.predict(X_test_local)\n",
    "r2 = r2_score(y_test_local, y_pred)\n",
    "ema = mean_absolute_error(y_test_local, y_pred)\n",
    "print(\"EMA:\", ema)\n",
    "print(\"Coeficiente de determinación (R2):\", r2)\n",
    "dataframe_resultados.loc[len(dataframe_resultados)]=[\"Bosque aleatorio\",\"local\",round(r2, 3),round(ema,3)]"
   ]
  },
  {
   "cell_type": "code",
   "execution_count": 46,
   "metadata": {},
   "outputs": [
    {
     "name": "stdout",
     "output_type": "stream",
     "text": [
      "EMA: 0.8640284360189574\n",
      "Coeficiente de determinación (R2): 0.03007905230838348\n"
     ]
    }
   ],
   "source": [
    "model.fit(X_train_visitante, y_train_visitante)\n",
    "y_pred = model.predict(X_test_visitante)\n",
    "r2 = r2_score(y_test_visitante, y_pred)\n",
    "ema = mean_absolute_error(y_test_visitante, y_pred)\n",
    "print(\"EMA:\", ema)\n",
    "print(\"Coeficiente de determinación (R2):\", r2)\n",
    "dataframe_resultados.loc[len(dataframe_resultados)]=[\"Bosque aleatorio\",\"visitante\",round(r2, 3),round(ema,3)]"
   ]
  },
  {
   "cell_type": "code",
   "execution_count": 47,
   "metadata": {},
   "outputs": [
    {
     "name": "stdout",
     "output_type": "stream",
     "text": [
      "EMA: 1.2425118483412323\n",
      "Coeficiente de determinación (R2): 0.1053883943497157\n"
     ]
    }
   ],
   "source": [
    "model.fit(X_train_ambos, y_train_ambos)\n",
    "y_pred = model.predict(X_test_ambos)\n",
    "r2 = r2_score(y_test_ambos, y_pred)\n",
    "ema = mean_absolute_error(y_test_ambos, y_pred)\n",
    "print(\"EMA:\", ema)\n",
    "print(\"Coeficiente de determinación (R2):\", r2)\n",
    "dataframe_resultados.loc[len(dataframe_resultados)]=[\"Bosque aleatorio\",\"ambos\",round(r2, 3),round(ema,3)]"
   ]
  },
  {
   "cell_type": "markdown",
   "metadata": {},
   "source": [
    "<h1>Kneightbours</h1>"
   ]
  },
  {
   "cell_type": "code",
   "execution_count": 48,
   "metadata": {},
   "outputs": [],
   "source": [
    "from sklearn.neighbors import KNeighborsRegressor"
   ]
  },
  {
   "cell_type": "code",
   "execution_count": 49,
   "metadata": {},
   "outputs": [],
   "source": [
    "k = 10\n",
    "model = KNeighborsRegressor(n_neighbors=k)"
   ]
  },
  {
   "cell_type": "code",
   "execution_count": 50,
   "metadata": {},
   "outputs": [
    {
     "name": "stdout",
     "output_type": "stream",
     "text": [
      "EMA: 0.9890995260663507\n",
      "Coeficiente de determinación (R2): -0.034272832334783176\n"
     ]
    }
   ],
   "source": [
    "model.fit(X_train_local, y_train_local)\n",
    "y_pred = model.predict(X_test_local)\n",
    "r2 = r2_score(y_test_local, y_pred)\n",
    "ema = mean_absolute_error(y_test_local, y_pred)\n",
    "print(\"EMA:\", ema)\n",
    "print(\"Coeficiente de determinación (R2):\", r2)\n",
    "dataframe_resultados.loc[len(dataframe_resultados)]=[\"Kneightbours\",\"local\",round(r2, 3),round(ema,3)]"
   ]
  },
  {
   "cell_type": "code",
   "execution_count": 51,
   "metadata": {},
   "outputs": [
    {
     "name": "stdout",
     "output_type": "stream",
     "text": [
      "EMA: 0.8383886255924171\n",
      "Coeficiente de determinación (R2): 0.09250327629460431\n"
     ]
    }
   ],
   "source": [
    "model.fit(X_train_visitante, y_train_visitante)\n",
    "y_pred = model.predict(X_test_visitante)\n",
    "r2 = r2_score(y_test_visitante, y_pred)\n",
    "ema = mean_absolute_error(y_test_visitante, y_pred)\n",
    "print(\"EMA:\", ema)\n",
    "print(\"Coeficiente de determinación (R2):\", r2)\n",
    "dataframe_resultados.loc[len(dataframe_resultados)]=[\"Kneightbours\",\"visitante\",round(r2, 3),round(ema,3)]"
   ]
  },
  {
   "cell_type": "code",
   "execution_count": 52,
   "metadata": {},
   "outputs": [
    {
     "name": "stdout",
     "output_type": "stream",
     "text": [
      "EMA: 1.2734597156398106\n",
      "Coeficiente de determinación (R2): 0.05101145101972593\n"
     ]
    }
   ],
   "source": [
    "model.fit(X_train_ambos, y_train_ambos)\n",
    "y_pred = model.predict(X_test_ambos)\n",
    "r2 = r2_score(y_test_ambos, y_pred)\n",
    "ema = mean_absolute_error(y_test_ambos, y_pred)\n",
    "print(\"EMA:\", ema)\n",
    "print(\"Coeficiente de determinación (R2):\", r2)\n",
    "dataframe_resultados.loc[len(dataframe_resultados)]=[\"Kneightbours\",\"ambos\",round(r2, 3),round(ema,3)]"
   ]
  },
  {
   "cell_type": "markdown",
   "metadata": {},
   "source": [
    "<h1>Gradient bootsting</h1>"
   ]
  },
  {
   "cell_type": "code",
   "execution_count": 53,
   "metadata": {},
   "outputs": [],
   "source": [
    "from sklearn.ensemble import GradientBoostingRegressor"
   ]
  },
  {
   "cell_type": "code",
   "execution_count": 54,
   "metadata": {},
   "outputs": [],
   "source": [
    "n_estimators = 100  \n",
    "learning_rate = 0.1  \n",
    "model = GradientBoostingRegressor(n_estimators=n_estimators, learning_rate=learning_rate, random_state=42)"
   ]
  },
  {
   "cell_type": "code",
   "execution_count": 55,
   "metadata": {},
   "outputs": [
    {
     "name": "stdout",
     "output_type": "stream",
     "text": [
      "EMA: 0.9906332865190643\n",
      "Coeficiente de determinación (R2): -0.09601050373393694\n"
     ]
    }
   ],
   "source": [
    "model.fit(X_train_local, y_train_local)\n",
    "y_pred = model.predict(X_test_local)\n",
    "r2 = r2_score(y_test_local, y_pred)\n",
    "ema = mean_absolute_error(y_test_local, y_pred)\n",
    "print(\"EMA:\", ema)\n",
    "print(\"Coeficiente de determinación (R2):\", r2)\n",
    "dataframe_resultados.loc[len(dataframe_resultados)]=[\"Gradient bootsting\",\"local\",round(r2, 3),round(ema,3)]"
   ]
  },
  {
   "cell_type": "code",
   "execution_count": 56,
   "metadata": {},
   "outputs": [
    {
     "name": "stdout",
     "output_type": "stream",
     "text": [
      "EMA: 0.8896565399961581\n",
      "Coeficiente de determinación (R2): -0.055990174704069195\n"
     ]
    }
   ],
   "source": [
    "model.fit(X_train_visitante, y_train_visitante)\n",
    "y_pred = model.predict(X_test_visitante)\n",
    "r2 = r2_score(y_test_visitante, y_pred)\n",
    "ema = mean_absolute_error(y_test_visitante, y_pred)\n",
    "print(\"EMA:\", ema)\n",
    "print(\"Coeficiente de determinación (R2):\", r2)\n",
    "dataframe_resultados.loc[len(dataframe_resultados)]=[\"Gradient bootsting\",\"visitante\",round(r2, 3),round(ema,3)]"
   ]
  },
  {
   "cell_type": "code",
   "execution_count": 57,
   "metadata": {},
   "outputs": [
    {
     "name": "stdout",
     "output_type": "stream",
     "text": [
      "EMA: 1.2900067469751644\n",
      "Coeficiente de determinación (R2): 0.030986834654795237\n"
     ]
    }
   ],
   "source": [
    "model.fit(X_train_ambos, y_train_ambos)\n",
    "y_pred = model.predict(X_test_ambos)\n",
    "r2 = r2_score(y_test_ambos, y_pred)\n",
    "ema = mean_absolute_error(y_test_ambos, y_pred)\n",
    "print(\"EMA:\", ema)\n",
    "print(\"Coeficiente de determinación (R2):\", r2)\n",
    "dataframe_resultados.loc[len(dataframe_resultados)]=[\"Gradient bootsting\",\"ambos\",round(r2, 3),round(ema,3)]"
   ]
  },
  {
   "cell_type": "markdown",
   "metadata": {},
   "source": [
    "<h1>Red neuronal</h1>"
   ]
  },
  {
   "cell_type": "code",
   "execution_count": 58,
   "metadata": {},
   "outputs": [],
   "source": [
    "import tensorflow as tf\n",
    "from tensorflow.keras.models import Sequential\n",
    "from tensorflow.keras.layers import Dense\n",
    "from sklearn.metrics import mean_squared_error, r2_score"
   ]
  },
  {
   "cell_type": "code",
   "execution_count": 59,
   "metadata": {},
   "outputs": [],
   "source": [
    "model = Sequential()\n",
    "model.add(Dense(64, activation='relu', input_shape=(X_train_local.shape[1],)))\n",
    "model.add(Dense(32, activation='relu'))\n",
    "model.add(Dense(1))\n",
    "model.compile(optimizer='adam', loss='mean_squared_error')"
   ]
  },
  {
   "cell_type": "code",
   "execution_count": 60,
   "metadata": {},
   "outputs": [
    {
     "name": "stdout",
     "output_type": "stream",
     "text": [
      "Epoch 1/100\n",
      "14/14 [==============================] - 1s 2ms/step - loss: 2.6268\n",
      "Epoch 2/100\n",
      "14/14 [==============================] - 0s 2ms/step - loss: 1.7388\n",
      "Epoch 3/100\n",
      "14/14 [==============================] - 0s 2ms/step - loss: 1.5980\n",
      "Epoch 4/100\n",
      "14/14 [==============================] - 0s 2ms/step - loss: 1.5117\n",
      "Epoch 5/100\n",
      "14/14 [==============================] - 0s 1ms/step - loss: 1.4634\n",
      "Epoch 6/100\n",
      "14/14 [==============================] - 0s 1ms/step - loss: 1.4057\n",
      "Epoch 7/100\n",
      "14/14 [==============================] - 0s 3ms/step - loss: 1.3711\n",
      "Epoch 8/100\n",
      "14/14 [==============================] - 0s 2ms/step - loss: 1.3518\n",
      "Epoch 9/100\n",
      "14/14 [==============================] - 0s 2ms/step - loss: 1.3298\n",
      "Epoch 10/100\n",
      "14/14 [==============================] - 0s 1ms/step - loss: 1.3122\n",
      "Epoch 11/100\n",
      "14/14 [==============================] - 0s 2ms/step - loss: 1.2902\n",
      "Epoch 12/100\n",
      "14/14 [==============================] - 0s 1ms/step - loss: 1.2751\n",
      "Epoch 13/100\n",
      "14/14 [==============================] - 0s 2ms/step - loss: 1.2756\n",
      "Epoch 14/100\n",
      "14/14 [==============================] - 0s 1ms/step - loss: 1.2625\n",
      "Epoch 15/100\n",
      "14/14 [==============================] - 0s 1ms/step - loss: 1.2648\n",
      "Epoch 16/100\n",
      "14/14 [==============================] - 0s 1ms/step - loss: 1.2447\n",
      "Epoch 17/100\n",
      "14/14 [==============================] - 0s 1ms/step - loss: 1.2505\n",
      "Epoch 18/100\n",
      "14/14 [==============================] - 0s 2ms/step - loss: 1.2349\n",
      "Epoch 19/100\n",
      "14/14 [==============================] - 0s 1ms/step - loss: 1.2462\n",
      "Epoch 20/100\n",
      "14/14 [==============================] - 0s 1ms/step - loss: 1.2122\n",
      "Epoch 21/100\n",
      "14/14 [==============================] - 0s 1ms/step - loss: 1.2135\n",
      "Epoch 22/100\n",
      "14/14 [==============================] - 0s 1ms/step - loss: 1.2253\n",
      "Epoch 23/100\n",
      "14/14 [==============================] - 0s 1ms/step - loss: 1.1866\n",
      "Epoch 24/100\n",
      "14/14 [==============================] - 0s 1ms/step - loss: 1.1983\n",
      "Epoch 25/100\n",
      "14/14 [==============================] - 0s 1ms/step - loss: 1.1799\n",
      "Epoch 26/100\n",
      "14/14 [==============================] - 0s 1ms/step - loss: 1.1735\n",
      "Epoch 27/100\n",
      "14/14 [==============================] - 0s 1ms/step - loss: 1.1741\n",
      "Epoch 28/100\n",
      "14/14 [==============================] - 0s 1ms/step - loss: 1.1586\n",
      "Epoch 29/100\n",
      "14/14 [==============================] - 0s 1ms/step - loss: 1.1710\n",
      "Epoch 30/100\n",
      "14/14 [==============================] - 0s 1ms/step - loss: 1.1482\n",
      "Epoch 31/100\n",
      "14/14 [==============================] - 0s 1ms/step - loss: 1.1557\n",
      "Epoch 32/100\n",
      "14/14 [==============================] - 0s 1ms/step - loss: 1.1429\n",
      "Epoch 33/100\n",
      "14/14 [==============================] - 0s 1ms/step - loss: 1.1373\n",
      "Epoch 34/100\n",
      "14/14 [==============================] - 0s 1ms/step - loss: 1.1452\n",
      "Epoch 35/100\n",
      "14/14 [==============================] - 0s 1ms/step - loss: 1.1665\n",
      "Epoch 36/100\n",
      "14/14 [==============================] - 0s 4ms/step - loss: 1.1198\n",
      "Epoch 37/100\n",
      "14/14 [==============================] - 0s 2ms/step - loss: 1.1127\n",
      "Epoch 38/100\n",
      "14/14 [==============================] - 0s 1ms/step - loss: 1.1063\n",
      "Epoch 39/100\n",
      "14/14 [==============================] - 0s 1ms/step - loss: 1.1060\n",
      "Epoch 40/100\n",
      "14/14 [==============================] - 0s 1ms/step - loss: 1.0952\n",
      "Epoch 41/100\n",
      "14/14 [==============================] - 0s 1ms/step - loss: 1.0982\n",
      "Epoch 42/100\n",
      "14/14 [==============================] - 0s 1ms/step - loss: 1.0932\n",
      "Epoch 43/100\n",
      "14/14 [==============================] - 0s 1ms/step - loss: 1.0846\n",
      "Epoch 44/100\n",
      "14/14 [==============================] - 0s 1ms/step - loss: 1.0768\n",
      "Epoch 45/100\n",
      "14/14 [==============================] - 0s 1ms/step - loss: 1.0773\n",
      "Epoch 46/100\n",
      "14/14 [==============================] - 0s 1ms/step - loss: 1.1167\n",
      "Epoch 47/100\n",
      "14/14 [==============================] - 0s 1ms/step - loss: 1.0634\n",
      "Epoch 48/100\n",
      "14/14 [==============================] - 0s 1ms/step - loss: 1.0621\n",
      "Epoch 49/100\n",
      "14/14 [==============================] - 0s 1ms/step - loss: 1.0562\n",
      "Epoch 50/100\n",
      "14/14 [==============================] - 0s 971us/step - loss: 1.0396\n",
      "Epoch 51/100\n",
      "14/14 [==============================] - 0s 1ms/step - loss: 1.0346\n",
      "Epoch 52/100\n",
      "14/14 [==============================] - 0s 1ms/step - loss: 1.0297\n",
      "Epoch 53/100\n",
      "14/14 [==============================] - 0s 1ms/step - loss: 1.0321\n",
      "Epoch 54/100\n",
      "14/14 [==============================] - 0s 1ms/step - loss: 1.0418\n",
      "Epoch 55/100\n",
      "14/14 [==============================] - 0s 1ms/step - loss: 1.0275\n",
      "Epoch 56/100\n",
      "14/14 [==============================] - 0s 1ms/step - loss: 1.0412\n",
      "Epoch 57/100\n",
      "14/14 [==============================] - 0s 1ms/step - loss: 1.0151\n",
      "Epoch 58/100\n",
      "14/14 [==============================] - 0s 1ms/step - loss: 1.0069\n",
      "Epoch 59/100\n",
      "14/14 [==============================] - 0s 1ms/step - loss: 1.0097\n",
      "Epoch 60/100\n",
      "14/14 [==============================] - 0s 1ms/step - loss: 1.0015\n",
      "Epoch 61/100\n",
      "14/14 [==============================] - 0s 1ms/step - loss: 0.9868\n",
      "Epoch 62/100\n",
      "14/14 [==============================] - 0s 1ms/step - loss: 0.9819\n",
      "Epoch 63/100\n",
      "14/14 [==============================] - 0s 1ms/step - loss: 0.9777\n",
      "Epoch 64/100\n",
      "14/14 [==============================] - 0s 1ms/step - loss: 0.9745\n",
      "Epoch 65/100\n",
      "14/14 [==============================] - 0s 1ms/step - loss: 0.9988\n",
      "Epoch 66/100\n",
      "14/14 [==============================] - 0s 1ms/step - loss: 0.9917\n",
      "Epoch 67/100\n",
      "14/14 [==============================] - 0s 1ms/step - loss: 0.9764\n",
      "Epoch 68/100\n",
      "14/14 [==============================] - 0s 923us/step - loss: 0.9633\n",
      "Epoch 69/100\n",
      "14/14 [==============================] - 0s 1ms/step - loss: 0.9677\n",
      "Epoch 70/100\n",
      "14/14 [==============================] - 0s 1ms/step - loss: 0.9790\n",
      "Epoch 71/100\n",
      "14/14 [==============================] - 0s 3ms/step - loss: 0.9355\n",
      "Epoch 72/100\n",
      "14/14 [==============================] - 0s 2ms/step - loss: 0.9438\n",
      "Epoch 73/100\n",
      "14/14 [==============================] - 0s 2ms/step - loss: 0.9439\n",
      "Epoch 74/100\n",
      "14/14 [==============================] - 0s 1ms/step - loss: 0.9326\n",
      "Epoch 75/100\n",
      "14/14 [==============================] - 0s 1ms/step - loss: 0.9239\n",
      "Epoch 76/100\n",
      "14/14 [==============================] - 0s 1ms/step - loss: 0.9200\n",
      "Epoch 77/100\n",
      "14/14 [==============================] - 0s 1ms/step - loss: 0.9064\n",
      "Epoch 78/100\n",
      "14/14 [==============================] - 0s 1ms/step - loss: 0.9055\n",
      "Epoch 79/100\n",
      "14/14 [==============================] - 0s 1ms/step - loss: 0.8948\n",
      "Epoch 80/100\n",
      "14/14 [==============================] - 0s 1ms/step - loss: 0.9224\n",
      "Epoch 81/100\n",
      "14/14 [==============================] - 0s 1ms/step - loss: 0.9325\n",
      "Epoch 82/100\n",
      "14/14 [==============================] - 0s 1ms/step - loss: 0.9042\n",
      "Epoch 83/100\n",
      "14/14 [==============================] - 0s 1ms/step - loss: 0.8685\n",
      "Epoch 84/100\n",
      "14/14 [==============================] - 0s 1ms/step - loss: 0.9101\n",
      "Epoch 85/100\n",
      "14/14 [==============================] - 0s 1ms/step - loss: 0.9149\n",
      "Epoch 86/100\n",
      "14/14 [==============================] - 0s 1ms/step - loss: 0.9336\n",
      "Epoch 87/100\n",
      "14/14 [==============================] - 0s 1ms/step - loss: 0.9432\n",
      "Epoch 88/100\n",
      "14/14 [==============================] - 0s 1ms/step - loss: 0.8835\n",
      "Epoch 89/100\n",
      "14/14 [==============================] - 0s 2ms/step - loss: 0.8480\n",
      "Epoch 90/100\n",
      "14/14 [==============================] - 0s 1ms/step - loss: 0.8325\n",
      "Epoch 91/100\n",
      "14/14 [==============================] - 0s 1ms/step - loss: 0.8406\n",
      "Epoch 92/100\n",
      "14/14 [==============================] - 0s 1ms/step - loss: 0.8296\n",
      "Epoch 93/100\n",
      "14/14 [==============================] - 0s 1ms/step - loss: 0.8511\n",
      "Epoch 94/100\n",
      "14/14 [==============================] - 0s 1ms/step - loss: 0.8371\n",
      "Epoch 95/100\n",
      "14/14 [==============================] - 0s 1ms/step - loss: 0.8453\n",
      "Epoch 96/100\n",
      "14/14 [==============================] - 0s 1ms/step - loss: 0.8313\n",
      "Epoch 97/100\n",
      "14/14 [==============================] - 0s 1ms/step - loss: 0.8212\n",
      "Epoch 98/100\n",
      "14/14 [==============================] - 0s 1ms/step - loss: 0.8212\n",
      "Epoch 99/100\n",
      "14/14 [==============================] - 0s 1ms/step - loss: 0.8449\n",
      "Epoch 100/100\n",
      "14/14 [==============================] - 0s 1ms/step - loss: 0.8403\n",
      "7/7 [==============================] - 0s 1ms/step\n",
      "EMA: 1.1029632851410816\n",
      "Coeficiente de determinación (R2): -0.2870919971739756\n"
     ]
    }
   ],
   "source": [
    "model.fit(X_train_local, y_train_local, epochs=100, batch_size=32, verbose=1)\n",
    "y_pred = model.predict(X_test_local)\n",
    "r2 = r2_score(y_test_local, y_pred)\n",
    "ema = mean_absolute_error(y_test_local, y_pred)\n",
    "print(\"EMA:\", ema)\n",
    "print(\"Coeficiente de determinación (R2):\", r2)\n",
    "dataframe_resultados.loc[len(dataframe_resultados)]=[\"Red neuronal\",\"local\",round(r2, 3),round(ema,3)]"
   ]
  },
  {
   "cell_type": "code",
   "execution_count": 61,
   "metadata": {},
   "outputs": [],
   "source": [
    "model = Sequential()\n",
    "model.add(Dense(64, activation='relu', input_shape=(X_train_visitante.shape[1],)))\n",
    "model.add(Dense(32, activation='relu'))\n",
    "model.add(Dense(1))\n",
    "model.compile(optimizer='adam', loss='mean_squared_error')"
   ]
  },
  {
   "cell_type": "code",
   "execution_count": 62,
   "metadata": {},
   "outputs": [
    {
     "name": "stdout",
     "output_type": "stream",
     "text": [
      "Epoch 1/100\n",
      "14/14 [==============================] - 1s 1ms/step - loss: 1.2638\n",
      "Epoch 2/100\n",
      "14/14 [==============================] - 0s 2ms/step - loss: 1.1854\n",
      "Epoch 3/100\n",
      "14/14 [==============================] - 0s 2ms/step - loss: 1.1226\n",
      "Epoch 4/100\n",
      "14/14 [==============================] - 0s 2ms/step - loss: 1.0932\n",
      "Epoch 5/100\n",
      "14/14 [==============================] - 0s 2ms/step - loss: 1.0847\n",
      "Epoch 6/100\n",
      "14/14 [==============================] - 0s 2ms/step - loss: 1.0622\n",
      "Epoch 7/100\n",
      "14/14 [==============================] - 0s 1ms/step - loss: 1.0460\n",
      "Epoch 8/100\n",
      "14/14 [==============================] - 0s 1ms/step - loss: 1.0327\n",
      "Epoch 9/100\n",
      "14/14 [==============================] - 0s 2ms/step - loss: 1.0199\n",
      "Epoch 10/100\n",
      "14/14 [==============================] - 0s 2ms/step - loss: 1.0177\n",
      "Epoch 11/100\n",
      "14/14 [==============================] - 0s 1ms/step - loss: 1.0141\n",
      "Epoch 12/100\n",
      "14/14 [==============================] - 0s 1ms/step - loss: 0.9987\n",
      "Epoch 13/100\n",
      "14/14 [==============================] - 0s 2ms/step - loss: 0.9872\n",
      "Epoch 14/100\n",
      "14/14 [==============================] - 0s 2ms/step - loss: 0.9823\n",
      "Epoch 15/100\n",
      "14/14 [==============================] - 0s 1ms/step - loss: 0.9836\n",
      "Epoch 16/100\n",
      "14/14 [==============================] - 0s 2ms/step - loss: 0.9734\n",
      "Epoch 17/100\n",
      "14/14 [==============================] - 0s 2ms/step - loss: 0.9580\n",
      "Epoch 18/100\n",
      "14/14 [==============================] - 0s 1ms/step - loss: 0.9620\n",
      "Epoch 19/100\n",
      "14/14 [==============================] - 0s 2ms/step - loss: 0.9525\n",
      "Epoch 20/100\n",
      "14/14 [==============================] - 0s 1ms/step - loss: 0.9483\n",
      "Epoch 21/100\n",
      "14/14 [==============================] - 0s 2ms/step - loss: 0.9387\n",
      "Epoch 22/100\n",
      "14/14 [==============================] - 0s 2ms/step - loss: 0.9679\n",
      "Epoch 23/100\n",
      "14/14 [==============================] - 0s 2ms/step - loss: 0.9473\n",
      "Epoch 24/100\n",
      "14/14 [==============================] - 0s 1ms/step - loss: 0.9292\n",
      "Epoch 25/100\n",
      "14/14 [==============================] - 0s 1ms/step - loss: 0.9202\n",
      "Epoch 26/100\n",
      "14/14 [==============================] - 0s 1ms/step - loss: 0.9282\n",
      "Epoch 27/100\n",
      "14/14 [==============================] - 0s 1ms/step - loss: 0.9643\n",
      "Epoch 28/100\n",
      "14/14 [==============================] - 0s 1ms/step - loss: 0.9299\n",
      "Epoch 29/100\n",
      "14/14 [==============================] - 0s 1ms/step - loss: 0.9189\n",
      "Epoch 30/100\n",
      "14/14 [==============================] - 0s 1ms/step - loss: 0.9120\n",
      "Epoch 31/100\n",
      "14/14 [==============================] - 0s 1ms/step - loss: 0.9008\n",
      "Epoch 32/100\n",
      "14/14 [==============================] - 0s 1ms/step - loss: 0.9169\n",
      "Epoch 33/100\n",
      "14/14 [==============================] - 0s 1ms/step - loss: 0.8967\n",
      "Epoch 34/100\n",
      "14/14 [==============================] - 0s 1ms/step - loss: 0.8967\n",
      "Epoch 35/100\n",
      "14/14 [==============================] - 0s 1ms/step - loss: 0.9003\n",
      "Epoch 36/100\n",
      "14/14 [==============================] - 0s 2ms/step - loss: 0.8860\n",
      "Epoch 37/100\n",
      "14/14 [==============================] - 0s 1ms/step - loss: 0.9012\n",
      "Epoch 38/100\n",
      "14/14 [==============================] - 0s 1ms/step - loss: 0.8738\n",
      "Epoch 39/100\n",
      "14/14 [==============================] - 0s 2ms/step - loss: 0.8769\n",
      "Epoch 40/100\n",
      "14/14 [==============================] - 0s 2ms/step - loss: 0.8689\n",
      "Epoch 41/100\n",
      "14/14 [==============================] - 0s 2ms/step - loss: 0.8705\n",
      "Epoch 42/100\n",
      "14/14 [==============================] - 0s 1ms/step - loss: 0.8796\n",
      "Epoch 43/100\n",
      "14/14 [==============================] - 0s 2ms/step - loss: 0.8852\n",
      "Epoch 44/100\n",
      "14/14 [==============================] - 0s 2ms/step - loss: 0.8696\n",
      "Epoch 45/100\n",
      "14/14 [==============================] - 0s 2ms/step - loss: 0.8515\n",
      "Epoch 46/100\n",
      "14/14 [==============================] - 0s 2ms/step - loss: 0.8533\n",
      "Epoch 47/100\n",
      "14/14 [==============================] - 0s 1ms/step - loss: 0.8499\n",
      "Epoch 48/100\n",
      "14/14 [==============================] - 0s 2ms/step - loss: 0.8484\n",
      "Epoch 49/100\n",
      "14/14 [==============================] - 0s 2ms/step - loss: 0.8373\n",
      "Epoch 50/100\n",
      "14/14 [==============================] - 0s 1ms/step - loss: 0.8406\n",
      "Epoch 51/100\n",
      "14/14 [==============================] - 0s 4ms/step - loss: 0.8501\n",
      "Epoch 52/100\n",
      "14/14 [==============================] - 0s 2ms/step - loss: 0.8477\n",
      "Epoch 53/100\n",
      "14/14 [==============================] - 0s 1ms/step - loss: 0.8265\n",
      "Epoch 54/100\n",
      "14/14 [==============================] - 0s 2ms/step - loss: 0.8326\n",
      "Epoch 55/100\n",
      "14/14 [==============================] - 0s 2ms/step - loss: 0.8329\n",
      "Epoch 56/100\n",
      "14/14 [==============================] - 0s 2ms/step - loss: 0.8174\n",
      "Epoch 57/100\n",
      "14/14 [==============================] - 0s 2ms/step - loss: 0.8222\n",
      "Epoch 58/100\n",
      "14/14 [==============================] - 0s 1ms/step - loss: 0.8310\n",
      "Epoch 59/100\n",
      "14/14 [==============================] - 0s 2ms/step - loss: 0.8034\n",
      "Epoch 60/100\n",
      "14/14 [==============================] - 0s 1ms/step - loss: 0.7967\n",
      "Epoch 61/100\n",
      "14/14 [==============================] - 0s 1ms/step - loss: 0.8030\n",
      "Epoch 62/100\n",
      "14/14 [==============================] - 0s 1ms/step - loss: 0.8108\n",
      "Epoch 63/100\n",
      "14/14 [==============================] - 0s 1ms/step - loss: 0.8012\n",
      "Epoch 64/100\n",
      "14/14 [==============================] - 0s 1ms/step - loss: 0.8116\n",
      "Epoch 65/100\n",
      "14/14 [==============================] - 0s 1000us/step - loss: 0.7826\n",
      "Epoch 66/100\n",
      "14/14 [==============================] - 0s 1ms/step - loss: 0.7981\n",
      "Epoch 67/100\n",
      "14/14 [==============================] - 0s 1ms/step - loss: 0.7879\n",
      "Epoch 68/100\n",
      "14/14 [==============================] - 0s 1ms/step - loss: 0.7767\n",
      "Epoch 69/100\n",
      "14/14 [==============================] - 0s 1ms/step - loss: 0.7814\n",
      "Epoch 70/100\n",
      "14/14 [==============================] - 0s 1000us/step - loss: 0.7711\n",
      "Epoch 71/100\n",
      "14/14 [==============================] - 0s 2ms/step - loss: 0.7899\n",
      "Epoch 72/100\n",
      "14/14 [==============================] - 0s 1ms/step - loss: 0.7653\n",
      "Epoch 73/100\n",
      "14/14 [==============================] - 0s 1ms/step - loss: 0.7734\n",
      "Epoch 74/100\n",
      "14/14 [==============================] - 0s 1ms/step - loss: 0.7549\n",
      "Epoch 75/100\n",
      "14/14 [==============================] - 0s 4ms/step - loss: 0.7492\n",
      "Epoch 76/100\n",
      "14/14 [==============================] - 0s 2ms/step - loss: 0.7466\n",
      "Epoch 77/100\n",
      "14/14 [==============================] - 0s 2ms/step - loss: 0.7502\n",
      "Epoch 78/100\n",
      "14/14 [==============================] - 0s 1ms/step - loss: 0.7542\n",
      "Epoch 79/100\n",
      "14/14 [==============================] - 0s 1ms/step - loss: 0.7681\n",
      "Epoch 80/100\n",
      "14/14 [==============================] - 0s 1ms/step - loss: 0.7893\n",
      "Epoch 81/100\n",
      "14/14 [==============================] - 0s 1ms/step - loss: 0.7337\n",
      "Epoch 82/100\n",
      "14/14 [==============================] - 0s 1ms/step - loss: 0.7314\n",
      "Epoch 83/100\n",
      "14/14 [==============================] - 0s 2ms/step - loss: 0.7209\n",
      "Epoch 84/100\n",
      "14/14 [==============================] - 0s 1ms/step - loss: 0.7297\n",
      "Epoch 85/100\n",
      "14/14 [==============================] - 0s 1ms/step - loss: 0.7404\n",
      "Epoch 86/100\n",
      "14/14 [==============================] - 0s 1ms/step - loss: 0.7211\n",
      "Epoch 87/100\n",
      "14/14 [==============================] - 0s 1ms/step - loss: 0.7200\n",
      "Epoch 88/100\n",
      "14/14 [==============================] - 0s 1ms/step - loss: 0.7025\n",
      "Epoch 89/100\n",
      "14/14 [==============================] - 0s 1ms/step - loss: 0.7212\n",
      "Epoch 90/100\n",
      "14/14 [==============================] - 0s 1ms/step - loss: 0.7289\n",
      "Epoch 91/100\n",
      "14/14 [==============================] - 0s 2ms/step - loss: 0.7054\n",
      "Epoch 92/100\n",
      "14/14 [==============================] - 0s 2ms/step - loss: 0.6952\n",
      "Epoch 93/100\n",
      "14/14 [==============================] - 0s 2ms/step - loss: 0.7010\n",
      "Epoch 94/100\n",
      "14/14 [==============================] - 0s 2ms/step - loss: 0.6936\n",
      "Epoch 95/100\n",
      "14/14 [==============================] - 0s 2ms/step - loss: 0.6753\n",
      "Epoch 96/100\n",
      "14/14 [==============================] - 0s 1ms/step - loss: 0.6797\n",
      "Epoch 97/100\n",
      "14/14 [==============================] - 0s 2ms/step - loss: 0.6923\n",
      "Epoch 98/100\n",
      "14/14 [==============================] - 0s 1ms/step - loss: 0.6778\n",
      "Epoch 99/100\n",
      "14/14 [==============================] - 0s 1ms/step - loss: 0.6971\n",
      "Epoch 100/100\n",
      "14/14 [==============================] - 0s 2ms/step - loss: 0.6746\n",
      "7/7 [==============================] - 0s 1ms/step\n",
      "EMA: 0.8635036087290371\n",
      "Coeficiente de determinación (R2): 0.008589637828021135\n"
     ]
    }
   ],
   "source": [
    "model.fit(X_train_visitante, y_train_visitante, epochs=100, batch_size=32, verbose=1)\n",
    "y_pred = model.predict(X_test_visitante)\n",
    "r2 = r2_score(y_test_visitante, y_pred)\n",
    "ema = mean_absolute_error(y_test_visitante, y_pred)\n",
    "print(\"EMA:\", ema)\n",
    "print(\"Coeficiente de determinación (R2):\", r2)\n",
    "dataframe_resultados.loc[len(dataframe_resultados)]=[\"Red neuronal\",\"visitante\",round(r2, 3),round(ema,3)]"
   ]
  },
  {
   "cell_type": "code",
   "execution_count": 63,
   "metadata": {},
   "outputs": [],
   "source": [
    "model = Sequential()\n",
    "model.add(Dense(64, activation='relu', input_shape=(X_train_ambos.shape[1],)))\n",
    "model.add(Dense(32, activation='relu'))\n",
    "model.add(Dense(1))\n",
    "model.compile(optimizer='adam', loss='mean_squared_error')"
   ]
  },
  {
   "cell_type": "code",
   "execution_count": 64,
   "metadata": {},
   "outputs": [
    {
     "name": "stdout",
     "output_type": "stream",
     "text": [
      "Epoch 1/100\n",
      "14/14 [==============================] - 1s 1ms/step - loss: 7.5623\n",
      "Epoch 2/100\n",
      "14/14 [==============================] - 0s 2ms/step - loss: 4.0662\n",
      "Epoch 3/100\n",
      "14/14 [==============================] - 0s 2ms/step - loss: 3.5089\n",
      "Epoch 4/100\n",
      "14/14 [==============================] - 0s 2ms/step - loss: 3.3421\n",
      "Epoch 5/100\n",
      "14/14 [==============================] - 0s 3ms/step - loss: 3.1585\n",
      "Epoch 6/100\n",
      "14/14 [==============================] - 0s 2ms/step - loss: 3.0566\n",
      "Epoch 7/100\n",
      "14/14 [==============================] - 0s 2ms/step - loss: 2.9736\n",
      "Epoch 8/100\n",
      "14/14 [==============================] - 0s 2ms/step - loss: 2.9258\n",
      "Epoch 9/100\n",
      "14/14 [==============================] - 0s 2ms/step - loss: 2.8481\n",
      "Epoch 10/100\n",
      "14/14 [==============================] - 0s 2ms/step - loss: 2.8071\n",
      "Epoch 11/100\n",
      "14/14 [==============================] - 0s 1ms/step - loss: 2.7403\n",
      "Epoch 12/100\n",
      "14/14 [==============================] - 0s 1ms/step - loss: 2.6899\n",
      "Epoch 13/100\n",
      "14/14 [==============================] - 0s 1ms/step - loss: 2.6455\n",
      "Epoch 14/100\n",
      "14/14 [==============================] - 0s 3ms/step - loss: 2.6071\n",
      "Epoch 15/100\n",
      "14/14 [==============================] - 0s 1ms/step - loss: 2.5616\n",
      "Epoch 16/100\n",
      "14/14 [==============================] - 0s 1ms/step - loss: 2.5293\n",
      "Epoch 17/100\n",
      "14/14 [==============================] - 0s 1ms/step - loss: 2.5088\n",
      "Epoch 18/100\n",
      "14/14 [==============================] - 0s 1ms/step - loss: 2.4649\n",
      "Epoch 19/100\n",
      "14/14 [==============================] - 0s 1ms/step - loss: 2.4357\n",
      "Epoch 20/100\n",
      "14/14 [==============================] - 0s 1ms/step - loss: 2.4431\n",
      "Epoch 21/100\n",
      "14/14 [==============================] - 0s 1ms/step - loss: 2.4150\n",
      "Epoch 22/100\n",
      "14/14 [==============================] - 0s 1ms/step - loss: 2.3816\n",
      "Epoch 23/100\n",
      "14/14 [==============================] - 0s 1ms/step - loss: 2.3540\n",
      "Epoch 24/100\n",
      "14/14 [==============================] - 0s 1ms/step - loss: 2.3488\n",
      "Epoch 25/100\n",
      "14/14 [==============================] - 0s 1ms/step - loss: 2.3570\n",
      "Epoch 26/100\n",
      "14/14 [==============================] - 0s 1ms/step - loss: 2.3267\n",
      "Epoch 27/100\n",
      "14/14 [==============================] - 0s 1ms/step - loss: 2.3106\n",
      "Epoch 28/100\n",
      "14/14 [==============================] - 0s 1ms/step - loss: 2.2857\n",
      "Epoch 29/100\n",
      "14/14 [==============================] - 0s 1ms/step - loss: 2.2771\n",
      "Epoch 30/100\n",
      "14/14 [==============================] - 0s 1ms/step - loss: 2.2616\n",
      "Epoch 31/100\n",
      "14/14 [==============================] - 0s 1ms/step - loss: 2.2858\n",
      "Epoch 32/100\n",
      "14/14 [==============================] - 0s 1ms/step - loss: 2.3275\n",
      "Epoch 33/100\n",
      "14/14 [==============================] - 0s 1ms/step - loss: 2.2380\n",
      "Epoch 34/100\n",
      "14/14 [==============================] - 0s 1ms/step - loss: 2.2263\n",
      "Epoch 35/100\n",
      "14/14 [==============================] - 0s 1ms/step - loss: 2.2110\n",
      "Epoch 36/100\n",
      "14/14 [==============================] - 0s 1ms/step - loss: 2.2011\n",
      "Epoch 37/100\n",
      "14/14 [==============================] - 0s 1ms/step - loss: 2.1921\n",
      "Epoch 38/100\n",
      "14/14 [==============================] - 0s 1ms/step - loss: 2.1801\n",
      "Epoch 39/100\n",
      "14/14 [==============================] - 0s 3ms/step - loss: 2.1756\n",
      "Epoch 40/100\n",
      "14/14 [==============================] - 0s 2ms/step - loss: 2.1568\n",
      "Epoch 41/100\n",
      "14/14 [==============================] - 0s 2ms/step - loss: 2.1707\n",
      "Epoch 42/100\n",
      "14/14 [==============================] - 0s 1ms/step - loss: 2.1724\n",
      "Epoch 43/100\n",
      "14/14 [==============================] - 0s 1ms/step - loss: 2.1702\n",
      "Epoch 44/100\n",
      "14/14 [==============================] - 0s 1ms/step - loss: 2.1198\n",
      "Epoch 45/100\n",
      "14/14 [==============================] - 0s 1ms/step - loss: 2.1104\n",
      "Epoch 46/100\n",
      "14/14 [==============================] - 0s 1ms/step - loss: 2.1104\n",
      "Epoch 47/100\n",
      "14/14 [==============================] - 0s 1ms/step - loss: 2.1018\n",
      "Epoch 48/100\n",
      "14/14 [==============================] - 0s 1ms/step - loss: 2.0925\n",
      "Epoch 49/100\n",
      "14/14 [==============================] - 0s 1ms/step - loss: 2.0853\n",
      "Epoch 50/100\n",
      "14/14 [==============================] - 0s 1ms/step - loss: 2.0798\n",
      "Epoch 51/100\n",
      "14/14 [==============================] - 0s 1ms/step - loss: 2.0906\n",
      "Epoch 52/100\n",
      "14/14 [==============================] - 0s 1ms/step - loss: 2.0638\n",
      "Epoch 53/100\n",
      "14/14 [==============================] - 0s 1ms/step - loss: 2.0577\n",
      "Epoch 54/100\n",
      "14/14 [==============================] - 0s 1ms/step - loss: 2.0317\n",
      "Epoch 55/100\n",
      "14/14 [==============================] - 0s 1ms/step - loss: 2.0319\n",
      "Epoch 56/100\n",
      "14/14 [==============================] - 0s 1ms/step - loss: 2.0397\n",
      "Epoch 57/100\n",
      "14/14 [==============================] - 0s 1ms/step - loss: 2.0293\n",
      "Epoch 58/100\n",
      "14/14 [==============================] - 0s 1ms/step - loss: 1.9898\n",
      "Epoch 59/100\n",
      "14/14 [==============================] - 0s 1ms/step - loss: 2.0172\n",
      "Epoch 60/100\n",
      "14/14 [==============================] - 0s 2ms/step - loss: 1.9906\n",
      "Epoch 61/100\n",
      "14/14 [==============================] - 0s 1ms/step - loss: 1.9894\n",
      "Epoch 62/100\n",
      "14/14 [==============================] - 0s 1ms/step - loss: 1.9818\n",
      "Epoch 63/100\n",
      "14/14 [==============================] - 0s 1ms/step - loss: 1.9803\n",
      "Epoch 64/100\n",
      "14/14 [==============================] - 0s 1ms/step - loss: 1.9814\n",
      "Epoch 65/100\n",
      "14/14 [==============================] - 0s 5ms/step - loss: 1.9671\n",
      "Epoch 66/100\n",
      "14/14 [==============================] - 0s 2ms/step - loss: 1.9258\n",
      "Epoch 67/100\n",
      "14/14 [==============================] - 0s 1ms/step - loss: 1.9091\n",
      "Epoch 68/100\n",
      "14/14 [==============================] - 0s 1ms/step - loss: 1.8996\n",
      "Epoch 69/100\n",
      "14/14 [==============================] - 0s 1ms/step - loss: 1.9171\n",
      "Epoch 70/100\n",
      "14/14 [==============================] - 0s 1ms/step - loss: 1.9305\n",
      "Epoch 71/100\n",
      "14/14 [==============================] - 0s 1ms/step - loss: 1.9039\n",
      "Epoch 72/100\n",
      "14/14 [==============================] - 0s 1ms/step - loss: 1.9037\n",
      "Epoch 73/100\n",
      "14/14 [==============================] - 0s 1ms/step - loss: 1.9451\n",
      "Epoch 74/100\n",
      "14/14 [==============================] - 0s 1ms/step - loss: 1.8665\n",
      "Epoch 75/100\n",
      "14/14 [==============================] - 0s 1ms/step - loss: 1.8663\n",
      "Epoch 76/100\n",
      "14/14 [==============================] - 0s 1ms/step - loss: 1.8715\n",
      "Epoch 77/100\n",
      "14/14 [==============================] - 0s 1ms/step - loss: 1.8553\n",
      "Epoch 78/100\n",
      "14/14 [==============================] - 0s 1ms/step - loss: 1.8713\n",
      "Epoch 79/100\n",
      "14/14 [==============================] - 0s 1ms/step - loss: 1.8669\n",
      "Epoch 80/100\n",
      "14/14 [==============================] - 0s 1ms/step - loss: 1.8207\n",
      "Epoch 81/100\n",
      "14/14 [==============================] - 0s 1ms/step - loss: 1.8013\n",
      "Epoch 82/100\n",
      "14/14 [==============================] - 0s 1ms/step - loss: 1.7900\n",
      "Epoch 83/100\n",
      "14/14 [==============================] - 0s 2ms/step - loss: 1.7919\n",
      "Epoch 84/100\n",
      "14/14 [==============================] - 0s 1ms/step - loss: 1.8424\n",
      "Epoch 85/100\n",
      "14/14 [==============================] - 0s 1ms/step - loss: 1.8392\n",
      "Epoch 86/100\n",
      "14/14 [==============================] - 0s 1ms/step - loss: 1.8016\n",
      "Epoch 87/100\n",
      "14/14 [==============================] - 0s 1ms/step - loss: 1.7821\n",
      "Epoch 88/100\n",
      "14/14 [==============================] - 0s 1ms/step - loss: 1.7707\n",
      "Epoch 89/100\n",
      "14/14 [==============================] - 0s 1ms/step - loss: 1.7596\n",
      "Epoch 90/100\n",
      "14/14 [==============================] - 0s 1ms/step - loss: 1.7529\n",
      "Epoch 91/100\n",
      "14/14 [==============================] - 0s 1ms/step - loss: 1.7131\n",
      "Epoch 92/100\n",
      "14/14 [==============================] - 0s 1ms/step - loss: 1.7006\n",
      "Epoch 93/100\n",
      "14/14 [==============================] - 0s 1ms/step - loss: 1.7018\n",
      "Epoch 94/100\n",
      "14/14 [==============================] - 0s 4ms/step - loss: 1.7580\n",
      "Epoch 95/100\n",
      "14/14 [==============================] - 0s 2ms/step - loss: 1.7119\n",
      "Epoch 96/100\n",
      "14/14 [==============================] - 0s 1ms/step - loss: 1.6988\n",
      "Epoch 97/100\n",
      "14/14 [==============================] - 0s 1ms/step - loss: 1.6852\n",
      "Epoch 98/100\n",
      "14/14 [==============================] - 0s 1ms/step - loss: 1.6890\n",
      "Epoch 99/100\n",
      "14/14 [==============================] - 0s 1ms/step - loss: 1.6787\n",
      "Epoch 100/100\n",
      "14/14 [==============================] - 0s 1ms/step - loss: 1.6536\n",
      "7/7 [==============================] - 0s 1ms/step\n",
      "EMA: 1.2499895333113828\n",
      "Coeficiente de determinación (R2): 0.06069222618757031\n"
     ]
    }
   ],
   "source": [
    "model.fit(X_train_ambos, y_train_ambos, epochs=100, batch_size=32, verbose=1)\n",
    "y_pred = model.predict(X_test_ambos)\n",
    "r2 = r2_score(y_test_ambos, y_pred)\n",
    "ema = mean_absolute_error(y_test_ambos, y_pred)\n",
    "print(\"EMA:\", ema)\n",
    "print(\"Coeficiente de determinación (R2):\", r2)\n",
    "dataframe_resultados.loc[len(dataframe_resultados)]=[\"Red neuronal\",\"ambos\",round(r2, 3),round(ema,3)]"
   ]
  },
  {
   "cell_type": "markdown",
   "metadata": {},
   "source": [
    "<h1>Resultado final</h1>"
   ]
  },
  {
   "cell_type": "code",
   "execution_count": 65,
   "metadata": {},
   "outputs": [
    {
     "data": {
      "text/plain": [
       "Modelo     object\n",
       "equipo     object\n",
       "R^2       float64\n",
       "EMA       float64\n",
       "dtype: object"
      ]
     },
     "execution_count": 65,
     "metadata": {},
     "output_type": "execute_result"
    }
   ],
   "source": [
    "dataframe_resultados.dtypes"
   ]
  },
  {
   "cell_type": "code",
   "execution_count": 66,
   "metadata": {},
   "outputs": [
    {
     "data": {
      "text/html": [
       "<div>\n",
       "<style scoped>\n",
       "    .dataframe tbody tr th:only-of-type {\n",
       "        vertical-align: middle;\n",
       "    }\n",
       "\n",
       "    .dataframe tbody tr th {\n",
       "        vertical-align: top;\n",
       "    }\n",
       "\n",
       "    .dataframe thead th {\n",
       "        text-align: right;\n",
       "    }\n",
       "</style>\n",
       "<table border=\"1\" class=\"dataframe\">\n",
       "  <thead>\n",
       "    <tr style=\"text-align: right;\">\n",
       "      <th></th>\n",
       "      <th>Modelo</th>\n",
       "      <th>equipo</th>\n",
       "      <th>R^2</th>\n",
       "      <th>EMA</th>\n",
       "    </tr>\n",
       "  </thead>\n",
       "  <tbody>\n",
       "    <tr>\n",
       "      <th>0</th>\n",
       "      <td>Regresion lineal</td>\n",
       "      <td>local</td>\n",
       "      <td>0.027</td>\n",
       "      <td>0.953</td>\n",
       "    </tr>\n",
       "    <tr>\n",
       "      <th>1</th>\n",
       "      <td>Regresion lineal</td>\n",
       "      <td>visitante</td>\n",
       "      <td>0.115</td>\n",
       "      <td>0.825</td>\n",
       "    </tr>\n",
       "    <tr>\n",
       "      <th>2</th>\n",
       "      <td>Regresion lineal</td>\n",
       "      <td>ambos</td>\n",
       "      <td>0.082</td>\n",
       "      <td>1.267</td>\n",
       "    </tr>\n",
       "    <tr>\n",
       "      <th>3</th>\n",
       "      <td>Ridge</td>\n",
       "      <td>local</td>\n",
       "      <td>0.046</td>\n",
       "      <td>0.946</td>\n",
       "    </tr>\n",
       "    <tr>\n",
       "      <th>4</th>\n",
       "      <td>Ridge</td>\n",
       "      <td>visitante</td>\n",
       "      <td>0.118</td>\n",
       "      <td>0.825</td>\n",
       "    </tr>\n",
       "    <tr>\n",
       "      <th>5</th>\n",
       "      <td>Ridge</td>\n",
       "      <td>ambos</td>\n",
       "      <td>0.12</td>\n",
       "      <td>1.243</td>\n",
       "    </tr>\n",
       "    <tr>\n",
       "      <th>6</th>\n",
       "      <td>SGD Regresor</td>\n",
       "      <td>local</td>\n",
       "      <td>0.06</td>\n",
       "      <td>0.939</td>\n",
       "    </tr>\n",
       "    <tr>\n",
       "      <th>7</th>\n",
       "      <td>SGD Regresor</td>\n",
       "      <td>visitante</td>\n",
       "      <td>0.115</td>\n",
       "      <td>0.822</td>\n",
       "    </tr>\n",
       "    <tr>\n",
       "      <th>8</th>\n",
       "      <td>SGD Regresor</td>\n",
       "      <td>ambos</td>\n",
       "      <td>0.134</td>\n",
       "      <td>1.233</td>\n",
       "    </tr>\n",
       "    <tr>\n",
       "      <th>9</th>\n",
       "      <td>SVR</td>\n",
       "      <td>local</td>\n",
       "      <td>-0.221</td>\n",
       "      <td>1.035</td>\n",
       "    </tr>\n",
       "    <tr>\n",
       "      <th>10</th>\n",
       "      <td>SVR</td>\n",
       "      <td>visitante</td>\n",
       "      <td>0.066</td>\n",
       "      <td>0.813</td>\n",
       "    </tr>\n",
       "    <tr>\n",
       "      <th>11</th>\n",
       "      <td>SVR</td>\n",
       "      <td>ambos</td>\n",
       "      <td>0.109</td>\n",
       "      <td>1.264</td>\n",
       "    </tr>\n",
       "    <tr>\n",
       "      <th>12</th>\n",
       "      <td>Arbol de decision</td>\n",
       "      <td>local</td>\n",
       "      <td>-1.041</td>\n",
       "      <td>1.374</td>\n",
       "    </tr>\n",
       "    <tr>\n",
       "      <th>13</th>\n",
       "      <td>Arbol de decision</td>\n",
       "      <td>visitante</td>\n",
       "      <td>-1.003</td>\n",
       "      <td>1.18</td>\n",
       "    </tr>\n",
       "    <tr>\n",
       "      <th>14</th>\n",
       "      <td>Arbol de decision</td>\n",
       "      <td>ambos</td>\n",
       "      <td>-1.155</td>\n",
       "      <td>1.981</td>\n",
       "    </tr>\n",
       "    <tr>\n",
       "      <th>15</th>\n",
       "      <td>MLP Regresor</td>\n",
       "      <td>local</td>\n",
       "      <td>-0.586</td>\n",
       "      <td>1.214</td>\n",
       "    </tr>\n",
       "    <tr>\n",
       "      <th>16</th>\n",
       "      <td>MLP Regresor</td>\n",
       "      <td>visitante</td>\n",
       "      <td>-0.363</td>\n",
       "      <td>1.007</td>\n",
       "    </tr>\n",
       "    <tr>\n",
       "      <th>17</th>\n",
       "      <td>MLP Regresor</td>\n",
       "      <td>ambos</td>\n",
       "      <td>-0.15</td>\n",
       "      <td>1.395</td>\n",
       "    </tr>\n",
       "    <tr>\n",
       "      <th>18</th>\n",
       "      <td>Bosque aleatorio</td>\n",
       "      <td>local</td>\n",
       "      <td>-0.061</td>\n",
       "      <td>1.002</td>\n",
       "    </tr>\n",
       "    <tr>\n",
       "      <th>19</th>\n",
       "      <td>Bosque aleatorio</td>\n",
       "      <td>visitante</td>\n",
       "      <td>0.03</td>\n",
       "      <td>0.864</td>\n",
       "    </tr>\n",
       "    <tr>\n",
       "      <th>20</th>\n",
       "      <td>Bosque aleatorio</td>\n",
       "      <td>ambos</td>\n",
       "      <td>0.105</td>\n",
       "      <td>1.243</td>\n",
       "    </tr>\n",
       "    <tr>\n",
       "      <th>21</th>\n",
       "      <td>Kneightbours</td>\n",
       "      <td>local</td>\n",
       "      <td>-0.034</td>\n",
       "      <td>0.989</td>\n",
       "    </tr>\n",
       "    <tr>\n",
       "      <th>22</th>\n",
       "      <td>Kneightbours</td>\n",
       "      <td>visitante</td>\n",
       "      <td>0.093</td>\n",
       "      <td>0.838</td>\n",
       "    </tr>\n",
       "    <tr>\n",
       "      <th>23</th>\n",
       "      <td>Kneightbours</td>\n",
       "      <td>ambos</td>\n",
       "      <td>0.051</td>\n",
       "      <td>1.273</td>\n",
       "    </tr>\n",
       "    <tr>\n",
       "      <th>24</th>\n",
       "      <td>Gradient bootsting</td>\n",
       "      <td>local</td>\n",
       "      <td>-0.096</td>\n",
       "      <td>0.991</td>\n",
       "    </tr>\n",
       "    <tr>\n",
       "      <th>25</th>\n",
       "      <td>Gradient bootsting</td>\n",
       "      <td>visitante</td>\n",
       "      <td>-0.056</td>\n",
       "      <td>0.89</td>\n",
       "    </tr>\n",
       "    <tr>\n",
       "      <th>26</th>\n",
       "      <td>Gradient bootsting</td>\n",
       "      <td>ambos</td>\n",
       "      <td>0.031</td>\n",
       "      <td>1.29</td>\n",
       "    </tr>\n",
       "    <tr>\n",
       "      <th>27</th>\n",
       "      <td>Red neuronal</td>\n",
       "      <td>local</td>\n",
       "      <td>-0.287</td>\n",
       "      <td>1.103</td>\n",
       "    </tr>\n",
       "    <tr>\n",
       "      <th>28</th>\n",
       "      <td>Red neuronal</td>\n",
       "      <td>visitante</td>\n",
       "      <td>0.009</td>\n",
       "      <td>0.864</td>\n",
       "    </tr>\n",
       "    <tr>\n",
       "      <th>29</th>\n",
       "      <td>Red neuronal</td>\n",
       "      <td>ambos</td>\n",
       "      <td>0.061</td>\n",
       "      <td>1.25</td>\n",
       "    </tr>\n",
       "  </tbody>\n",
       "</table>\n",
       "</div>"
      ],
      "text/plain": [
       "                Modelo     equipo     R^2    EMA\n",
       "0     Regresion lineal      local   0.027  0.953\n",
       "1     Regresion lineal  visitante   0.115  0.825\n",
       "2     Regresion lineal      ambos   0.082  1.267\n",
       "3                Ridge      local   0.046  0.946\n",
       "4                Ridge  visitante   0.118  0.825\n",
       "5                Ridge      ambos    0.12  1.243\n",
       "6         SGD Regresor      local    0.06  0.939\n",
       "7         SGD Regresor  visitante   0.115  0.822\n",
       "8         SGD Regresor      ambos   0.134  1.233\n",
       "9                  SVR      local  -0.221  1.035\n",
       "10                 SVR  visitante   0.066  0.813\n",
       "11                 SVR      ambos   0.109  1.264\n",
       "12   Arbol de decision      local  -1.041  1.374\n",
       "13   Arbol de decision  visitante  -1.003   1.18\n",
       "14   Arbol de decision      ambos  -1.155  1.981\n",
       "15        MLP Regresor      local  -0.586  1.214\n",
       "16        MLP Regresor  visitante  -0.363  1.007\n",
       "17        MLP Regresor      ambos   -0.15  1.395\n",
       "18    Bosque aleatorio      local  -0.061  1.002\n",
       "19    Bosque aleatorio  visitante    0.03  0.864\n",
       "20    Bosque aleatorio      ambos   0.105  1.243\n",
       "21        Kneightbours      local  -0.034  0.989\n",
       "22        Kneightbours  visitante   0.093  0.838\n",
       "23        Kneightbours      ambos   0.051  1.273\n",
       "24  Gradient bootsting      local  -0.096  0.991\n",
       "25  Gradient bootsting  visitante  -0.056   0.89\n",
       "26  Gradient bootsting      ambos   0.031   1.29\n",
       "27        Red neuronal      local  -0.287  1.103\n",
       "28        Red neuronal  visitante   0.009  0.864\n",
       "29        Red neuronal      ambos   0.061   1.25"
      ]
     },
     "execution_count": 66,
     "metadata": {},
     "output_type": "execute_result"
    }
   ],
   "source": [
    "dataframe_convertido = dataframe_resultados.astype(str)\n",
    "dataframe_convertido"
   ]
  },
  {
   "cell_type": "code",
   "execution_count": 67,
   "metadata": {},
   "outputs": [
    {
     "data": {
      "text/html": [
       "<div>\n",
       "<style scoped>\n",
       "    .dataframe tbody tr th:only-of-type {\n",
       "        vertical-align: middle;\n",
       "    }\n",
       "\n",
       "    .dataframe tbody tr th {\n",
       "        vertical-align: top;\n",
       "    }\n",
       "\n",
       "    .dataframe thead th {\n",
       "        text-align: right;\n",
       "    }\n",
       "</style>\n",
       "<table border=\"1\" class=\"dataframe\">\n",
       "  <thead>\n",
       "    <tr style=\"text-align: right;\">\n",
       "      <th></th>\n",
       "      <th>Modelo</th>\n",
       "      <th>equipo</th>\n",
       "      <th>R^2</th>\n",
       "      <th>EMA</th>\n",
       "    </tr>\n",
       "  </thead>\n",
       "  <tbody>\n",
       "    <tr>\n",
       "      <th>0</th>\n",
       "      <td>Regresion lineal</td>\n",
       "      <td>local</td>\n",
       "      <td>0,027</td>\n",
       "      <td>0,953</td>\n",
       "    </tr>\n",
       "    <tr>\n",
       "      <th>1</th>\n",
       "      <td>Regresion lineal</td>\n",
       "      <td>visitante</td>\n",
       "      <td>0,115</td>\n",
       "      <td>0,825</td>\n",
       "    </tr>\n",
       "    <tr>\n",
       "      <th>2</th>\n",
       "      <td>Regresion lineal</td>\n",
       "      <td>ambos</td>\n",
       "      <td>0,082</td>\n",
       "      <td>1,267</td>\n",
       "    </tr>\n",
       "    <tr>\n",
       "      <th>3</th>\n",
       "      <td>Ridge</td>\n",
       "      <td>local</td>\n",
       "      <td>0,046</td>\n",
       "      <td>0,946</td>\n",
       "    </tr>\n",
       "    <tr>\n",
       "      <th>4</th>\n",
       "      <td>Ridge</td>\n",
       "      <td>visitante</td>\n",
       "      <td>0,118</td>\n",
       "      <td>0,825</td>\n",
       "    </tr>\n",
       "    <tr>\n",
       "      <th>5</th>\n",
       "      <td>Ridge</td>\n",
       "      <td>ambos</td>\n",
       "      <td>0,12</td>\n",
       "      <td>1,243</td>\n",
       "    </tr>\n",
       "    <tr>\n",
       "      <th>6</th>\n",
       "      <td>SGD Regresor</td>\n",
       "      <td>local</td>\n",
       "      <td>0,06</td>\n",
       "      <td>0,939</td>\n",
       "    </tr>\n",
       "    <tr>\n",
       "      <th>7</th>\n",
       "      <td>SGD Regresor</td>\n",
       "      <td>visitante</td>\n",
       "      <td>0,115</td>\n",
       "      <td>0,822</td>\n",
       "    </tr>\n",
       "    <tr>\n",
       "      <th>8</th>\n",
       "      <td>SGD Regresor</td>\n",
       "      <td>ambos</td>\n",
       "      <td>0,134</td>\n",
       "      <td>1,233</td>\n",
       "    </tr>\n",
       "    <tr>\n",
       "      <th>9</th>\n",
       "      <td>SVR</td>\n",
       "      <td>local</td>\n",
       "      <td>-0,221</td>\n",
       "      <td>1,035</td>\n",
       "    </tr>\n",
       "    <tr>\n",
       "      <th>10</th>\n",
       "      <td>SVR</td>\n",
       "      <td>visitante</td>\n",
       "      <td>0,066</td>\n",
       "      <td>0,813</td>\n",
       "    </tr>\n",
       "    <tr>\n",
       "      <th>11</th>\n",
       "      <td>SVR</td>\n",
       "      <td>ambos</td>\n",
       "      <td>0,109</td>\n",
       "      <td>1,264</td>\n",
       "    </tr>\n",
       "    <tr>\n",
       "      <th>12</th>\n",
       "      <td>Arbol de decision</td>\n",
       "      <td>local</td>\n",
       "      <td>-1,041</td>\n",
       "      <td>1,374</td>\n",
       "    </tr>\n",
       "    <tr>\n",
       "      <th>13</th>\n",
       "      <td>Arbol de decision</td>\n",
       "      <td>visitante</td>\n",
       "      <td>-1,003</td>\n",
       "      <td>1,18</td>\n",
       "    </tr>\n",
       "    <tr>\n",
       "      <th>14</th>\n",
       "      <td>Arbol de decision</td>\n",
       "      <td>ambos</td>\n",
       "      <td>-1,155</td>\n",
       "      <td>1,981</td>\n",
       "    </tr>\n",
       "    <tr>\n",
       "      <th>15</th>\n",
       "      <td>MLP Regresor</td>\n",
       "      <td>local</td>\n",
       "      <td>-0,586</td>\n",
       "      <td>1,214</td>\n",
       "    </tr>\n",
       "    <tr>\n",
       "      <th>16</th>\n",
       "      <td>MLP Regresor</td>\n",
       "      <td>visitante</td>\n",
       "      <td>-0,363</td>\n",
       "      <td>1,007</td>\n",
       "    </tr>\n",
       "    <tr>\n",
       "      <th>17</th>\n",
       "      <td>MLP Regresor</td>\n",
       "      <td>ambos</td>\n",
       "      <td>-0,15</td>\n",
       "      <td>1,395</td>\n",
       "    </tr>\n",
       "    <tr>\n",
       "      <th>18</th>\n",
       "      <td>Bosque aleatorio</td>\n",
       "      <td>local</td>\n",
       "      <td>-0,061</td>\n",
       "      <td>1,002</td>\n",
       "    </tr>\n",
       "    <tr>\n",
       "      <th>19</th>\n",
       "      <td>Bosque aleatorio</td>\n",
       "      <td>visitante</td>\n",
       "      <td>0,03</td>\n",
       "      <td>0,864</td>\n",
       "    </tr>\n",
       "    <tr>\n",
       "      <th>20</th>\n",
       "      <td>Bosque aleatorio</td>\n",
       "      <td>ambos</td>\n",
       "      <td>0,105</td>\n",
       "      <td>1,243</td>\n",
       "    </tr>\n",
       "    <tr>\n",
       "      <th>21</th>\n",
       "      <td>Kneightbours</td>\n",
       "      <td>local</td>\n",
       "      <td>-0,034</td>\n",
       "      <td>0,989</td>\n",
       "    </tr>\n",
       "    <tr>\n",
       "      <th>22</th>\n",
       "      <td>Kneightbours</td>\n",
       "      <td>visitante</td>\n",
       "      <td>0,093</td>\n",
       "      <td>0,838</td>\n",
       "    </tr>\n",
       "    <tr>\n",
       "      <th>23</th>\n",
       "      <td>Kneightbours</td>\n",
       "      <td>ambos</td>\n",
       "      <td>0,051</td>\n",
       "      <td>1,273</td>\n",
       "    </tr>\n",
       "    <tr>\n",
       "      <th>24</th>\n",
       "      <td>Gradient bootsting</td>\n",
       "      <td>local</td>\n",
       "      <td>-0,096</td>\n",
       "      <td>0,991</td>\n",
       "    </tr>\n",
       "    <tr>\n",
       "      <th>25</th>\n",
       "      <td>Gradient bootsting</td>\n",
       "      <td>visitante</td>\n",
       "      <td>-0,056</td>\n",
       "      <td>0,89</td>\n",
       "    </tr>\n",
       "    <tr>\n",
       "      <th>26</th>\n",
       "      <td>Gradient bootsting</td>\n",
       "      <td>ambos</td>\n",
       "      <td>0,031</td>\n",
       "      <td>1,29</td>\n",
       "    </tr>\n",
       "    <tr>\n",
       "      <th>27</th>\n",
       "      <td>Red neuronal</td>\n",
       "      <td>local</td>\n",
       "      <td>-0,287</td>\n",
       "      <td>1,103</td>\n",
       "    </tr>\n",
       "    <tr>\n",
       "      <th>28</th>\n",
       "      <td>Red neuronal</td>\n",
       "      <td>visitante</td>\n",
       "      <td>0,009</td>\n",
       "      <td>0,864</td>\n",
       "    </tr>\n",
       "    <tr>\n",
       "      <th>29</th>\n",
       "      <td>Red neuronal</td>\n",
       "      <td>ambos</td>\n",
       "      <td>0,061</td>\n",
       "      <td>1,25</td>\n",
       "    </tr>\n",
       "  </tbody>\n",
       "</table>\n",
       "</div>"
      ],
      "text/plain": [
       "                Modelo     equipo     R^2    EMA\n",
       "0     Regresion lineal      local   0,027  0,953\n",
       "1     Regresion lineal  visitante   0,115  0,825\n",
       "2     Regresion lineal      ambos   0,082  1,267\n",
       "3                Ridge      local   0,046  0,946\n",
       "4                Ridge  visitante   0,118  0,825\n",
       "5                Ridge      ambos    0,12  1,243\n",
       "6         SGD Regresor      local    0,06  0,939\n",
       "7         SGD Regresor  visitante   0,115  0,822\n",
       "8         SGD Regresor      ambos   0,134  1,233\n",
       "9                  SVR      local  -0,221  1,035\n",
       "10                 SVR  visitante   0,066  0,813\n",
       "11                 SVR      ambos   0,109  1,264\n",
       "12   Arbol de decision      local  -1,041  1,374\n",
       "13   Arbol de decision  visitante  -1,003   1,18\n",
       "14   Arbol de decision      ambos  -1,155  1,981\n",
       "15        MLP Regresor      local  -0,586  1,214\n",
       "16        MLP Regresor  visitante  -0,363  1,007\n",
       "17        MLP Regresor      ambos   -0,15  1,395\n",
       "18    Bosque aleatorio      local  -0,061  1,002\n",
       "19    Bosque aleatorio  visitante    0,03  0,864\n",
       "20    Bosque aleatorio      ambos   0,105  1,243\n",
       "21        Kneightbours      local  -0,034  0,989\n",
       "22        Kneightbours  visitante   0,093  0,838\n",
       "23        Kneightbours      ambos   0,051  1,273\n",
       "24  Gradient bootsting      local  -0,096  0,991\n",
       "25  Gradient bootsting  visitante  -0,056   0,89\n",
       "26  Gradient bootsting      ambos   0,031   1,29\n",
       "27        Red neuronal      local  -0,287  1,103\n",
       "28        Red neuronal  visitante   0,009  0,864\n",
       "29        Red neuronal      ambos   0,061   1,25"
      ]
     },
     "execution_count": 67,
     "metadata": {},
     "output_type": "execute_result"
    }
   ],
   "source": [
    "dataframe_convertido = dataframe_convertido.replace(\"\\.\", \",\", regex=True)\n",
    "dataframe_convertido"
   ]
  },
  {
   "cell_type": "code",
   "execution_count": 68,
   "metadata": {},
   "outputs": [],
   "source": [
    "dataframe_convertido.to_csv(\"resultados_regresion.txt\")"
   ]
  },
  {
   "cell_type": "code",
   "execution_count": 69,
   "metadata": {},
   "outputs": [
    {
     "data": {
      "text/html": [
       "<div>\n",
       "<style scoped>\n",
       "    .dataframe tbody tr th:only-of-type {\n",
       "        vertical-align: middle;\n",
       "    }\n",
       "\n",
       "    .dataframe tbody tr th {\n",
       "        vertical-align: top;\n",
       "    }\n",
       "\n",
       "    .dataframe thead th {\n",
       "        text-align: right;\n",
       "    }\n",
       "</style>\n",
       "<table border=\"1\" class=\"dataframe\">\n",
       "  <thead>\n",
       "    <tr style=\"text-align: right;\">\n",
       "      <th></th>\n",
       "      <th>Modelo</th>\n",
       "      <th>equipo</th>\n",
       "      <th>R^2</th>\n",
       "      <th>EMA</th>\n",
       "    </tr>\n",
       "  </thead>\n",
       "  <tbody>\n",
       "    <tr>\n",
       "      <th>0</th>\n",
       "      <td>Regresion lineal</td>\n",
       "      <td>local</td>\n",
       "      <td>0.027</td>\n",
       "      <td>0.953</td>\n",
       "    </tr>\n",
       "    <tr>\n",
       "      <th>1</th>\n",
       "      <td>Regresion lineal</td>\n",
       "      <td>visitante</td>\n",
       "      <td>0.115</td>\n",
       "      <td>0.825</td>\n",
       "    </tr>\n",
       "    <tr>\n",
       "      <th>2</th>\n",
       "      <td>Regresion lineal</td>\n",
       "      <td>ambos</td>\n",
       "      <td>0.082</td>\n",
       "      <td>1.267</td>\n",
       "    </tr>\n",
       "    <tr>\n",
       "      <th>3</th>\n",
       "      <td>Ridge</td>\n",
       "      <td>local</td>\n",
       "      <td>0.046</td>\n",
       "      <td>0.946</td>\n",
       "    </tr>\n",
       "    <tr>\n",
       "      <th>4</th>\n",
       "      <td>Ridge</td>\n",
       "      <td>visitante</td>\n",
       "      <td>0.118</td>\n",
       "      <td>0.825</td>\n",
       "    </tr>\n",
       "    <tr>\n",
       "      <th>5</th>\n",
       "      <td>Ridge</td>\n",
       "      <td>ambos</td>\n",
       "      <td>0.120</td>\n",
       "      <td>1.243</td>\n",
       "    </tr>\n",
       "    <tr>\n",
       "      <th>6</th>\n",
       "      <td>SGD Regresor</td>\n",
       "      <td>local</td>\n",
       "      <td>0.060</td>\n",
       "      <td>0.939</td>\n",
       "    </tr>\n",
       "    <tr>\n",
       "      <th>7</th>\n",
       "      <td>SGD Regresor</td>\n",
       "      <td>visitante</td>\n",
       "      <td>0.115</td>\n",
       "      <td>0.822</td>\n",
       "    </tr>\n",
       "    <tr>\n",
       "      <th>8</th>\n",
       "      <td>SGD Regresor</td>\n",
       "      <td>ambos</td>\n",
       "      <td>0.134</td>\n",
       "      <td>1.233</td>\n",
       "    </tr>\n",
       "    <tr>\n",
       "      <th>9</th>\n",
       "      <td>SVR</td>\n",
       "      <td>local</td>\n",
       "      <td>-0.221</td>\n",
       "      <td>1.035</td>\n",
       "    </tr>\n",
       "    <tr>\n",
       "      <th>10</th>\n",
       "      <td>SVR</td>\n",
       "      <td>visitante</td>\n",
       "      <td>0.066</td>\n",
       "      <td>0.813</td>\n",
       "    </tr>\n",
       "    <tr>\n",
       "      <th>11</th>\n",
       "      <td>SVR</td>\n",
       "      <td>ambos</td>\n",
       "      <td>0.109</td>\n",
       "      <td>1.264</td>\n",
       "    </tr>\n",
       "    <tr>\n",
       "      <th>12</th>\n",
       "      <td>Arbol de decision</td>\n",
       "      <td>local</td>\n",
       "      <td>-1.041</td>\n",
       "      <td>1.374</td>\n",
       "    </tr>\n",
       "    <tr>\n",
       "      <th>13</th>\n",
       "      <td>Arbol de decision</td>\n",
       "      <td>visitante</td>\n",
       "      <td>-1.003</td>\n",
       "      <td>1.180</td>\n",
       "    </tr>\n",
       "    <tr>\n",
       "      <th>14</th>\n",
       "      <td>Arbol de decision</td>\n",
       "      <td>ambos</td>\n",
       "      <td>-1.155</td>\n",
       "      <td>1.981</td>\n",
       "    </tr>\n",
       "    <tr>\n",
       "      <th>15</th>\n",
       "      <td>MLP Regresor</td>\n",
       "      <td>local</td>\n",
       "      <td>-0.586</td>\n",
       "      <td>1.214</td>\n",
       "    </tr>\n",
       "    <tr>\n",
       "      <th>16</th>\n",
       "      <td>MLP Regresor</td>\n",
       "      <td>visitante</td>\n",
       "      <td>-0.363</td>\n",
       "      <td>1.007</td>\n",
       "    </tr>\n",
       "    <tr>\n",
       "      <th>17</th>\n",
       "      <td>MLP Regresor</td>\n",
       "      <td>ambos</td>\n",
       "      <td>-0.150</td>\n",
       "      <td>1.395</td>\n",
       "    </tr>\n",
       "    <tr>\n",
       "      <th>18</th>\n",
       "      <td>Bosque aleatorio</td>\n",
       "      <td>local</td>\n",
       "      <td>-0.061</td>\n",
       "      <td>1.002</td>\n",
       "    </tr>\n",
       "    <tr>\n",
       "      <th>19</th>\n",
       "      <td>Bosque aleatorio</td>\n",
       "      <td>visitante</td>\n",
       "      <td>0.030</td>\n",
       "      <td>0.864</td>\n",
       "    </tr>\n",
       "    <tr>\n",
       "      <th>20</th>\n",
       "      <td>Bosque aleatorio</td>\n",
       "      <td>ambos</td>\n",
       "      <td>0.105</td>\n",
       "      <td>1.243</td>\n",
       "    </tr>\n",
       "    <tr>\n",
       "      <th>21</th>\n",
       "      <td>Kneightbours</td>\n",
       "      <td>local</td>\n",
       "      <td>-0.034</td>\n",
       "      <td>0.989</td>\n",
       "    </tr>\n",
       "    <tr>\n",
       "      <th>22</th>\n",
       "      <td>Kneightbours</td>\n",
       "      <td>visitante</td>\n",
       "      <td>0.093</td>\n",
       "      <td>0.838</td>\n",
       "    </tr>\n",
       "    <tr>\n",
       "      <th>23</th>\n",
       "      <td>Kneightbours</td>\n",
       "      <td>ambos</td>\n",
       "      <td>0.051</td>\n",
       "      <td>1.273</td>\n",
       "    </tr>\n",
       "    <tr>\n",
       "      <th>24</th>\n",
       "      <td>Gradient bootsting</td>\n",
       "      <td>local</td>\n",
       "      <td>-0.096</td>\n",
       "      <td>0.991</td>\n",
       "    </tr>\n",
       "    <tr>\n",
       "      <th>25</th>\n",
       "      <td>Gradient bootsting</td>\n",
       "      <td>visitante</td>\n",
       "      <td>-0.056</td>\n",
       "      <td>0.890</td>\n",
       "    </tr>\n",
       "    <tr>\n",
       "      <th>26</th>\n",
       "      <td>Gradient bootsting</td>\n",
       "      <td>ambos</td>\n",
       "      <td>0.031</td>\n",
       "      <td>1.290</td>\n",
       "    </tr>\n",
       "    <tr>\n",
       "      <th>27</th>\n",
       "      <td>Red neuronal</td>\n",
       "      <td>local</td>\n",
       "      <td>-0.287</td>\n",
       "      <td>1.103</td>\n",
       "    </tr>\n",
       "    <tr>\n",
       "      <th>28</th>\n",
       "      <td>Red neuronal</td>\n",
       "      <td>visitante</td>\n",
       "      <td>0.009</td>\n",
       "      <td>0.864</td>\n",
       "    </tr>\n",
       "    <tr>\n",
       "      <th>29</th>\n",
       "      <td>Red neuronal</td>\n",
       "      <td>ambos</td>\n",
       "      <td>0.061</td>\n",
       "      <td>1.250</td>\n",
       "    </tr>\n",
       "  </tbody>\n",
       "</table>\n",
       "</div>"
      ],
      "text/plain": [
       "                Modelo     equipo    R^2    EMA\n",
       "0     Regresion lineal      local  0.027  0.953\n",
       "1     Regresion lineal  visitante  0.115  0.825\n",
       "2     Regresion lineal      ambos  0.082  1.267\n",
       "3                Ridge      local  0.046  0.946\n",
       "4                Ridge  visitante  0.118  0.825\n",
       "5                Ridge      ambos  0.120  1.243\n",
       "6         SGD Regresor      local  0.060  0.939\n",
       "7         SGD Regresor  visitante  0.115  0.822\n",
       "8         SGD Regresor      ambos  0.134  1.233\n",
       "9                  SVR      local -0.221  1.035\n",
       "10                 SVR  visitante  0.066  0.813\n",
       "11                 SVR      ambos  0.109  1.264\n",
       "12   Arbol de decision      local -1.041  1.374\n",
       "13   Arbol de decision  visitante -1.003  1.180\n",
       "14   Arbol de decision      ambos -1.155  1.981\n",
       "15        MLP Regresor      local -0.586  1.214\n",
       "16        MLP Regresor  visitante -0.363  1.007\n",
       "17        MLP Regresor      ambos -0.150  1.395\n",
       "18    Bosque aleatorio      local -0.061  1.002\n",
       "19    Bosque aleatorio  visitante  0.030  0.864\n",
       "20    Bosque aleatorio      ambos  0.105  1.243\n",
       "21        Kneightbours      local -0.034  0.989\n",
       "22        Kneightbours  visitante  0.093  0.838\n",
       "23        Kneightbours      ambos  0.051  1.273\n",
       "24  Gradient bootsting      local -0.096  0.991\n",
       "25  Gradient bootsting  visitante -0.056  0.890\n",
       "26  Gradient bootsting      ambos  0.031  1.290\n",
       "27        Red neuronal      local -0.287  1.103\n",
       "28        Red neuronal  visitante  0.009  0.864\n",
       "29        Red neuronal      ambos  0.061  1.250"
      ]
     },
     "execution_count": 69,
     "metadata": {},
     "output_type": "execute_result"
    }
   ],
   "source": [
    "dataframe_resultados"
   ]
  }
 ],
 "metadata": {
  "kernelspec": {
   "display_name": "Python 3",
   "language": "python",
   "name": "python3"
  },
  "language_info": {
   "codemirror_mode": {
    "name": "ipython",
    "version": 3
   },
   "file_extension": ".py",
   "mimetype": "text/x-python",
   "name": "python",
   "nbconvert_exporter": "python",
   "pygments_lexer": "ipython3",
   "version": "3.10.5"
  },
  "orig_nbformat": 4
 },
 "nbformat": 4,
 "nbformat_minor": 2
}
