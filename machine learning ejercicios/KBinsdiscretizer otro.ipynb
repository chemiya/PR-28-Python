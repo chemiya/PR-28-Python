{
 "cells": [
  {
   "cell_type": "code",
   "execution_count": 1,
   "id": "e1f149fb",
   "metadata": {},
   "outputs": [],
   "source": [
    "from sklearn.preprocessing import KBinsDiscretizer\n",
    "import pandas as pd"
   ]
  },
  {
   "cell_type": "code",
   "execution_count": 2,
   "id": "5e8358eb",
   "metadata": {},
   "outputs": [],
   "source": [
    "calories={\n",
    "    \n",
    "    \"valores\":[23,45,67,89]\n",
    "}"
   ]
  },
  {
   "cell_type": "code",
   "execution_count": 3,
   "id": "09a0dd1f",
   "metadata": {},
   "outputs": [],
   "source": [
    "df=pd.DataFrame(calories)"
   ]
  },
  {
   "cell_type": "code",
   "execution_count": 4,
   "id": "d9f4ecfa",
   "metadata": {},
   "outputs": [],
   "source": [
    "a1=KBinsDiscretizer(n_bins=4,encode=\"ordinal\",strategy=\"kmeans\").fit_transform(df)"
   ]
  },
  {
   "cell_type": "code",
   "execution_count": 5,
   "id": "a4ee53bd",
   "metadata": {},
   "outputs": [
    {
     "name": "stdout",
     "output_type": "stream",
     "text": [
      "[[0.]\n",
      " [1.]\n",
      " [2.]\n",
      " [3.]]\n"
     ]
    }
   ],
   "source": [
    "print(a1)"
   ]
  },
  {
   "cell_type": "code",
   "execution_count": null,
   "id": "a1827da6",
   "metadata": {},
   "outputs": [],
   "source": []
  }
 ],
 "metadata": {
  "kernelspec": {
   "display_name": "Python 3.10.5 64-bit",
   "language": "python",
   "name": "python3"
  },
  "language_info": {
   "codemirror_mode": {
    "name": "ipython",
    "version": 3
   },
   "file_extension": ".py",
   "mimetype": "text/x-python",
   "name": "python",
   "nbconvert_exporter": "python",
   "pygments_lexer": "ipython3",
   "version": "3.10.5 (tags/v3.10.5:f377153, Jun  6 2022, 16:14:13) [MSC v.1929 64 bit (AMD64)]"
  },
  "vscode": {
   "interpreter": {
    "hash": "6a99fcdf587a9b7f60090dd3b730569266bf09a8a4c6a3d9d62687823b8d432a"
   }
  }
 },
 "nbformat": 4,
 "nbformat_minor": 5
}
