{
 "cells": [
  {
   "cell_type": "code",
   "execution_count": 1,
   "id": "b0c54f45",
   "metadata": {},
   "outputs": [],
   "source": [
    "import pandas as pd\n",
    "from sklearn.preprocessing import KBinsDiscretizer# de preprocessing trae el kbeans"
   ]
  },
  {
   "cell_type": "code",
   "execution_count": 6,
   "id": "c287ff88",
   "metadata": {},
   "outputs": [],
   "source": [
    "#KBinsDiscretizer(n_bins=5,encode='onehot',strategy='quantile')"
   ]
  },
  {
   "cell_type": "code",
   "execution_count": 2,
   "id": "69a6aec0",
   "metadata": {},
   "outputs": [],
   "source": [
    "data = {\n",
    "  \"calories\": [420.4, 380.3, 390.2,384.3,385.2,984.5,829.2]\n",
    "  \n",
    "}\n",
    "df=pd.DataFrame(data);"
   ]
  },
  {
   "cell_type": "code",
   "execution_count": 3,
   "id": "fbfb3ed4",
   "metadata": {},
   "outputs": [],
   "source": [
    "#KBinsDiscre(numero,e=ordinal,s=kmeans).fitTransform(data)  nes\n",
    "A1_dis = KBinsDiscretizer(n_bins=4, encode='ordinal',\n",
    "                           strategy = \"kmeans\").fit_transform(df[['calories']])"
   ]
  },
  {
   "cell_type": "code",
   "execution_count": 4,
   "id": "9e36f49c",
   "metadata": {},
   "outputs": [
    {
     "name": "stdout",
     "output_type": "stream",
     "text": [
      "[[1.]\n",
      " [0.]\n",
      " [0.]\n",
      " [0.]\n",
      " [0.]\n",
      " [3.]\n",
      " [2.]]\n"
     ]
    }
   ],
   "source": [
    "print(A1_dis)"
   ]
  },
  {
   "cell_type": "code",
   "execution_count": null,
   "id": "5b49308f",
   "metadata": {},
   "outputs": [],
   "source": []
  },
  {
   "cell_type": "code",
   "execution_count": null,
   "id": "f8ff8548",
   "metadata": {},
   "outputs": [],
   "source": []
  }
 ],
 "metadata": {
  "kernelspec": {
   "display_name": "Python 3.10.5 64-bit",
   "language": "python",
   "name": "python3"
  },
  "language_info": {
   "codemirror_mode": {
    "name": "ipython",
    "version": 3
   },
   "file_extension": ".py",
   "mimetype": "text/x-python",
   "name": "python",
   "nbconvert_exporter": "python",
   "pygments_lexer": "ipython3",
   "version": "3.10.5"
  },
  "vscode": {
   "interpreter": {
    "hash": "6a99fcdf587a9b7f60090dd3b730569266bf09a8a4c6a3d9d62687823b8d432a"
   }
  }
 },
 "nbformat": 4,
 "nbformat_minor": 5
}
