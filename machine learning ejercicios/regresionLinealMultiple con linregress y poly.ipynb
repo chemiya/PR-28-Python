{
 "cells": [
  {
   "cell_type": "code",
   "execution_count": null,
   "metadata": {},
   "outputs": [],
   "source": [
    "import numpy\n",
    "from scipy import stats#traigo de scipy\n",
    "import matplotlib.pyplot as plt"
   ]
  },
  {
   "cell_type": "code",
   "execution_count": null,
   "metadata": {},
   "outputs": [],
   "source": [
    "x = [5,7,8,7,2,17,2,9,4,11,12,9,6]\n",
    "y = [99,86,87,88,111,86,103,87,94,78,77,85,86]\n",
    "\n",
    "slope, intercept, r, p, std_err = stats.linregress(x, y)#regresion con x e y y me das esos valores\n",
    "\n",
    "def myfunc(x):\n",
    "  return slope * x + intercept#mx+z\n",
    "\n",
    "mymodel = list(map(myfunc, x))#lista,mapa, de la funcion con los x\n",
    "\n",
    "\n",
    "plt.scatter(x, y)#muestro los de dispersion\n",
    "plt.plot(x, mymodel)#hago la raya del modelo\n",
    "plt.show()\n",
    "\n",
    "speed = myfunc(10)#predice con x si es 10\n",
    "print(speed)\n",
    "print(r)# r de 0,13 diria que no seria bueno regresion, -0,76 este si es bueno regresion\n",
    "#0 no relacion, 1 o -1 mucha relacion"
   ]
  },
  {
   "cell_type": "code",
   "execution_count": null,
   "metadata": {},
   "outputs": [],
   "source": [
    "x = [1,2,3,5,6,7,8,9,10,12,13,14,15,16,18,19,21,22]\n",
    "y = [100,90,80,60,60,55,60,65,70,70,75,76,78,79,90,99,99,100]\n",
    "\n",
    "mymodel = numpy.poly1d(numpy.polyfit(x, y, 3))#ajusta x,y de grado 3\n",
    "\n",
    "myline = numpy.linspace(1, 22, 100)#x de 1 a 22, y aqui como se muestra\n",
    "\n",
    "plt.scatter(x, y)\n",
    "plt.plot(myline, mymodel(myline))\n",
    "plt.show()\n",
    "\n",
    "from sklearn.metrics import r2_score\n",
    "print(r2_score(y, mymodel(x)))# entre 0-1 , 1 muy relacionado. si saliese 0.09992 no hacer regresion\n",
    "speed = mymodel(17)#predecir uno de 17\n",
    "print(speed)"
   ]
  }
 ],
 "metadata": {
  "kernelspec": {
   "display_name": "Python 3.10.5 64-bit",
   "language": "python",
   "name": "python3"
  },
  "language_info": {
   "name": "python",
   "version": "3.10.5"
  },
  "orig_nbformat": 4,
  "vscode": {
   "interpreter": {
    "hash": "6a99fcdf587a9b7f60090dd3b730569266bf09a8a4c6a3d9d62687823b8d432a"
   }
  }
 },
 "nbformat": 4,
 "nbformat_minor": 2
}
