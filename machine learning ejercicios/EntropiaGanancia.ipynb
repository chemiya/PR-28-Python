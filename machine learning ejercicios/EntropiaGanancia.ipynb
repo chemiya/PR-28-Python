{
 "cells": [
  {
   "cell_type": "markdown",
   "id": "d61f7ba3",
   "metadata": {},
   "source": [
    "he utilizado print para ver lo que hacia cada linea de codigo. Previamente he leido la documentacion de la pagina de pandas, de scipy y de python en general para entender brevemente el funcionamiento. Le comento en el programa lo que entiendo de cada linea con sus funciones. he limpiado con restart and clear output para que no se muestren todas las salidas. algunos print los he dejado y otros los he quitado\n",
    "ademas le anado como calcular la entropia segun he visto por internet"
   ]
  },
  {
   "cell_type": "code",
   "execution_count": null,
   "id": "a8c65d90",
   "metadata": {},
   "outputs": [],
   "source": [
    "#Practica 1: considero que esta bastante correcta"
   ]
  },
  {
   "cell_type": "code",
   "execution_count": 2,
   "id": "e49714f3",
   "metadata": {},
   "outputs": [],
   "source": [
    "import numpy as np\n",
    "from scipy.stats import entropy\n",
    "import pandas as pd\n",
    "from sklearn.datasets import make_blobs\n",
    "from sklearn.preprocessing import MinMaxScaler\n",
    "import matplotlib.pyplot as plt"
   ]
  },
  {
   "cell_type": "code",
   "execution_count": 3,
   "id": "d5a76678",
   "metadata": {},
   "outputs": [],
   "source": [
    "#df = pd.read_csv(\"ejemplo.csv\",names=['outlook','temperature','humidity','windy','play'])\n",
    "df = pd.read_csv(\"weather.csv\")"
   ]
  },
  {
   "cell_type": "code",
   "execution_count": 4,
   "id": "673871a5",
   "metadata": {},
   "outputs": [
    {
     "name": "stdout",
     "output_type": "stream",
     "text": [
      "     outlook temperature humidity  windy play\n",
      "0      sunny         hot     high  False   no\n",
      "1      sunny         hot     high   True   no\n",
      "2   overcast         hot     high  False  yes\n",
      "3      rainy        mild     high  False  yes\n",
      "4      rainy        cool   normal  False  yes\n",
      "5      rainy        cool   normal   True   no\n",
      "6   overcast        cool   normal   True  yes\n",
      "7      sunny        mild     high  False   no\n",
      "8      sunny        cool   normal  False  yes\n",
      "9      rainy        mild   normal  False  yes\n",
      "10     sunny        mild   normal   True  yes\n",
      "11  overcast        mild     high   True  yes\n",
      "12  overcast         hot   normal  False  yes\n",
      "13     rainy        mild     high   True   no\n"
     ]
    }
   ],
   "source": [
    "print(df)"
   ]
  },
  {
   "cell_type": "code",
   "execution_count": 5,
   "id": "0d2fd09c",
   "metadata": {},
   "outputs": [],
   "source": [
    "outlook = ['sunny','overcast','rainy']\n",
    "temperature = ['hot','mild,','cold']\n",
    "humidity = ['high','normal']\n",
    "windy=['True','False']\n",
    "play=['no','yes']"
   ]
  },
  {
   "cell_type": "code",
   "execution_count": 6,
   "id": "6f802e15",
   "metadata": {},
   "outputs": [],
   "source": [
    "H = entropy(df.iloc[:, -1].value_counts(normalize=True), base=2)\n",
    "#la funcion entropia de scipy.stats recibe en primer lugar la tabla con los datos. con iloc de :,-1 seleccionamos \n",
    "#la ultima columna, contando las apariciones que hay y normalize nos da en proporcion es decir en decimal\n",
    "# base 2 es el logaritmo de base que utiliza"
   ]
  },
  {
   "cell_type": "code",
   "execution_count": 7,
   "id": "6abbb599",
   "metadata": {},
   "outputs": [],
   "source": [
    "#df.iloc[:, -1].value_counts(normalize=True)\n",
    "#porque 5 'noes' entre 14 son 0,35 de proporcion\n",
    "#devuelve esto\n",
    "#yes    0.642857\n",
    "#no     0.357143"
   ]
  },
  {
   "cell_type": "code",
   "execution_count": 8,
   "id": "86ea8998",
   "metadata": {},
   "outputs": [
    {
     "name": "stdout",
     "output_type": "stream",
     "text": [
      "0.940285958670631\n"
     ]
    }
   ],
   "source": [
    "print(H)"
   ]
  },
  {
   "cell_type": "code",
   "execution_count": 9,
   "id": "cfdaabf8",
   "metadata": {},
   "outputs": [
    {
     "data": {
      "text/plain": [
       "(0.940285958670631,\n",
       " [0.246749819774439,\n",
       "  0.029222565658954758,\n",
       "  0.15183550136234159,\n",
       "  0.04812703040826943])"
      ]
     },
     "execution_count": 9,
     "metadata": {},
     "output_type": "execute_result"
    }
   ],
   "source": [
    "G = []\n",
    "l = len(df)\n",
    "# utiliza len que es para obtener la longitud de la tabla\n",
    "#df.columns[:-1] obtiene 'outlook', 'temperature', 'humidity', 'windy']\n",
    "for atributo in df.columns[:-1]:\n",
    "    G.append(H)\n",
    "    # va anadiendo cada entropia que calcula. aqui anado la primera\n",
    "    for v in df[atributo].unique():  \n",
    "        #para atributo outlook encuentra sunny,overcast y rainy, ultimo false o true\n",
    "        \n",
    "        table = df.loc[df[atributo] == v]\n",
    "        #0    sunny         hot     high  False   no\n",
    "        #1    sunny         hot     high   True   no\n",
    "        #7    sunny        mild     high  False   no\n",
    "        #8    sunny        cool   normal  False  yes\n",
    "        #10   sunny        mild   normal   True  yes\n",
    "    \n",
    "        #hace una minitabla por ejemplo con todas las filas que tienen sunny en el outlook\n",
    "        #aqui utiliza loc para seleccionar filas en base a la condicion de que el atributo de la fila\n",
    "        # sea igual al seleccionado en el bucle\n",
    "        G[-1] -= (len(table)/l)*entropy(table.iloc[:, -1].value_counts(normalize=True), base=2)\n",
    "        #longitud de la minitabla / entre la longitud de la tabla total * la entropia calcula de la minitabla\n",
    "        # guardo la entropia al vector\n",
    "        #formula: -p log2 (p)\n",
    "H, G"
   ]
  },
  {
   "cell_type": "code",
   "execution_count": 10,
   "id": "d7eb7b52",
   "metadata": {},
   "outputs": [
    {
     "data": {
      "text/plain": [
       "(0.4591836734693877,\n",
       " [0.11632653061224485,\n",
       "  0.018707482993197258,\n",
       "  0.09183673469387743,\n",
       "  0.030612244897959162])"
      ]
     },
     "execution_count": 10,
     "metadata": {},
     "output_type": "execute_result"
    }
   ],
   "source": [
    "Gi = []\n",
    "G_Gini = 1-sum(df.iloc[:,-1].value_counts(normalize=True)**2)\n",
    "#df.iloc[:,-1].value_counts(normalize=True) nos da yes:0,64 y no 0,35 y se hace el cuadrado\n",
    "#hacemos la proporcion como en la entropia con el iloc y normalize, y la elevamos al cuadrado por la formula.\n",
    "#eso lo restamos de 1 por la formula del indice de gini\n",
    "#formula : 1-sumas(p²)\n",
    "# esto es similar a los anteriores calculos de la entropia, cambiando solo la formula para el indice de gini\n",
    "l = len(df)\n",
    "#df.columns[:-1] obtiene 'outlook', 'temperature', 'humidity', 'windy']\n",
    "for atributo in df.columns[:-1]:\n",
    "    Gi.append(G_Gini)\n",
    "     # va anadiendo cada gini que calcula. aqui anado la primera\n",
    "    for v in df[atributo].unique():\n",
    "        #para atributo outlook encuentra sunny,overcast y rainy, ultimo false o true\n",
    "        table = df.loc[df[atributo] == v]\n",
    "         #0    sunny         hot     high  False   no\n",
    "        #1    sunny         hot     high   True   no\n",
    "        #7    sunny        mild     high  False   no\n",
    "        #8    sunny        cool   normal  False  yes\n",
    "        #10   sunny        mild   normal   True  yes\n",
    "        Gi[-1] -= (len(table)/l)*(1-sum(table.iloc[:,-1].value_counts(normalize=True)**2))\n",
    "          #longitud de la minitabla / entre la longitud de la tabla total * gini calculada de la minitabla\n",
    "G_Gini, Gi"
   ]
  },
  {
   "cell_type": "code",
   "execution_count": 49,
   "id": "6d29862b",
   "metadata": {},
   "outputs": [],
   "source": [
    "def ent(data):\n",
    "    #recibe minitabla por ejemplo con los que tienen hot su valor de play\n",
    "    #3     yes\n",
    "#4     yes\n",
    "#5      no\n",
    "#9     yes\n",
    "#13     no\n",
    "    prob1 = pd.value_counts(data) / len(data)\n",
    "#yes    0.6 los otros son 3/5\n",
    "#no     0.4\n",
    "    #saca las proporciones para overcast por ejemplo de si y no\n",
    "    return sum(np.log2(prob1) * prob1 * (-1))\n",
    "    #formula de la entropia"
   ]
  },
  {
   "cell_type": "code",
   "execution_count": 52,
   "id": "0fbfbef4",
   "metadata": {},
   "outputs": [],
   "source": [
    "def gain(data,str1,str2):\n",
    "    e1 = data.groupby(str1).apply(lambda x:ent(x[str2]))\n",
    "    #obtiene la cantidad de informacion de cada valor diferente de la columna, \n",
    "    #dos iguales y dos dif=1, todos iguales=0\n",
    "    p1 = pd.value_counts(data[str1]) / len(data[str1])\n",
    "    #mild    0.428571 6/14\n",
    "    #hot     0.285714\n",
    "    #cool    0.285714\n",
    "    #calcula la probabilidad de cada valor diferente de la columna\n",
    "    e2 = sum(e1 * p1)\n",
    "    \n",
    "    #formula de la entropia\n",
    "    #formula ganacia: entropia padre -hijos\n",
    "    return ent(data[str2]) - e2\n",
    "    #restamos la entropia calculada de la de la columna de referencia"
   ]
  },
  {
   "cell_type": "code",
   "execution_count": 53,
   "id": "e8f03660",
   "metadata": {},
   "outputs": [
    {
     "name": "stdout",
     "output_type": "stream",
     "text": [
      "outlook\n",
      "overcast    0.000000\n",
      "rainy       0.970951\n",
      "sunny       0.970951\n",
      "dtype: float64\n"
     ]
    },
    {
     "data": {
      "text/plain": [
       "0.24674981977443933"
      ]
     },
     "execution_count": 53,
     "metadata": {},
     "output_type": "execute_result"
    }
   ],
   "source": [
    "gain(df, 'outlook', 'play')"
   ]
  },
  {
   "cell_type": "code",
   "execution_count": 54,
   "id": "65a79dfd",
   "metadata": {},
   "outputs": [
    {
     "name": "stdout",
     "output_type": "stream",
     "text": [
      "temperature\n",
      "cool    0.811278\n",
      "hot     1.000000\n",
      "mild    0.918296\n",
      "dtype: float64\n"
     ]
    },
    {
     "data": {
      "text/plain": [
       "0.02922256565895487"
      ]
     },
     "execution_count": 54,
     "metadata": {},
     "output_type": "execute_result"
    }
   ],
   "source": [
    "gain(df, 'temperature', 'play')"
   ]
  },
  {
   "cell_type": "code",
   "execution_count": 15,
   "id": "4e92fe9e",
   "metadata": {},
   "outputs": [
    {
     "data": {
      "text/plain": [
       "0.15183550136234159"
      ]
     },
     "execution_count": 15,
     "metadata": {},
     "output_type": "execute_result"
    }
   ],
   "source": [
    "gain(df, 'humidity', 'play')"
   ]
  },
  {
   "cell_type": "code",
   "execution_count": 16,
   "id": "9fb6a0d2",
   "metadata": {},
   "outputs": [
    {
     "data": {
      "text/plain": [
       "0.04812703040826949"
      ]
     },
     "execution_count": 16,
     "metadata": {},
     "output_type": "execute_result"
    }
   ],
   "source": [
    "gain(df, 'windy', 'play')"
   ]
  },
  {
   "cell_type": "code",
   "execution_count": 35,
   "id": "6eb7f835",
   "metadata": {},
   "outputs": [],
   "source": []
  },
  {
   "cell_type": "code",
   "execution_count": 36,
   "id": "03f96dfc",
   "metadata": {},
   "outputs": [
    {
     "name": "stdout",
     "output_type": "stream",
     "text": [
      "yes    0.642857\n",
      "no     0.357143\n",
      "Name: play, dtype: float64\n"
     ]
    }
   ],
   "source": [
    "\n",
    "  "
   ]
  },
  {
   "cell_type": "code",
   "execution_count": 30,
   "id": "c9d1f7cc",
   "metadata": {},
   "outputs": [
    {
     "name": "stdout",
     "output_type": "stream",
     "text": [
      "mild    0.428571\n",
      "hot     0.285714\n",
      "cool    0.285714\n",
      "Name: temperature, dtype: float64\n"
     ]
    }
   ],
   "source": []
  },
  {
   "cell_type": "code",
   "execution_count": null,
   "id": "a1ceb69f",
   "metadata": {},
   "outputs": [],
   "source": []
  }
 ],
 "metadata": {
  "kernelspec": {
   "display_name": "Python 3 (ipykernel)",
   "language": "python",
   "name": "python3"
  },
  "language_info": {
   "codemirror_mode": {
    "name": "ipython",
    "version": 3
   },
   "file_extension": ".py",
   "mimetype": "text/x-python",
   "name": "python",
   "nbconvert_exporter": "python",
   "pygments_lexer": "ipython3",
   "version": "3.9.7"
  }
 },
 "nbformat": 4,
 "nbformat_minor": 5
}
