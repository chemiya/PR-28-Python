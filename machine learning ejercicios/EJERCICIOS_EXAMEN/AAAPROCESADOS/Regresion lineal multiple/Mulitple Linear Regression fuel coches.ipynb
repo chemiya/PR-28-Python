{
 "cells": [
  {
   "cell_type": "markdown",
   "metadata": {
    "button": false,
    "new_sheet": false,
    "run_control": {
     "read_only": false
    }
   },
   "source": [
    "# Multiple Linear Regression\n",
    "\n",
    "\n",
    "\n",
    "\n"
   ]
  },
  {
   "cell_type": "code",
   "execution_count": 1,
   "metadata": {
    "button": false,
    "new_sheet": false,
    "run_control": {
     "read_only": false
    }
   },
   "outputs": [],
   "source": [
    "import matplotlib.pyplot as plt\n",
    "import pandas as pd\n",
    "import pylab as pl\n",
    "import numpy as np\n",
    "%matplotlib inline"
   ]
  },
  {
   "cell_type": "code",
   "execution_count": 2,
   "metadata": {
    "button": false,
    "new_sheet": false,
    "run_control": {
     "read_only": false
    }
   },
   "outputs": [
    {
     "data": {
      "text/html": [
       "<div>\n",
       "<style scoped>\n",
       "    .dataframe tbody tr th:only-of-type {\n",
       "        vertical-align: middle;\n",
       "    }\n",
       "\n",
       "    .dataframe tbody tr th {\n",
       "        vertical-align: top;\n",
       "    }\n",
       "\n",
       "    .dataframe thead th {\n",
       "        text-align: right;\n",
       "    }\n",
       "</style>\n",
       "<table border=\"1\" class=\"dataframe\">\n",
       "  <thead>\n",
       "    <tr style=\"text-align: right;\">\n",
       "      <th></th>\n",
       "      <th>MODELYEAR</th>\n",
       "      <th>MAKE</th>\n",
       "      <th>MODEL</th>\n",
       "      <th>VEHICLECLASS</th>\n",
       "      <th>ENGINESIZE</th>\n",
       "      <th>CYLINDERS</th>\n",
       "      <th>TRANSMISSION</th>\n",
       "      <th>FUELTYPE</th>\n",
       "      <th>FUELCONSUMPTION_CITY</th>\n",
       "      <th>FUELCONSUMPTION_HWY</th>\n",
       "      <th>FUELCONSUMPTION_COMB</th>\n",
       "      <th>FUELCONSUMPTION_COMB_MPG</th>\n",
       "      <th>CO2EMISSIONS</th>\n",
       "    </tr>\n",
       "  </thead>\n",
       "  <tbody>\n",
       "    <tr>\n",
       "      <th>0</th>\n",
       "      <td>2014</td>\n",
       "      <td>ACURA</td>\n",
       "      <td>ILX</td>\n",
       "      <td>COMPACT</td>\n",
       "      <td>2.0</td>\n",
       "      <td>4</td>\n",
       "      <td>AS5</td>\n",
       "      <td>Z</td>\n",
       "      <td>9.9</td>\n",
       "      <td>6.7</td>\n",
       "      <td>8.5</td>\n",
       "      <td>33</td>\n",
       "      <td>196</td>\n",
       "    </tr>\n",
       "    <tr>\n",
       "      <th>1</th>\n",
       "      <td>2014</td>\n",
       "      <td>ACURA</td>\n",
       "      <td>ILX</td>\n",
       "      <td>COMPACT</td>\n",
       "      <td>2.4</td>\n",
       "      <td>4</td>\n",
       "      <td>M6</td>\n",
       "      <td>Z</td>\n",
       "      <td>11.2</td>\n",
       "      <td>7.7</td>\n",
       "      <td>9.6</td>\n",
       "      <td>29</td>\n",
       "      <td>221</td>\n",
       "    </tr>\n",
       "    <tr>\n",
       "      <th>2</th>\n",
       "      <td>2014</td>\n",
       "      <td>ACURA</td>\n",
       "      <td>ILX HYBRID</td>\n",
       "      <td>COMPACT</td>\n",
       "      <td>1.5</td>\n",
       "      <td>4</td>\n",
       "      <td>AV7</td>\n",
       "      <td>Z</td>\n",
       "      <td>6.0</td>\n",
       "      <td>5.8</td>\n",
       "      <td>5.9</td>\n",
       "      <td>48</td>\n",
       "      <td>136</td>\n",
       "    </tr>\n",
       "    <tr>\n",
       "      <th>3</th>\n",
       "      <td>2014</td>\n",
       "      <td>ACURA</td>\n",
       "      <td>MDX 4WD</td>\n",
       "      <td>SUV - SMALL</td>\n",
       "      <td>3.5</td>\n",
       "      <td>6</td>\n",
       "      <td>AS6</td>\n",
       "      <td>Z</td>\n",
       "      <td>12.7</td>\n",
       "      <td>9.1</td>\n",
       "      <td>11.1</td>\n",
       "      <td>25</td>\n",
       "      <td>255</td>\n",
       "    </tr>\n",
       "    <tr>\n",
       "      <th>4</th>\n",
       "      <td>2014</td>\n",
       "      <td>ACURA</td>\n",
       "      <td>RDX AWD</td>\n",
       "      <td>SUV - SMALL</td>\n",
       "      <td>3.5</td>\n",
       "      <td>6</td>\n",
       "      <td>AS6</td>\n",
       "      <td>Z</td>\n",
       "      <td>12.1</td>\n",
       "      <td>8.7</td>\n",
       "      <td>10.6</td>\n",
       "      <td>27</td>\n",
       "      <td>244</td>\n",
       "    </tr>\n",
       "  </tbody>\n",
       "</table>\n",
       "</div>"
      ],
      "text/plain": [
       "   MODELYEAR   MAKE       MODEL VEHICLECLASS  ENGINESIZE  CYLINDERS   \n",
       "0       2014  ACURA         ILX      COMPACT         2.0          4  \\\n",
       "1       2014  ACURA         ILX      COMPACT         2.4          4   \n",
       "2       2014  ACURA  ILX HYBRID      COMPACT         1.5          4   \n",
       "3       2014  ACURA     MDX 4WD  SUV - SMALL         3.5          6   \n",
       "4       2014  ACURA     RDX AWD  SUV - SMALL         3.5          6   \n",
       "\n",
       "  TRANSMISSION FUELTYPE  FUELCONSUMPTION_CITY  FUELCONSUMPTION_HWY   \n",
       "0          AS5        Z                   9.9                  6.7  \\\n",
       "1           M6        Z                  11.2                  7.7   \n",
       "2          AV7        Z                   6.0                  5.8   \n",
       "3          AS6        Z                  12.7                  9.1   \n",
       "4          AS6        Z                  12.1                  8.7   \n",
       "\n",
       "   FUELCONSUMPTION_COMB  FUELCONSUMPTION_COMB_MPG  CO2EMISSIONS  \n",
       "0                   8.5                        33           196  \n",
       "1                   9.6                        29           221  \n",
       "2                   5.9                        48           136  \n",
       "3                  11.1                        25           255  \n",
       "4                  10.6                        27           244  "
      ]
     },
     "execution_count": 2,
     "metadata": {},
     "output_type": "execute_result"
    }
   ],
   "source": [
    "df = pd.read_csv(\"./../../datasets/FuelConsumption.csv\")\n",
    "\n",
    "# cargo el csv\n",
    "df.head()"
   ]
  },
  {
   "cell_type": "code",
   "execution_count": 5,
   "metadata": {
    "button": false,
    "new_sheet": false,
    "run_control": {
     "read_only": false
    }
   },
   "outputs": [
    {
     "data": {
      "text/html": [
       "<div>\n",
       "<style scoped>\n",
       "    .dataframe tbody tr th:only-of-type {\n",
       "        vertical-align: middle;\n",
       "    }\n",
       "\n",
       "    .dataframe tbody tr th {\n",
       "        vertical-align: top;\n",
       "    }\n",
       "\n",
       "    .dataframe thead th {\n",
       "        text-align: right;\n",
       "    }\n",
       "</style>\n",
       "<table border=\"1\" class=\"dataframe\">\n",
       "  <thead>\n",
       "    <tr style=\"text-align: right;\">\n",
       "      <th></th>\n",
       "      <th>ENGINESIZE</th>\n",
       "      <th>CYLINDERS</th>\n",
       "      <th>FUELCONSUMPTION_CITY</th>\n",
       "      <th>FUELCONSUMPTION_HWY</th>\n",
       "    </tr>\n",
       "  </thead>\n",
       "  <tbody>\n",
       "    <tr>\n",
       "      <th>0</th>\n",
       "      <td>2.0</td>\n",
       "      <td>4</td>\n",
       "      <td>9.9</td>\n",
       "      <td>6.7</td>\n",
       "    </tr>\n",
       "    <tr>\n",
       "      <th>1</th>\n",
       "      <td>2.4</td>\n",
       "      <td>4</td>\n",
       "      <td>11.2</td>\n",
       "      <td>7.7</td>\n",
       "    </tr>\n",
       "    <tr>\n",
       "      <th>2</th>\n",
       "      <td>1.5</td>\n",
       "      <td>4</td>\n",
       "      <td>6.0</td>\n",
       "      <td>5.8</td>\n",
       "    </tr>\n",
       "    <tr>\n",
       "      <th>3</th>\n",
       "      <td>3.5</td>\n",
       "      <td>6</td>\n",
       "      <td>12.7</td>\n",
       "      <td>9.1</td>\n",
       "    </tr>\n",
       "    <tr>\n",
       "      <th>4</th>\n",
       "      <td>3.5</td>\n",
       "      <td>6</td>\n",
       "      <td>12.1</td>\n",
       "      <td>8.7</td>\n",
       "    </tr>\n",
       "    <tr>\n",
       "      <th>...</th>\n",
       "      <td>...</td>\n",
       "      <td>...</td>\n",
       "      <td>...</td>\n",
       "      <td>...</td>\n",
       "    </tr>\n",
       "    <tr>\n",
       "      <th>1062</th>\n",
       "      <td>3.0</td>\n",
       "      <td>6</td>\n",
       "      <td>13.4</td>\n",
       "      <td>9.8</td>\n",
       "    </tr>\n",
       "    <tr>\n",
       "      <th>1063</th>\n",
       "      <td>3.2</td>\n",
       "      <td>6</td>\n",
       "      <td>13.2</td>\n",
       "      <td>9.5</td>\n",
       "    </tr>\n",
       "    <tr>\n",
       "      <th>1064</th>\n",
       "      <td>3.0</td>\n",
       "      <td>6</td>\n",
       "      <td>13.4</td>\n",
       "      <td>9.8</td>\n",
       "    </tr>\n",
       "    <tr>\n",
       "      <th>1065</th>\n",
       "      <td>3.2</td>\n",
       "      <td>6</td>\n",
       "      <td>12.9</td>\n",
       "      <td>9.3</td>\n",
       "    </tr>\n",
       "    <tr>\n",
       "      <th>1066</th>\n",
       "      <td>3.2</td>\n",
       "      <td>6</td>\n",
       "      <td>14.9</td>\n",
       "      <td>10.2</td>\n",
       "    </tr>\n",
       "  </tbody>\n",
       "</table>\n",
       "<p>1067 rows × 4 columns</p>\n",
       "</div>"
      ],
      "text/plain": [
       "      ENGINESIZE  CYLINDERS  FUELCONSUMPTION_CITY  FUELCONSUMPTION_HWY\n",
       "0            2.0          4                   9.9                  6.7\n",
       "1            2.4          4                  11.2                  7.7\n",
       "2            1.5          4                   6.0                  5.8\n",
       "3            3.5          6                  12.7                  9.1\n",
       "4            3.5          6                  12.1                  8.7\n",
       "...          ...        ...                   ...                  ...\n",
       "1062         3.0          6                  13.4                  9.8\n",
       "1063         3.2          6                  13.2                  9.5\n",
       "1064         3.0          6                  13.4                  9.8\n",
       "1065         3.2          6                  12.9                  9.3\n",
       "1066         3.2          6                  14.9                 10.2\n",
       "\n",
       "[1067 rows x 4 columns]"
      ]
     },
     "execution_count": 5,
     "metadata": {},
     "output_type": "execute_result"
    }
   ],
   "source": [
    "X = df[['ENGINESIZE','CYLINDERS','FUELCONSUMPTION_CITY','FUELCONSUMPTION_HWY']]\n",
    "X\n",
    "#selecciono solo unas columnas\n",
    "#co2emissions es loq eu se quiere predecir"
   ]
  },
  {
   "cell_type": "code",
   "execution_count": 6,
   "metadata": {},
   "outputs": [
    {
     "data": {
      "text/plain": [
       "0       196\n",
       "1       221\n",
       "2       136\n",
       "3       255\n",
       "4       244\n",
       "       ... \n",
       "1062    271\n",
       "1063    264\n",
       "1064    271\n",
       "1065    260\n",
       "1066    294\n",
       "Name: CO2EMISSIONS, Length: 1067, dtype: int64"
      ]
     },
     "execution_count": 6,
     "metadata": {},
     "output_type": "execute_result"
    }
   ],
   "source": [
    "y=df[\"CO2EMISSIONS\"]\n",
    "y"
   ]
  },
  {
   "cell_type": "code",
   "execution_count": 8,
   "metadata": {
    "button": false,
    "new_sheet": false,
    "run_control": {
     "read_only": false
    },
    "scrolled": true
   },
   "outputs": [
    {
     "data": {
      "image/png": "[encoded data removed]",
      "text/plain": [
       "<Figure size 640x480 with 1 Axes>"
      ]
     },
     "metadata": {},
     "output_type": "display_data"
    }
   ],
   "source": [
    "plt.scatter(X.ENGINESIZE, y, color='blue')#seleccionar columnas con punto\n",
    "plt.xlabel(\"Engine size\")\n",
    "plt.ylabel(\"Emission\")\n",
    "plt.show()\n",
    "#creo grafico en x el tamano y en y las emisiones que es lo que se quiere predecir"
   ]
  },
  {
   "cell_type": "code",
   "execution_count": 10,
   "metadata": {
    "button": false,
    "new_sheet": false,
    "run_control": {
     "read_only": false
    }
   },
   "outputs": [],
   "source": [
    "from sklearn.model_selection import train_test_split\n",
    "X_train,X_test, y_train,y_test=train_test_split(X,y,test_size=1/3)\n"
   ]
  },
  {
   "cell_type": "code",
   "execution_count": 12,
   "metadata": {},
   "outputs": [
    {
     "name": "stdout",
     "output_type": "stream",
     "text": [
      "en train\n",
      "(711, 4)\n",
      "(711,)\n"
     ]
    }
   ],
   "source": [
    "print(\"en train\")\n",
    "print(X_train.shape)\n",
    "print(y_train.shape)"
   ]
  },
  {
   "cell_type": "code",
   "execution_count": 13,
   "metadata": {},
   "outputs": [
    {
     "name": "stdout",
     "output_type": "stream",
     "text": [
      "en test\n",
      "(356, 4)\n",
      "(356,)\n"
     ]
    }
   ],
   "source": [
    "print(\"en test\")\n",
    "print(X_test.shape)\n",
    "print(y_test.shape)"
   ]
  },
  {
   "cell_type": "code",
   "execution_count": 15,
   "metadata": {
    "button": false,
    "new_sheet": false,
    "run_control": {
     "read_only": false
    }
   },
   "outputs": [
    {
     "data": {
      "image/png": "[encoded data removed]",
      "text/plain": [
       "<Figure size 640x480 with 1 Axes>"
      ]
     },
     "metadata": {},
     "output_type": "display_data"
    }
   ],
   "source": [
    "plt.scatter(X_train.ENGINESIZE, y_train,  color='blue')#hace grafico con los valores de esas columnas\n",
    "plt.xlabel(\"Engine size\")\n",
    "plt.ylabel(\"Emission\")\n",
    "plt.show()"
   ]
  },
  {
   "cell_type": "code",
   "execution_count": 16,
   "metadata": {
    "button": false,
    "new_sheet": false,
    "run_control": {
     "read_only": false
    }
   },
   "outputs": [],
   "source": [
    "from sklearn import linear_model\n",
    "regr = linear_model.LinearRegression()#llama la regresion\n",
    "\n"
   ]
  },
  {
   "cell_type": "code",
   "execution_count": 17,
   "metadata": {},
   "outputs": [
    {
     "name": "stdout",
     "output_type": "stream",
     "text": [
      "Coefficients:  [10.05257019  7.48443734  6.43070878  3.14879785]\n",
      "Intercept: 64.03132226787508\n"
     ]
    }
   ],
   "source": [
    "regr.fit (X_train, y_train)#ajusta y saca sus coeficientes\n",
    "\n",
    "print ('Coefficients: ', regr.coef_)#por cada valor en x, cada columna, estos son los valores que se multiplican\n",
    "# 2223x+22223454y+2222354z\n",
    "print(\"Intercept:\",regr.intercept_)#constante que no cambia"
   ]
  },
  {
   "cell_type": "code",
   "execution_count": 18,
   "metadata": {
    "button": false,
    "new_sheet": false,
    "run_control": {
     "read_only": false
    }
   },
   "outputs": [
    {
     "name": "stdout",
     "output_type": "stream",
     "text": [
      "predicion:\n",
      "[199.76650264 308.0892067  216.93950374 243.84792904 315.02843973\n",
      " 174.44140062 199.76650264 349.32397256 213.53262564 313.69117349\n",
      " 212.28641781 329.29866794 187.68864146 202.05052899 202.28554092\n",
      " 299.86087852 248.37010893 257.14689528 315.02843973 203.09420009\n",
      " 256.7640254  198.82628232 205.21263815 261.82135215 269.50859459\n",
      " 285.97650568 183.78290984 197.22084174 184.43039975 304.65063184\n",
      " 234.90853989 340.56491655 321.42363363 306.63750874 196.91038099\n",
      " 326.94960489 189.66957949 285.0303144  198.1654811  185.27600736\n",
      " 352.56004277 271.38754747 312.48719787 191.68304692 344.53421924\n",
      " 203.62492791 256.78470914 273.69225756 263.81855488 218.00749917\n",
      " 197.45442013 210.78144253 190.39395177 214.36492194 324.13783621\n",
      " 217.54034241 263.35581715 178.47275452 258.99480651 313.50871959\n",
      " 394.30219522 254.3647026  388.79064083 295.45698057 185.71654151\n",
      " 320.92248181 250.06278979 190.51960613 212.28641781 361.41813052\n",
      " 254.74757248 210.35720517 259.3096863  194.73427867 238.89557292\n",
      " 306.63750874 271.47478775 249.1137314  219.15467526 208.66452432\n",
      " 371.26849198 211.61672431 262.23084464 204.91106967 251.04736307\n",
      " 194.99006063 214.06335346 394.61707501 198.1654811  186.78241619\n",
      " 442.9800034  285.3496995  189.66957949 235.39196136 207.43010795\n",
      " 263.8422241  256.12537356 276.37389865 222.26890924 361.41813052\n",
      " 246.46751891 350.2553006  264.05213326 248.06854046 301.99704692\n",
      " 190.81675558 187.50678847 257.55343438 229.67288237 197.83729001\n",
      " 180.96672211 249.10483913 299.45580506 203.953119   281.05429439\n",
      " 214.80545609 244.94484538 218.9122046  205.8157751  271.46884888\n",
      " 249.93713543 215.61112977 347.62780156 258.99480651 220.74238549\n",
      " 299.88511657 179.21342359 215.47514958 389.13214323 180.26598697\n",
      " 277.14262389 345.22164308 251.97427208 198.79524067 160.42838793\n",
      " 260.56920544 226.47677817 268.25943336 179.04488191 251.01632142\n",
      " 309.84605953 388.79064083 241.0080721  236.87470097 373.8895154\n",
      " 208.30971061 204.55625596 200.23365941 198.8484859  273.04918668\n",
      " 188.98657469 249.3280596  202.80295744 328.06872481 186.76910488\n",
      " 278.48938331 222.5131139  267.33547775 407.55057371 220.24123368\n",
      " 194.01879866 197.87722393 306.38026114 202.45112921 192.11620864\n",
      " 286.26828507 258.60599776 275.79738431 301.86757444 315.02843973\n",
      " 256.67678512 254.25973198 289.71578429 205.88233164 203.953119\n",
      " 288.10145144 185.83777684 189.66957949 339.58034327 258.26449535\n",
      " 260.50858777 265.46688278 286.2402289  199.77981395 249.97113048\n",
      " 237.56949724 329.31487844 263.21246453 185.49627443 185.18139465\n",
      " 267.94455358 218.79986155 253.15986225 268.25943336 220.08600331\n",
      " 213.24436847 189.66957949 203.28342551 368.58234557 257.40709628\n",
      " 382.58619219 286.28102755 189.97708684 315.02843973 202.05052899\n",
      " 204.87113574 255.87406483 179.69389167 337.10861135 262.52945972\n",
      " 310.45361552 178.68269577 254.44600401 212.81120675 254.17105815\n",
      " 263.85553541 354.16106432 311.78061013 199.73988003 368.87326023\n",
      " 204.4439129  327.67248942 319.64965137 232.06187934 215.73678414\n",
      " 191.9003606  381.18950101 192.3261178  339.58034327 204.45722421\n",
      " 285.59572446 217.95069964 349.32397256 199.05839506 228.18957394\n",
      " 236.24849571 372.28673231 252.50348006 384.04082143 216.66811218\n",
      " 265.37227006 195.37734955 315.60056712 197.85060131 191.9003606\n",
      " 298.8393568  240.65919727 259.4560244  261.25221024 389.13214323\n",
      " 210.46656275 287.26560083 198.097491   394.61707501 218.79986155\n",
      " 332.98556604 307.28057962 248.05522915 225.76715075 182.51007939\n",
      " 190.39395177 194.58056814 353.38783375 251.6727036  307.89260885\n",
      " 329.02667547 245.76383037 354.16106432 268.9498106  259.64524982\n",
      " 300.51726071 186.76910488 240.71981493 377.60160257 190.65415277\n",
      " 332.31291915 315.02843973 204.13640555 299.88511657 257.3848927\n",
      " 247.41215827 345.72279489 159.72765278 248.50170217 230.65393343\n",
      " 400.65417381 204.69522163 217.8685335  210.14135713 289.71578429\n",
      " 221.86592444 285.37689094 312.70660021 256.12537356 392.42142659\n",
      " 246.55917823 263.175484   316.22886105 269.54557512 400.65417381\n",
      " 310.73983822 302.05029216 251.02074045 182.88999587 361.41813052\n",
      " 267.87062461 262.28113648 158.85724285 258.13146856 271.13328535\n",
      " 332.71062018 211.5901017  222.00420292 238.41567367 347.15822814\n",
      " 252.34383065 255.24430526 217.58764876 299.68496441 240.81147425\n",
      " 223.42996546 191.9003606  342.94650901 216.89727153 226.55664601\n",
      " 167.42823862 310.7684953  247.72703805 299.68496441 328.06872481\n",
      " 257.36716235 406.4259292  254.55392803 204.88444705 262.87391552\n",
      " 386.76391628 180.80113383 258.99922555 279.89082152 201.92929366\n",
      " 248.15578074 200.97134299 204.772104   195.2132811  324.0890963\n",
      " 295.45698057 203.87325116 407.55057371 277.97492019 247.43878089\n",
      " 184.14951501 268.59499689 222.6472738  318.39013222 380.77672713\n",
      " 270.7444766 ]\n"
     ]
    }
   ],
   "source": [
    "y_hat= regr.predict(X_test)#hacemos prediccion \n",
    "print(\"predicion:\")\n",
    "print(y_hat)"
   ]
  },
  {
   "cell_type": "code",
   "execution_count": 19,
   "metadata": {},
   "outputs": [
    {
     "name": "stdout",
     "output_type": "stream",
     "text": [
      "0.86382091283594\n"
     ]
    }
   ],
   "source": [
    "print(regr.score(X_test,y_test))"
   ]
  },
  {
   "cell_type": "code",
   "execution_count": 22,
   "metadata": {},
   "outputs": [
    {
     "data": {
      "text/plain": [
       "544.8892888762318"
      ]
     },
     "execution_count": 22,
     "metadata": {},
     "output_type": "execute_result"
    }
   ],
   "source": [
    "from sklearn.metrics import mean_squared_error\n",
    "mse = mean_squared_error(y_true = y_test, y_pred = y_hat)\n",
    "mse"
   ]
  }
 ],
 "metadata": {
  "kernelspec": {
   "display_name": "Python 3",
   "language": "python",
   "name": "python3"
  },
  "language_info": {
   "codemirror_mode": {
    "name": "ipython",
    "version": 3
   },
   "file_extension": ".py",
   "mimetype": "text/x-python",
   "name": "python",
   "nbconvert_exporter": "python",
   "pygments_lexer": "ipython3",
   "version": "3.11.2"
  },
  "vscode": {
   "interpreter": {
    "hash": "6a99fcdf587a9b7f60090dd3b730569266bf09a8a4c6a3d9d62687823b8d432a"
   }
  },
  "widgets": {
   "state": {},
   "version": "1.1.2"
  }
 },
 "nbformat": 4,
 "nbformat_minor": 4
}
