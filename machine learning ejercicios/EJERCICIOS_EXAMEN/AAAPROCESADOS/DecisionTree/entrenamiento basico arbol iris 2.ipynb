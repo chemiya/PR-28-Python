{
 "cells": [
  {
   "cell_type": "code",
   "execution_count": 1,
   "id": "be1ba318",
   "metadata": {},
   "outputs": [],
   "source": [
    "from sklearn.datasets import load_iris\n",
    "from sklearn.model_selection import train_test_split\n",
    "from sklearn.tree import DecisionTreeClassifier\n",
    "from sklearn.metrics import accuracy_score,confusion_matrix,precision_score"
   ]
  },
  {
   "cell_type": "code",
   "execution_count": 2,
   "id": "0a371280",
   "metadata": {},
   "outputs": [],
   "source": [
    "iris=load_iris()#cargo los datos"
   ]
  },
  {
   "cell_type": "code",
   "execution_count": 3,
   "id": "1992637f",
   "metadata": {},
   "outputs": [
    {
     "name": "stdout",
     "output_type": "stream",
     "text": [
      "(150, 4)\n",
      "(150,)\n"
     ]
    }
   ],
   "source": [
    "print(iris.data.shape)\n",
    "print(iris.target.shape)"
   ]
  },
  {
   "cell_type": "code",
   "execution_count": 4,
   "id": "e511310f",
   "metadata": {},
   "outputs": [],
   "source": [
    "X_train,X_test,y_train,y_test=train_test_split(iris.data,iris.target,train_size=2/3,stratify=iris.target)#separo los datos"
   ]
  },
  {
   "cell_type": "code",
   "execution_count": 5,
   "id": "7d00d2d5",
   "metadata": {},
   "outputs": [
    {
     "name": "stdout",
     "output_type": "stream",
     "text": [
      "(100, 4)\n",
      "(50, 4)\n",
      "(100,)\n",
      "(50,)\n",
      "<class 'numpy.ndarray'>\n",
      "<class 'numpy.ndarray'>\n",
      "<class 'numpy.ndarray'>\n",
      "<class 'numpy.ndarray'>\n"
     ]
    }
   ],
   "source": [
    "print(X_train.shape)\n",
    "print(X_test.shape)\n",
    "print(y_train.shape)\n",
    "print(y_test.shape)\n",
    "print(type(X_train))\n",
    "print(type(X_test))\n",
    "print(type(y_train))\n",
    "print(type(y_test))"
   ]
  },
  {
   "cell_type": "code",
   "execution_count": 7,
   "id": "1d4ac2bf",
   "metadata": {},
   "outputs": [
    {
     "data": {
      "text/plain": [
       "'X_train=[6.4, 3.2, 4.5, 1.5],\\n       [5.1, 2.5, 3. , 1.1],\\n       [5.2, 2.7, 3.9, 1.4],\\n       [6.2, 2.8, 4.8, 1.8],\\n       \\n       \\n       \\n       \\n       \\n       \\n       '"
      ]
     },
     "execution_count": 7,
     "metadata": {},
     "output_type": "execute_result"
    }
   ],
   "source": [
    "\n",
    "'''\n",
    "X_train=[6.4, 3.2, 4.5, 1.5],\n",
    "       [5.1, 2.5, 3. , 1.1],\n",
    "       [5.2, 2.7, 3.9, 1.4],\n",
    "       [6.2, 2.8, 4.8, 1.8]\n",
    "\n",
    "       100-----\n",
    "\n",
    "\n",
    "y_train=[1, 1, 1, 2, 2, 0, 1, 0, 2, 2, 0, 1, 0, 1, 2, 0,\n",
    "\n",
    "       100-----\n",
    "\n",
    "\n",
    "\n",
    "\n",
    "\n",
    "X_test=[4.4, 3. , 1.3, 0.2],\n",
    "       [6. , 2.9, 4.5, 1.5],\n",
    "       [5.1, 3.4, 1.5, 0.2],\n",
    "       [4.6, 3.6, 1. , 0.2],\n",
    "\n",
    "       50------\n",
    "\n",
    "       \n",
    "       \n",
    "\n",
    "y_test=[0, 1, 0, 0, 2, 1, 2, 2, 0, 0, 0, 1, 2,\n",
    "\n",
    "       50------\n",
    "       \n",
    "       \n",
    "       \n",
    "       \n",
    "       '''"
   ]
  },
  {
   "cell_type": "code",
   "execution_count": 11,
   "id": "22bcd702",
   "metadata": {},
   "outputs": [],
   "source": [
    "clf=DecisionTreeClassifier()#defino el algoritmo"
   ]
  },
  {
   "cell_type": "code",
   "execution_count": 12,
   "id": "3dabd6c9",
   "metadata": {},
   "outputs": [
    {
     "data": {
      "text/html": [
       "<style>#sk-container-id-1 {color: black;background-color: white;}#sk-container-id-1 pre{padding: 0;}#sk-container-id-1 div.sk-toggleable {background-color: white;}#sk-container-id-1 label.sk-toggleable__label {cursor: pointer;display: block;width: 100%;margin-bottom: 0;padding: 0.3em;box-sizing: border-box;text-align: center;}#sk-container-id-1 label.sk-toggleable__label-arrow:before {content: \"▸\";float: left;margin-right: 0.25em;color: #696969;}#sk-container-id-1 label.sk-toggleable__label-arrow:hover:before {color: black;}#sk-container-id-1 div.sk-estimator:hover label.sk-toggleable__label-arrow:before {color: black;}#sk-container-id-1 div.sk-toggleable__content {max-height: 0;max-width: 0;overflow: hidden;text-align: left;background-color: #f0f8ff;}#sk-container-id-1 div.sk-toggleable__content pre {margin: 0.2em;color: black;border-radius: 0.25em;background-color: #f0f8ff;}#sk-container-id-1 input.sk-toggleable__control:checked~div.sk-toggleable__content {max-height: 200px;max-width: 100%;overflow: auto;}#sk-container-id-1 input.sk-toggleable__control:checked~label.sk-toggleable__label-arrow:before {content: \"▾\";}#sk-container-id-1 div.sk-estimator input.sk-toggleable__control:checked~label.sk-toggleable__label {background-color: #d4ebff;}#sk-container-id-1 div.sk-label input.sk-toggleable__control:checked~label.sk-toggleable__label {background-color: #d4ebff;}#sk-container-id-1 input.sk-hidden--visually {border: 0;clip: rect(1px 1px 1px 1px);clip: rect(1px, 1px, 1px, 1px);height: 1px;margin: -1px;overflow: hidden;padding: 0;position: absolute;width: 1px;}#sk-container-id-1 div.sk-estimator {font-family: monospace;background-color: #f0f8ff;border: 1px dotted black;border-radius: 0.25em;box-sizing: border-box;margin-bottom: 0.5em;}#sk-container-id-1 div.sk-estimator:hover {background-color: #d4ebff;}#sk-container-id-1 div.sk-parallel-item::after {content: \"\";width: 100%;border-bottom: 1px solid gray;flex-grow: 1;}#sk-container-id-1 div.sk-label:hover label.sk-toggleable__label {background-color: #d4ebff;}#sk-container-id-1 div.sk-serial::before {content: \"\";position: absolute;border-left: 1px solid gray;box-sizing: border-box;top: 0;bottom: 0;left: 50%;z-index: 0;}#sk-container-id-1 div.sk-serial {display: flex;flex-direction: column;align-items: center;background-color: white;padding-right: 0.2em;padding-left: 0.2em;position: relative;}#sk-container-id-1 div.sk-item {position: relative;z-index: 1;}#sk-container-id-1 div.sk-parallel {display: flex;align-items: stretch;justify-content: center;background-color: white;position: relative;}#sk-container-id-1 div.sk-item::before, #sk-container-id-1 div.sk-parallel-item::before {content: \"\";position: absolute;border-left: 1px solid gray;box-sizing: border-box;top: 0;bottom: 0;left: 50%;z-index: -1;}#sk-container-id-1 div.sk-parallel-item {display: flex;flex-direction: column;z-index: 1;position: relative;background-color: white;}#sk-container-id-1 div.sk-parallel-item:first-child::after {align-self: flex-end;width: 50%;}#sk-container-id-1 div.sk-parallel-item:last-child::after {align-self: flex-start;width: 50%;}#sk-container-id-1 div.sk-parallel-item:only-child::after {width: 0;}#sk-container-id-1 div.sk-dashed-wrapped {border: 1px dashed gray;margin: 0 0.4em 0.5em 0.4em;box-sizing: border-box;padding-bottom: 0.4em;background-color: white;}#sk-container-id-1 div.sk-label label {font-family: monospace;font-weight: bold;display: inline-block;line-height: 1.2em;}#sk-container-id-1 div.sk-label-container {text-align: center;}#sk-container-id-1 div.sk-container {/* jupyter's `normalize.less` sets `[hidden] { display: none; }` but bootstrap.min.css set `[hidden] { display: none !important; }` so we also need the `!important` here to be able to override the default hidden behavior on the sphinx rendered scikit-learn.org. See: https://github.com/scikit-learn/scikit-learn/issues/21755 */display: inline-block !important;position: relative;}#sk-container-id-1 div.sk-text-repr-fallback {display: none;}</style><div id=\"sk-container-id-1\" class=\"sk-top-container\"><div class=\"sk-text-repr-fallback\"><pre>DecisionTreeClassifier()</pre><b>In a Jupyter environment, please rerun this cell to show the HTML representation or trust the notebook. <br />On GitHub, the HTML representation is unable to render, please try loading this page with nbviewer.org.</b></div><div class=\"sk-container\" hidden><div class=\"sk-item\"><div class=\"sk-estimator sk-toggleable\"><input class=\"sk-toggleable__control sk-hidden--visually\" id=\"sk-estimator-id-1\" type=\"checkbox\" checked><label for=\"sk-estimator-id-1\" class=\"sk-toggleable__label sk-toggleable__label-arrow\">DecisionTreeClassifier</label><div class=\"sk-toggleable__content\"><pre>DecisionTreeClassifier()</pre></div></div></div></div></div>"
      ],
      "text/plain": [
       "DecisionTreeClassifier()"
      ]
     },
     "execution_count": 12,
     "metadata": {},
     "output_type": "execute_result"
    }
   ],
   "source": [
    "clf.fit(X_train,y_train)# entreno el modelo con los de train"
   ]
  },
  {
   "cell_type": "code",
   "execution_count": 13,
   "id": "8d92208b",
   "metadata": {},
   "outputs": [],
   "source": [
    "y_test_pred=clf.predict(X_test)#hago la predicion sobre el x de test"
   ]
  },
  {
   "cell_type": "code",
   "execution_count": 14,
   "id": "ac0c759d",
   "metadata": {},
   "outputs": [
    {
     "name": "stdout",
     "output_type": "stream",
     "text": [
      "0.94\n"
     ]
    }
   ],
   "source": [
    "sc=accuracy_score(y_test,y_test_pred)#puntuacion con el test original y el generado\n",
    "print(sc)"
   ]
  },
  {
   "cell_type": "code",
   "execution_count": 15,
   "id": "2d4bbdfe",
   "metadata": {},
   "outputs": [],
   "source": [
    "import pandas as pd"
   ]
  },
  {
   "cell_type": "code",
   "execution_count": 33,
   "id": "8d3202b8",
   "metadata": {},
   "outputs": [
    {
     "name": "stdout",
     "output_type": "stream",
     "text": [
      "    Prediccion  Original\n",
      "0            0         0\n",
      "1            1         1\n",
      "2            0         0\n",
      "3            0         0\n",
      "4            2         2\n",
      "5            1         1\n",
      "6            2         2\n",
      "7            2         2\n",
      "8            0         0\n",
      "9            0         0\n",
      "10           0         0\n",
      "11           1         1\n",
      "12           2         2\n",
      "13           0         0\n",
      "14           2         2\n",
      "15           2         2\n",
      "16           0         0\n",
      "17           2         2\n",
      "18           1         1\n",
      "19           1         1\n",
      "20           0         0\n",
      "21           0         0\n",
      "22           2         2\n",
      "23           1         1\n",
      "24           1         1\n",
      "25           0         0\n",
      "26           0         0\n",
      "27           0         0\n",
      "28           1         2\n",
      "29           1         1\n",
      "30           1         1\n",
      "31           2         2\n",
      "32           0         0\n",
      "33           1         1\n",
      "34           2         2\n",
      "35           2         1\n",
      "36           0         0\n",
      "37           2         2\n",
      "38           1         2\n",
      "39           1         1\n",
      "40           2         2\n",
      "41           0         0\n",
      "42           1         1\n",
      "43           1         1\n",
      "44           0         0\n",
      "45           1         1\n",
      "46           1         1\n",
      "47           2         2\n",
      "48           1         1\n",
      "49           2         2\n"
     ]
    }
   ],
   "source": [
    "juntosOtro=pd.DataFrame(columns=[\"Prediccion\",\"Original\"])\n",
    "juntosOtro[\"Prediccion\"]=y_test_pred\n",
    "juntosOtro[\"Original\"]=y_test\n",
    "print(juntosOtro)"
   ]
  },
  {
   "cell_type": "code",
   "execution_count": 16,
   "id": "58668db7",
   "metadata": {},
   "outputs": [
    {
     "name": "stdout",
     "output_type": "stream",
     "text": [
      "    Prediccion  Original\n",
      "0            0         0\n",
      "1            1         1\n",
      "2            0         0\n",
      "3            0         0\n",
      "4            2         2\n",
      "5            1         1\n",
      "6            2         2\n",
      "7            2         2\n",
      "8            0         0\n",
      "9            0         0\n",
      "10           0         0\n",
      "11           1         1\n",
      "12           2         2\n",
      "13           0         0\n",
      "14           2         2\n",
      "15           2         2\n",
      "16           0         0\n",
      "17           2         2\n",
      "18           1         1\n",
      "19           1         1\n",
      "20           0         0\n",
      "21           0         0\n",
      "22           2         2\n",
      "23           1         1\n",
      "24           1         1\n",
      "25           0         0\n",
      "26           0         0\n",
      "27           0         0\n",
      "28           1         2\n",
      "29           1         1\n",
      "30           1         1\n",
      "31           2         2\n",
      "32           0         0\n",
      "33           1         1\n",
      "34           2         2\n",
      "35           2         1\n",
      "36           0         0\n",
      "37           2         2\n",
      "38           1         2\n",
      "39           1         1\n",
      "40           2         2\n",
      "41           0         0\n",
      "42           1         1\n",
      "43           1         1\n",
      "44           0         0\n",
      "45           1         1\n",
      "46           1         1\n",
      "47           2         2\n",
      "48           1         1\n",
      "49           2         2\n"
     ]
    }
   ],
   "source": [
    "juntos = pd.DataFrame(list(zip(y_test_pred, y_test)),columns =['Prediccion', 'Original'])\n",
    "print(juntos)#zip junta en un iterador y empareja las muestras"
   ]
  },
  {
   "cell_type": "code",
   "execution_count": 17,
   "id": "6d92f024",
   "metadata": {},
   "outputs": [],
   "source": [
    "juntos[\"Diferente\"]=0#inserta fila con ceros"
   ]
  },
  {
   "cell_type": "code",
   "execution_count": 21,
   "id": "74c717e2",
   "metadata": {},
   "outputs": [
    {
     "name": "stdout",
     "output_type": "stream",
     "text": [
      "1\n",
      "0\n"
     ]
    }
   ],
   "source": [
    "print(juntos.iloc[5][\"Prediccion\"])\n",
    "print(juntos.at[9,\"Prediccion\"])"
   ]
  },
  {
   "cell_type": "code",
   "execution_count": 22,
   "id": "fa0ad315",
   "metadata": {},
   "outputs": [],
   "source": [
    "for i in range(len(juntos)):\n",
    "    if(juntos.iloc[i][\"Prediccion\"]!=juntos.iloc[i][\"Original\"]):#recorro elementos y los comparo\n",
    "        juntos.at[i,\"Diferente\"]=1#pongo en la celda 1\n",
    "\n",
    "    \n",
    "        "
   ]
  },
  {
   "cell_type": "code",
   "execution_count": 24,
   "id": "b6722167",
   "metadata": {},
   "outputs": [],
   "source": [
    "cantidad=len(juntos)\n",
    "\n",
    "\n",
    "#agrupa por diferente y los cuenta\n",
    "df2 = juntos.groupby([\"Diferente\"])[\"Diferente\"].count()\n"
   ]
  },
  {
   "cell_type": "code",
   "execution_count": 28,
   "id": "84fe2ee3",
   "metadata": {},
   "outputs": [
    {
     "name": "stdout",
     "output_type": "stream",
     "text": [
      "3\n"
     ]
    }
   ],
   "source": [
    "suma=juntos[\"Diferente\"].sum()\n",
    "print(suma)"
   ]
  },
  {
   "cell_type": "code",
   "execution_count": 29,
   "id": "c3dc08da",
   "metadata": {},
   "outputs": [
    {
     "name": "stdout",
     "output_type": "stream",
     "text": [
      "La proporcion es de:  0.94\n"
     ]
    }
   ],
   "source": [
    "\n",
    "prop=df2.iloc[0]/cantidad#divido los correctos entre todos\n",
    "print(\"La proporcion es de: \",prop)\n"
   ]
  },
  {
   "cell_type": "code",
   "execution_count": 30,
   "id": "509d1e48",
   "metadata": {},
   "outputs": [
    {
     "name": "stdout",
     "output_type": "stream",
     "text": [
      "[[17  0  0]\n",
      " [ 0 16  2]\n",
      " [ 0  1 14]]\n"
     ]
    }
   ],
   "source": [
    "confusion_matrix=confusion_matrix(y_test_pred,y_test)#matriz de confusion con los orginales y los de test\n",
    "print(confusion_matrix)\n"
   ]
  },
  {
   "cell_type": "code",
   "execution_count": 31,
   "id": "3297ed6e",
   "metadata": {},
   "outputs": [
    {
     "data": {
      "image/png": "[encoded data removed]",
      "text/plain": [
       "<Figure size 640x480 with 2 Axes>"
      ]
     },
     "metadata": {},
     "output_type": "display_data"
    }
   ],
   "source": [
    "from sklearn import metrics\n",
    "import matplotlib.pyplot as plt\n",
    "cm_display = metrics.ConfusionMatrixDisplay(confusion_matrix = confusion_matrix, display_labels = [0,1,2])\n",
    "cm_display.plot()\n",
    "plt.show()"
   ]
  },
  {
   "cell_type": "code",
   "execution_count": null,
   "id": "ddb09bd2",
   "metadata": {},
   "outputs": [],
   "source": [
    "#fila de arriba: true positives, false positive\n",
    "#fila de abajo: false negatives, true negative\n",
    "#false positive: predijo true y era false\n",
    "#false negative: predijo false y era true"
   ]
  },
  {
   "cell_type": "code",
   "execution_count": null,
   "id": "6e60db5c",
   "metadata": {},
   "outputs": [],
   "source": []
  }
 ],
 "metadata": {
  "kernelspec": {
   "display_name": "Python 3 (ipykernel)",
   "language": "python",
   "name": "python3"
  },
  "language_info": {
   "codemirror_mode": {
    "name": "ipython",
    "version": 3
   },
   "file_extension": ".py",
   "mimetype": "text/x-python",
   "name": "python",
   "nbconvert_exporter": "python",
   "pygments_lexer": "ipython3",
   "version": "3.11.2"
  }
 },
 "nbformat": 4,
 "nbformat_minor": 5
}
