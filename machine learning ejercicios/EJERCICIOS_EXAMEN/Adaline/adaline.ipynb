{
 "cells": [
  {
   "cell_type": "code",
   "execution_count": 1,
   "metadata": {},
   "outputs": [],
   "source": [
    "# Import necessary libraries\n",
    "import numpy as np"
   ]
  },
  {
   "cell_type": "code",
   "execution_count": 2,
   "metadata": {},
   "outputs": [],
   "source": [
    "#Adaline neural network\n",
    "def Adaline(Input, Target, lr=0.2, stop=0.001):\n",
    "    weight = np.random.random(Input.shape[1])\n",
    "    bias   = np.random.random(1)\n",
    "    \n",
    "    Error=[stop +1]\n",
    "    # check the stop condition for the network\n",
    "    while Error[-1] > stop or Error[-1]-Error[-2] > 0.0001:\n",
    "        error = []\n",
    "        for i in range(Input.shape[0]):\n",
    "            Y_input = sum(weight*Input[i]) + bias\n",
    "             \n",
    "            # Update the weight\n",
    "            for j in range(Input.shape[1]):\n",
    "                weight[j]=weight[j] + lr*(Target[i]-Y_input)*Input[i][j]\n",
    " \n",
    "            # Update the bias\n",
    "            bias=bias + lr*(Target[i]-Y_input)\n",
    "             \n",
    "            # Store squared error value\n",
    "            error.append((Target[i]-Y_input)**2)\n",
    "        # Store sum of square errors\n",
    "        Error.append(sum(error))\n",
    "        print('Error :',Error[-1])\n",
    "    return weight, bias"
   ]
  },
  {
   "cell_type": "code",
   "execution_count": 3,
   "metadata": {},
   "outputs": [],
   "source": [
    "# Input dataset\n",
    "x = np.array([[1.0, 1.0, 1.0],\n",
    "              [1.0, -1.0, 1.0],\n",
    "              [-1.0, 1.0, 1.0],\n",
    "              [-1.0, -1.0, -1.0]])"
   ]
  },
  {
   "cell_type": "code",
   "execution_count": 4,
   "metadata": {},
   "outputs": [],
   "source": [
    "# Target values\n",
    "t = np.array([1, 1, 1, -1])"
   ]
  },
  {
   "cell_type": "code",
   "execution_count": 5,
   "metadata": {},
   "outputs": [
    {
     "name": "stdout",
     "output_type": "stream",
     "text": [
      "Error : [3.5393319]\n",
      "Error : [1.02986717]\n",
      "Error : [0.67632673]\n",
      "Error : [0.46666749]\n",
      "Error : [0.32291874]\n",
      "Error : [0.22348598]\n",
      "Error : [0.15467191]\n",
      "Error : [0.1070466]\n",
      "Error : [0.07408568]\n",
      "Error : [0.05127382]\n",
      "Error : [0.035486]\n",
      "Error : [0.02455944]\n",
      "Error : [0.0169973]\n",
      "Error : [0.01176363]\n",
      "Error : [0.00814147]\n",
      "Error : [0.00563461]\n",
      "Error : [0.00389965]\n",
      "Error : [0.0026989]\n",
      "Error : [0.00186788]\n",
      "Error : [0.00129274]\n",
      "Error : [0.00089469]\n",
      "weight : [0.01035625 0.01035625 0.98731624]\n",
      "Bias : [0.01035625]\n"
     ]
    }
   ],
   "source": [
    "w,b = Adaline(x, t, lr=0.2, stop=0.001)\n",
    "print('weight :',w)\n",
    "print('Bias :',b)"
   ]
  },
  {
   "cell_type": "code",
   "execution_count": 6,
   "metadata": {},
   "outputs": [],
   "source": [
    "def prediction(X,w,b):\n",
    "    y=[]\n",
    "    for i in range(X.shape[0]):\n",
    "        x = X[i]\n",
    "        y.append(sum(w*x)+b)\n",
    "    return y\n"
   ]
  },
  {
   "cell_type": "code",
   "execution_count": 7,
   "metadata": {},
   "outputs": [
    {
     "data": {
      "text/plain": [
       "[array([1.01838499]),\n",
       " array([0.99767249]),\n",
       " array([0.99767249]),\n",
       " array([-0.99767249])]"
      ]
     },
     "execution_count": 7,
     "metadata": {},
     "output_type": "execute_result"
    }
   ],
   "source": [
    "prediction(x,w,b)"
   ]
  }
 ],
 "metadata": {
  "kernelspec": {
   "display_name": "Python 3",
   "language": "python",
   "name": "python3"
  },
  "language_info": {
   "codemirror_mode": {
    "name": "ipython",
    "version": 3
   },
   "file_extension": ".py",
   "mimetype": "text/x-python",
   "name": "python",
   "nbconvert_exporter": "python",
   "pygments_lexer": "ipython3",
   "version": "3.10.5"
  },
  "orig_nbformat": 4
 },
 "nbformat": 4,
 "nbformat_minor": 2
}
