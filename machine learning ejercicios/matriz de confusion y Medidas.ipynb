{
 "cells": [
  {
   "cell_type": "code",
   "execution_count": 1,
   "metadata": {},
   "outputs": [],
   "source": [
    "import numpy"
   ]
  },
  {
   "cell_type": "code",
   "execution_count": 5,
   "metadata": {},
   "outputs": [],
   "source": [
    "actual = numpy.random.binomial(1, 0.9, size = 1000)#1000 muestras, 1 experimento(lanzar moneda 1 vez)\n",
    "# con 0,9 de probabilidad\n",
    "predicted = numpy.random.binomial(1, 0.9, size = 1000)\n",
    "\n"
   ]
  },
  {
   "cell_type": "code",
   "execution_count": 7,
   "metadata": {},
   "outputs": [],
   "source": [
    "from sklearn import metrics\n",
    "confusion_matrix = metrics.confusion_matrix(actual, predicted) #con lo actual y la predicion"
   ]
  },
  {
   "cell_type": "code",
   "execution_count": 8,
   "metadata": {},
   "outputs": [],
   "source": [
    "cm_display = metrics.ConfusionMatrixDisplay(confusion_matrix = confusion_matrix, display_labels = [False, True])\n",
    "#mostrar la matriz"
   ]
  },
  {
   "cell_type": "code",
   "execution_count": 9,
   "metadata": {},
   "outputs": [
    {
     "data": {
      "image/png": "[encoded data removed]",
      "text/plain": [
       "<Figure size 432x288 with 2 Axes>"
      ]
     },
     "metadata": {
      "needs_background": "light"
     },
     "output_type": "display_data"
    }
   ],
   "source": [
    "import matplotlib.pyplot as plt\n",
    "cm_display.plot()#hacer el grafico\n",
    "plt.show()\n"
   ]
  },
  {
   "cell_type": "code",
   "execution_count": 11,
   "metadata": {},
   "outputs": [
    {
     "name": "stdout",
     "output_type": "stream",
     "text": [
      "0.817\n"
     ]
    }
   ],
   "source": [
    "Accuracy = metrics.accuracy_score(actual, predicted)\n",
    "print(Accuracy)#(verdaderos positivos+verdaderos negativos)/todas las prediciones\n",
    "#mide cuanto de correcto es"
   ]
  },
  {
   "cell_type": "code",
   "execution_count": 12,
   "metadata": {},
   "outputs": [
    {
     "name": "stdout",
     "output_type": "stream",
     "text": [
      "0.8995535714285714\n"
     ]
    }
   ],
   "source": [
    "Precision = metrics.precision_score(actual, predicted)\n",
    "print(Precision)#verdadero positivos/(verdaderos positivos+falsos positivos)\n",
    "# de los positivos, cuantos eran verdaderamente positivos"
   ]
  },
  {
   "cell_type": "code",
   "execution_count": null,
   "metadata": {},
   "outputs": [],
   "source": [
    "Sensitivity_recall = metrics.recall_score(actual, predicted)\n",
    "print(Sensitivity_recall)#verdadero positiovs/(verdadero positivos+falsos negativos)\n",
    "# de los positivos cuantos son predecidos positivos\n",
    "#como de bien predice cuando son positivos"
   ]
  },
  {
   "cell_type": "code",
   "execution_count": 13,
   "metadata": {},
   "outputs": [
    {
     "name": "stdout",
     "output_type": "stream",
     "text": [
      "0.10891089108910891\n"
     ]
    }
   ],
   "source": [
    "Specificity = metrics.recall_score(actual, predicted, pos_label=0)\n",
    "print(Specificity)#verdaderos negatiovs/(verdaderos negativos+falsos positivos)\n",
    "# como de bien predice los ngativos"
   ]
  },
  {
   "cell_type": "code",
   "execution_count": 14,
   "metadata": {},
   "outputs": [
    {
     "name": "stdout",
     "output_type": "stream",
     "text": [
      "0.898050139275766\n"
     ]
    }
   ],
   "source": [
    "F1_score = metrics.f1_score(actual, predicted)\n",
    "print(F1_score)#2*((precision*sensitivity)/(precision+sensitivyt))\n",
    "#media armonica precision y sensitivada"
   ]
  }
 ],
 "metadata": {
  "kernelspec": {
   "display_name": "Python 3.10.5 64-bit",
   "language": "python",
   "name": "python3"
  },
  "language_info": {
   "codemirror_mode": {
    "name": "ipython",
    "version": 3
   },
   "file_extension": ".py",
   "mimetype": "text/x-python",
   "name": "python",
   "nbconvert_exporter": "python",
   "pygments_lexer": "ipython3",
   "version": "3.10.5"
  },
  "orig_nbformat": 4,
  "vscode": {
   "interpreter": {
    "hash": "6a99fcdf587a9b7f60090dd3b730569266bf09a8a4c6a3d9d62687823b8d432a"
   }
  }
 },
 "nbformat": 4,
 "nbformat_minor": 2
}
